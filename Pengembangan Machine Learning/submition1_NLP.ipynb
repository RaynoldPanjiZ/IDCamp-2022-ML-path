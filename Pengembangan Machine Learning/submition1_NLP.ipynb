{
  "nbformat": 4,
  "nbformat_minor": 0,
  "metadata": {
    "colab": {
      "provenance": [],
      "collapsed_sections": []
    },
    "kernelspec": {
      "name": "python3",
      "display_name": "Python 3"
    },
    "language_info": {
      "name": "python"
    },
    "accelerator": "GPU"
  },
  "cells": [
    {
      "cell_type": "markdown",
      "source": [
        "# Text Classification - LSTM"
      ],
      "metadata": {
        "id": "S8gyxkWczQU5"
      }
    },
    {
      "cell_type": "markdown",
      "source": [
        "**Raynold Panji Zulfiandi**\n",
        "\n",
        "> Dataset : https://www.kaggle.com/datasets/athu1105/book-genre-prediction"
      ],
      "metadata": {
        "id": "kK9ve4EKzbmu"
      }
    },
    {
      "cell_type": "markdown",
      "source": [
        "## Download Datasets"
      ],
      "metadata": {
        "id": "vxKQj-9s8hWo"
      }
    },
    {
      "cell_type": "code",
      "source": [
        "# install kaggle package\n",
        "!pip install -q kaggle"
      ],
      "metadata": {
        "id": "HFDYQJ9W3SbX"
      },
      "execution_count": 1,
      "outputs": []
    },
    {
      "cell_type": "code",
      "source": [
        "# upload kaggle.json\n",
        "from google.colab import files\n",
        "files.upload()"
      ],
      "metadata": {
        "colab": {
          "base_uri": "https://localhost:8080/",
          "height": 92
        },
        "id": "7SVlISO83W7v",
        "outputId": "30371206-acea-437e-d40f-43d19e5bb65e"
      },
      "execution_count": 2,
      "outputs": [
        {
          "output_type": "display_data",
          "data": {
            "text/plain": [
              "<IPython.core.display.HTML object>"
            ],
            "text/html": [
              "\n",
              "     <input type=\"file\" id=\"files-7b2b635a-869c-4fd5-9941-38b69166854a\" name=\"files[]\" multiple disabled\n",
              "        style=\"border:none\" />\n",
              "     <output id=\"result-7b2b635a-869c-4fd5-9941-38b69166854a\">\n",
              "      Upload widget is only available when the cell has been executed in the\n",
              "      current browser session. Please rerun this cell to enable.\n",
              "      </output>\n",
              "      <script>// Copyright 2017 Google LLC\n",
              "//\n",
              "// Licensed under the Apache License, Version 2.0 (the \"License\");\n",
              "// you may not use this file except in compliance with the License.\n",
              "// You may obtain a copy of the License at\n",
              "//\n",
              "//      http://www.apache.org/licenses/LICENSE-2.0\n",
              "//\n",
              "// Unless required by applicable law or agreed to in writing, software\n",
              "// distributed under the License is distributed on an \"AS IS\" BASIS,\n",
              "// WITHOUT WARRANTIES OR CONDITIONS OF ANY KIND, either express or implied.\n",
              "// See the License for the specific language governing permissions and\n",
              "// limitations under the License.\n",
              "\n",
              "/**\n",
              " * @fileoverview Helpers for google.colab Python module.\n",
              " */\n",
              "(function(scope) {\n",
              "function span(text, styleAttributes = {}) {\n",
              "  const element = document.createElement('span');\n",
              "  element.textContent = text;\n",
              "  for (const key of Object.keys(styleAttributes)) {\n",
              "    element.style[key] = styleAttributes[key];\n",
              "  }\n",
              "  return element;\n",
              "}\n",
              "\n",
              "// Max number of bytes which will be uploaded at a time.\n",
              "const MAX_PAYLOAD_SIZE = 100 * 1024;\n",
              "\n",
              "function _uploadFiles(inputId, outputId) {\n",
              "  const steps = uploadFilesStep(inputId, outputId);\n",
              "  const outputElement = document.getElementById(outputId);\n",
              "  // Cache steps on the outputElement to make it available for the next call\n",
              "  // to uploadFilesContinue from Python.\n",
              "  outputElement.steps = steps;\n",
              "\n",
              "  return _uploadFilesContinue(outputId);\n",
              "}\n",
              "\n",
              "// This is roughly an async generator (not supported in the browser yet),\n",
              "// where there are multiple asynchronous steps and the Python side is going\n",
              "// to poll for completion of each step.\n",
              "// This uses a Promise to block the python side on completion of each step,\n",
              "// then passes the result of the previous step as the input to the next step.\n",
              "function _uploadFilesContinue(outputId) {\n",
              "  const outputElement = document.getElementById(outputId);\n",
              "  const steps = outputElement.steps;\n",
              "\n",
              "  const next = steps.next(outputElement.lastPromiseValue);\n",
              "  return Promise.resolve(next.value.promise).then((value) => {\n",
              "    // Cache the last promise value to make it available to the next\n",
              "    // step of the generator.\n",
              "    outputElement.lastPromiseValue = value;\n",
              "    return next.value.response;\n",
              "  });\n",
              "}\n",
              "\n",
              "/**\n",
              " * Generator function which is called between each async step of the upload\n",
              " * process.\n",
              " * @param {string} inputId Element ID of the input file picker element.\n",
              " * @param {string} outputId Element ID of the output display.\n",
              " * @return {!Iterable<!Object>} Iterable of next steps.\n",
              " */\n",
              "function* uploadFilesStep(inputId, outputId) {\n",
              "  const inputElement = document.getElementById(inputId);\n",
              "  inputElement.disabled = false;\n",
              "\n",
              "  const outputElement = document.getElementById(outputId);\n",
              "  outputElement.innerHTML = '';\n",
              "\n",
              "  const pickedPromise = new Promise((resolve) => {\n",
              "    inputElement.addEventListener('change', (e) => {\n",
              "      resolve(e.target.files);\n",
              "    });\n",
              "  });\n",
              "\n",
              "  const cancel = document.createElement('button');\n",
              "  inputElement.parentElement.appendChild(cancel);\n",
              "  cancel.textContent = 'Cancel upload';\n",
              "  const cancelPromise = new Promise((resolve) => {\n",
              "    cancel.onclick = () => {\n",
              "      resolve(null);\n",
              "    };\n",
              "  });\n",
              "\n",
              "  // Wait for the user to pick the files.\n",
              "  const files = yield {\n",
              "    promise: Promise.race([pickedPromise, cancelPromise]),\n",
              "    response: {\n",
              "      action: 'starting',\n",
              "    }\n",
              "  };\n",
              "\n",
              "  cancel.remove();\n",
              "\n",
              "  // Disable the input element since further picks are not allowed.\n",
              "  inputElement.disabled = true;\n",
              "\n",
              "  if (!files) {\n",
              "    return {\n",
              "      response: {\n",
              "        action: 'complete',\n",
              "      }\n",
              "    };\n",
              "  }\n",
              "\n",
              "  for (const file of files) {\n",
              "    const li = document.createElement('li');\n",
              "    li.append(span(file.name, {fontWeight: 'bold'}));\n",
              "    li.append(span(\n",
              "        `(${file.type || 'n/a'}) - ${file.size} bytes, ` +\n",
              "        `last modified: ${\n",
              "            file.lastModifiedDate ? file.lastModifiedDate.toLocaleDateString() :\n",
              "                                    'n/a'} - `));\n",
              "    const percent = span('0% done');\n",
              "    li.appendChild(percent);\n",
              "\n",
              "    outputElement.appendChild(li);\n",
              "\n",
              "    const fileDataPromise = new Promise((resolve) => {\n",
              "      const reader = new FileReader();\n",
              "      reader.onload = (e) => {\n",
              "        resolve(e.target.result);\n",
              "      };\n",
              "      reader.readAsArrayBuffer(file);\n",
              "    });\n",
              "    // Wait for the data to be ready.\n",
              "    let fileData = yield {\n",
              "      promise: fileDataPromise,\n",
              "      response: {\n",
              "        action: 'continue',\n",
              "      }\n",
              "    };\n",
              "\n",
              "    // Use a chunked sending to avoid message size limits. See b/62115660.\n",
              "    let position = 0;\n",
              "    do {\n",
              "      const length = Math.min(fileData.byteLength - position, MAX_PAYLOAD_SIZE);\n",
              "      const chunk = new Uint8Array(fileData, position, length);\n",
              "      position += length;\n",
              "\n",
              "      const base64 = btoa(String.fromCharCode.apply(null, chunk));\n",
              "      yield {\n",
              "        response: {\n",
              "          action: 'append',\n",
              "          file: file.name,\n",
              "          data: base64,\n",
              "        },\n",
              "      };\n",
              "\n",
              "      let percentDone = fileData.byteLength === 0 ?\n",
              "          100 :\n",
              "          Math.round((position / fileData.byteLength) * 100);\n",
              "      percent.textContent = `${percentDone}% done`;\n",
              "\n",
              "    } while (position < fileData.byteLength);\n",
              "  }\n",
              "\n",
              "  // All done.\n",
              "  yield {\n",
              "    response: {\n",
              "      action: 'complete',\n",
              "    }\n",
              "  };\n",
              "}\n",
              "\n",
              "scope.google = scope.google || {};\n",
              "scope.google.colab = scope.google.colab || {};\n",
              "scope.google.colab._files = {\n",
              "  _uploadFiles,\n",
              "  _uploadFilesContinue,\n",
              "};\n",
              "})(self);\n",
              "</script> "
            ]
          },
          "metadata": {}
        },
        {
          "output_type": "stream",
          "name": "stdout",
          "text": [
            "Saving kaggle.json to kaggle.json\n"
          ]
        },
        {
          "output_type": "execute_result",
          "data": {
            "text/plain": [
              "{'kaggle.json': b'{\"username\":\"raynoldpanji\",\"key\":\"fdfe72c4650d0603c8c50ad8ea6c433d\"}'}"
            ]
          },
          "metadata": {},
          "execution_count": 2
        }
      ]
    },
    {
      "cell_type": "code",
      "source": [
        "# make directory and change permission\n",
        "!mkdir -p ~/.kaggle\n",
        "!cp kaggle.json ~/.kaggle/\n",
        "!chmod 600 ~/.kaggle/kaggle.json\n",
        "!ls ~/.kaggle"
      ],
      "metadata": {
        "colab": {
          "base_uri": "https://localhost:8080/"
        },
        "id": "c7gCoKt63ZR1",
        "outputId": "0ac1e40a-cb4c-47ef-b5e5-0150a0c71228"
      },
      "execution_count": 3,
      "outputs": [
        {
          "output_type": "stream",
          "name": "stdout",
          "text": [
            "kaggle.json\n"
          ]
        }
      ]
    },
    {
      "cell_type": "code",
      "source": [
        "# test kaggle dataset list\n",
        "!kaggle datasets list "
      ],
      "metadata": {
        "colab": {
          "base_uri": "https://localhost:8080/"
        },
        "id": "-MoWCsOJ3bqU",
        "outputId": "b31a5754-9298-4334-d7e1-65cb3e56bef5"
      },
      "execution_count": 4,
      "outputs": [
        {
          "output_type": "stream",
          "name": "stdout",
          "text": [
            "ref                                                            title                                                size  lastUpdated          downloadCount  voteCount  usabilityRating  \n",
            "-------------------------------------------------------------  --------------------------------------------------  -----  -------------------  -------------  ---------  ---------------  \n",
            "iamsouravbanerjee/world-population-dataset                     World Population Dataset                             17KB  2022-08-31 11:20:04          10462        312  1.0              \n",
            "thedevastator/mcdonalds-ice-cream-machines-broken-timeseries   McDonalds Ice Cream Machines Breaking - Timeseries  404KB  2022-09-14 23:51:09           1026         38  1.0              \n",
            "pantanjali/unemployment-dataset                                Unemployment dataset                                 17KB  2022-09-08 08:26:10           2720         74  1.0              \n",
            "evangower/premier-league-match-data                            Premier League Match Data                             8KB  2022-09-14 18:40:58            634         43  1.0              \n",
            "ariyoomotade/netflix-data-cleaning-analysis-and-visualization  Netflix Data: Cleaning, Analysis and Visualization  270KB  2022-08-26 09:25:43           5139        117  1.0              \n",
            "whenamancodes/world-population-live-dataset                    World Population Live Dataset 2022                   10KB  2022-09-10 11:29:21           1284         44  1.0              \n",
            "iamsouravbanerjee/house-rent-prediction-dataset                House Rent Prediction Dataset                        82KB  2022-08-20 13:49:03          14361        348  1.0              \n",
            "deepcontractor/smoke-detection-dataset                         Smoke Detection Dataset                               2MB  2022-08-21 06:29:34           3196         96  1.0              \n",
            "moazzimalibhatti/co2-emission-by-countries-year-wise-17502022  CO2 Emission by countries Year wise (1750-2022)     280KB  2022-09-14 07:43:00            771         47  1.0              \n",
            "wittmannf/top-250-imdb-series-episode-ratings                  Top 250 IMDB Series Episode Ratings in Sept 2022     92KB  2022-09-05 18:44:55            662         27  1.0              \n",
            "advaypatil/youtube-statistics                                  Youtube Statistics                                    2MB  2022-08-26 02:03:19           2191         65  1.0              \n",
            "muhammadadiltalay/imdb-video-games                             IMDB Video Games                                      1MB  2022-09-02 07:15:52           1213         37  0.9705882        \n",
            "kaggleashwin/population-dataset                                World Population by Countries Dataset (1960-2021)    69KB  2022-08-31 05:30:26           1871         78  1.0              \n",
            "csafrit2/latest-global-temperatures                            Latest Global Temperatures                           92KB  2022-09-05 01:10:12            788         28  1.0              \n",
            "surajjha101/fortune-top-1000-companies-by-revenue-2022         Fortune Top 1000 Companies by Revenue 2022           37KB  2022-08-28 06:43:27           1630         57  1.0              \n",
            "totoro29/air-pollution-level                                   Air Pollution Level                                 394KB  2022-09-09 04:36:03           1188         31  1.0              \n",
            "whenamancodes/data-science-fields-salary-categorization        Data Science Fields Salary Categorization             7KB  2022-09-10 07:53:45            756         32  1.0              \n",
            "iamsouravbanerjee/animated-television-show                     Animated TV Shows Around the World (1948 - 2022)     66KB  2022-09-23 06:11:29            217         34  1.0              \n",
            "fernandoretamales/health-expenditure-and-suicide-rates         Health Expenditure and Suicide Rates [2000-2019]     45KB  2022-09-06 17:37:21            593         29  1.0              \n",
            "sergylog/ab-test-data                                          A/B test data                                        28KB  2022-09-16 17:29:06            264         69  1.0              \n"
          ]
        }
      ]
    },
    {
      "cell_type": "code",
      "source": [
        "# download dataset, choose 'copy api command' from kaggle dataset\n",
        "!kaggle datasets download -d athu1105/book-genre-prediction\n",
        "# !kaggle datasets download -d pashupatigupta/emotion-detection-from-text"
      ],
      "metadata": {
        "colab": {
          "base_uri": "https://localhost:8080/"
        },
        "id": "Xr4SI5o-3eAd",
        "outputId": "2ff7f394-a586-44a0-80e6-e43af819fb83"
      },
      "execution_count": 272,
      "outputs": [
        {
          "output_type": "stream",
          "name": "stdout",
          "text": [
            "Downloading emotion-detection-from-text.zip to /content\n",
            "\r  0% 0.00/1.56M [00:00<?, ?B/s]\n",
            "\r100% 1.56M/1.56M [00:00<00:00, 164MB/s]\n"
          ]
        }
      ]
    },
    {
      "cell_type": "code",
      "source": [
        "!mkdir dataset\n",
        "!unzip book-genre-prediction.zip -d dataset\n",
        "# !unzip emotion-detection-from-text.zip -d dataset\n",
        "!ls dataset"
      ],
      "metadata": {
        "colab": {
          "base_uri": "https://localhost:8080/"
        },
        "id": "6mhvqxOi7LAR",
        "outputId": "4990426f-8a5c-4de6-8fad-a9a94fe1bc8f"
      },
      "execution_count": 273,
      "outputs": [
        {
          "output_type": "stream",
          "name": "stdout",
          "text": [
            "Archive:  emotion-detection-from-text.zip\n",
            "  inflating: dataset/tweet_emotions.csv  \n",
            "data.csv  tweet_emotions.csv\n"
          ]
        }
      ]
    },
    {
      "cell_type": "markdown",
      "source": [
        "## Load Dataset"
      ],
      "metadata": {
        "id": "elGyBSAkxN5z"
      }
    },
    {
      "cell_type": "code",
      "source": [
        "import pandas as pd"
      ],
      "metadata": {
        "id": "eZNS0Nnu8hDc"
      },
      "execution_count": 7,
      "outputs": []
    },
    {
      "cell_type": "code",
      "execution_count": 277,
      "metadata": {
        "colab": {
          "base_uri": "https://localhost:8080/",
          "height": 424
        },
        "id": "23dxjHgR3JUn",
        "outputId": "31fd7a10-cc74-4d69-b9b4-80a4f445ba09"
      },
      "outputs": [
        {
          "output_type": "execute_result",
          "data": {
            "text/plain": [
              "      index                              title    genre  \\\n",
              "0         0                  Drowned Wednesday  fantasy   \n",
              "1         1                      The Lost Hero  fantasy   \n",
              "2         2          The Eyes of the Overworld  fantasy   \n",
              "3         3                    Magic's Promise  fantasy   \n",
              "4         4                     Taran Wanderer  fantasy   \n",
              "...     ...                                ...      ...   \n",
              "4652   4652                            Hounded  fantasy   \n",
              "4653   4653  Charlie and the Chocolate Factory  fantasy   \n",
              "4654   4654                         Red Rising  fantasy   \n",
              "4655   4655                          Frostbite  fantasy   \n",
              "4656   4656                           Radiance  fantasy   \n",
              "\n",
              "                                                summary  \n",
              "0      Drowned Wednesday is the first Trustee among ...  \n",
              "1      As the book opens, Jason awakens on a school ...  \n",
              "2      Cugel is easily persuaded by the merchant Fia...  \n",
              "3      The book opens with Herald-Mage Vanyel return...  \n",
              "4      Taran and Gurgi have returned to Caer Dallben...  \n",
              "...                                                 ...  \n",
              "4652  Atticus O’Sullivan, last of the Druids, lives ...  \n",
              "4653  Charlie Bucket's wonderful adventure begins wh...  \n",
              "4654  \"I live for the dream that my children will be...  \n",
              "4655  Rose loves Dimitri, Dimitri might love Tasha, ...  \n",
              "4656  The Prince of no value\\nBrishen Khaskem, princ...  \n",
              "\n",
              "[4657 rows x 4 columns]"
            ],
            "text/html": [
              "\n",
              "  <div id=\"df-cfc808bf-36e7-4756-a5bb-e0c1cde73b52\">\n",
              "    <div class=\"colab-df-container\">\n",
              "      <div>\n",
              "<style scoped>\n",
              "    .dataframe tbody tr th:only-of-type {\n",
              "        vertical-align: middle;\n",
              "    }\n",
              "\n",
              "    .dataframe tbody tr th {\n",
              "        vertical-align: top;\n",
              "    }\n",
              "\n",
              "    .dataframe thead th {\n",
              "        text-align: right;\n",
              "    }\n",
              "</style>\n",
              "<table border=\"1\" class=\"dataframe\">\n",
              "  <thead>\n",
              "    <tr style=\"text-align: right;\">\n",
              "      <th></th>\n",
              "      <th>index</th>\n",
              "      <th>title</th>\n",
              "      <th>genre</th>\n",
              "      <th>summary</th>\n",
              "    </tr>\n",
              "  </thead>\n",
              "  <tbody>\n",
              "    <tr>\n",
              "      <th>0</th>\n",
              "      <td>0</td>\n",
              "      <td>Drowned Wednesday</td>\n",
              "      <td>fantasy</td>\n",
              "      <td>Drowned Wednesday is the first Trustee among ...</td>\n",
              "    </tr>\n",
              "    <tr>\n",
              "      <th>1</th>\n",
              "      <td>1</td>\n",
              "      <td>The Lost Hero</td>\n",
              "      <td>fantasy</td>\n",
              "      <td>As the book opens, Jason awakens on a school ...</td>\n",
              "    </tr>\n",
              "    <tr>\n",
              "      <th>2</th>\n",
              "      <td>2</td>\n",
              "      <td>The Eyes of the Overworld</td>\n",
              "      <td>fantasy</td>\n",
              "      <td>Cugel is easily persuaded by the merchant Fia...</td>\n",
              "    </tr>\n",
              "    <tr>\n",
              "      <th>3</th>\n",
              "      <td>3</td>\n",
              "      <td>Magic's Promise</td>\n",
              "      <td>fantasy</td>\n",
              "      <td>The book opens with Herald-Mage Vanyel return...</td>\n",
              "    </tr>\n",
              "    <tr>\n",
              "      <th>4</th>\n",
              "      <td>4</td>\n",
              "      <td>Taran Wanderer</td>\n",
              "      <td>fantasy</td>\n",
              "      <td>Taran and Gurgi have returned to Caer Dallben...</td>\n",
              "    </tr>\n",
              "    <tr>\n",
              "      <th>...</th>\n",
              "      <td>...</td>\n",
              "      <td>...</td>\n",
              "      <td>...</td>\n",
              "      <td>...</td>\n",
              "    </tr>\n",
              "    <tr>\n",
              "      <th>4652</th>\n",
              "      <td>4652</td>\n",
              "      <td>Hounded</td>\n",
              "      <td>fantasy</td>\n",
              "      <td>Atticus O’Sullivan, last of the Druids, lives ...</td>\n",
              "    </tr>\n",
              "    <tr>\n",
              "      <th>4653</th>\n",
              "      <td>4653</td>\n",
              "      <td>Charlie and the Chocolate Factory</td>\n",
              "      <td>fantasy</td>\n",
              "      <td>Charlie Bucket's wonderful adventure begins wh...</td>\n",
              "    </tr>\n",
              "    <tr>\n",
              "      <th>4654</th>\n",
              "      <td>4654</td>\n",
              "      <td>Red Rising</td>\n",
              "      <td>fantasy</td>\n",
              "      <td>\"I live for the dream that my children will be...</td>\n",
              "    </tr>\n",
              "    <tr>\n",
              "      <th>4655</th>\n",
              "      <td>4655</td>\n",
              "      <td>Frostbite</td>\n",
              "      <td>fantasy</td>\n",
              "      <td>Rose loves Dimitri, Dimitri might love Tasha, ...</td>\n",
              "    </tr>\n",
              "    <tr>\n",
              "      <th>4656</th>\n",
              "      <td>4656</td>\n",
              "      <td>Radiance</td>\n",
              "      <td>fantasy</td>\n",
              "      <td>The Prince of no value\\nBrishen Khaskem, princ...</td>\n",
              "    </tr>\n",
              "  </tbody>\n",
              "</table>\n",
              "<p>4657 rows × 4 columns</p>\n",
              "</div>\n",
              "      <button class=\"colab-df-convert\" onclick=\"convertToInteractive('df-cfc808bf-36e7-4756-a5bb-e0c1cde73b52')\"\n",
              "              title=\"Convert this dataframe to an interactive table.\"\n",
              "              style=\"display:none;\">\n",
              "        \n",
              "  <svg xmlns=\"http://www.w3.org/2000/svg\" height=\"24px\"viewBox=\"0 0 24 24\"\n",
              "       width=\"24px\">\n",
              "    <path d=\"M0 0h24v24H0V0z\" fill=\"none\"/>\n",
              "    <path d=\"M18.56 5.44l.94 2.06.94-2.06 2.06-.94-2.06-.94-.94-2.06-.94 2.06-2.06.94zm-11 1L8.5 8.5l.94-2.06 2.06-.94-2.06-.94L8.5 2.5l-.94 2.06-2.06.94zm10 10l.94 2.06.94-2.06 2.06-.94-2.06-.94-.94-2.06-.94 2.06-2.06.94z\"/><path d=\"M17.41 7.96l-1.37-1.37c-.4-.4-.92-.59-1.43-.59-.52 0-1.04.2-1.43.59L10.3 9.45l-7.72 7.72c-.78.78-.78 2.05 0 2.83L4 21.41c.39.39.9.59 1.41.59.51 0 1.02-.2 1.41-.59l7.78-7.78 2.81-2.81c.8-.78.8-2.07 0-2.86zM5.41 20L4 18.59l7.72-7.72 1.47 1.35L5.41 20z\"/>\n",
              "  </svg>\n",
              "      </button>\n",
              "      \n",
              "  <style>\n",
              "    .colab-df-container {\n",
              "      display:flex;\n",
              "      flex-wrap:wrap;\n",
              "      gap: 12px;\n",
              "    }\n",
              "\n",
              "    .colab-df-convert {\n",
              "      background-color: #E8F0FE;\n",
              "      border: none;\n",
              "      border-radius: 50%;\n",
              "      cursor: pointer;\n",
              "      display: none;\n",
              "      fill: #1967D2;\n",
              "      height: 32px;\n",
              "      padding: 0 0 0 0;\n",
              "      width: 32px;\n",
              "    }\n",
              "\n",
              "    .colab-df-convert:hover {\n",
              "      background-color: #E2EBFA;\n",
              "      box-shadow: 0px 1px 2px rgba(60, 64, 67, 0.3), 0px 1px 3px 1px rgba(60, 64, 67, 0.15);\n",
              "      fill: #174EA6;\n",
              "    }\n",
              "\n",
              "    [theme=dark] .colab-df-convert {\n",
              "      background-color: #3B4455;\n",
              "      fill: #D2E3FC;\n",
              "    }\n",
              "\n",
              "    [theme=dark] .colab-df-convert:hover {\n",
              "      background-color: #434B5C;\n",
              "      box-shadow: 0px 1px 3px 1px rgba(0, 0, 0, 0.15);\n",
              "      filter: drop-shadow(0px 1px 2px rgba(0, 0, 0, 0.3));\n",
              "      fill: #FFFFFF;\n",
              "    }\n",
              "  </style>\n",
              "\n",
              "      <script>\n",
              "        const buttonEl =\n",
              "          document.querySelector('#df-cfc808bf-36e7-4756-a5bb-e0c1cde73b52 button.colab-df-convert');\n",
              "        buttonEl.style.display =\n",
              "          google.colab.kernel.accessAllowed ? 'block' : 'none';\n",
              "\n",
              "        async function convertToInteractive(key) {\n",
              "          const element = document.querySelector('#df-cfc808bf-36e7-4756-a5bb-e0c1cde73b52');\n",
              "          const dataTable =\n",
              "            await google.colab.kernel.invokeFunction('convertToInteractive',\n",
              "                                                     [key], {});\n",
              "          if (!dataTable) return;\n",
              "\n",
              "          const docLinkHtml = 'Like what you see? Visit the ' +\n",
              "            '<a target=\"_blank\" href=https://colab.research.google.com/notebooks/data_table.ipynb>data table notebook</a>'\n",
              "            + ' to learn more about interactive tables.';\n",
              "          element.innerHTML = '';\n",
              "          dataTable['output_type'] = 'display_data';\n",
              "          await google.colab.output.renderOutput(dataTable, element);\n",
              "          const docLink = document.createElement('div');\n",
              "          docLink.innerHTML = docLinkHtml;\n",
              "          element.appendChild(docLink);\n",
              "        }\n",
              "      </script>\n",
              "    </div>\n",
              "  </div>\n",
              "  "
            ]
          },
          "metadata": {},
          "execution_count": 277
        }
      ],
      "source": [
        "df = pd.read_csv(\"dataset/data.csv\")\n",
        "df"
      ]
    },
    {
      "cell_type": "code",
      "source": [
        "df['genre'].value_counts()"
      ],
      "metadata": {
        "colab": {
          "base_uri": "https://localhost:8080/"
        },
        "id": "8SJYeM_r9WWy",
        "outputId": "6a5b1d46-d14b-4831-d5bb-1e6aff75df0f"
      },
      "execution_count": 278,
      "outputs": [
        {
          "output_type": "execute_result",
          "data": {
            "text/plain": [
              "thriller      1023\n",
              "fantasy        876\n",
              "science        647\n",
              "history        600\n",
              "horror         600\n",
              "crime          500\n",
              "romance        111\n",
              "psychology     100\n",
              "sports         100\n",
              "travel         100\n",
              "Name: genre, dtype: int64"
            ]
          },
          "metadata": {},
          "execution_count": 278
        }
      ]
    },
    {
      "cell_type": "code",
      "source": [
        "df2 = df[~df['genre'].isin(['travel','sports', 'psychology', 'romance', 'fantasy', 'thriller'])]\n",
        "df2['genre'].value_counts()"
      ],
      "metadata": {
        "colab": {
          "base_uri": "https://localhost:8080/"
        },
        "id": "hJykehD_l8ky",
        "outputId": "fd0d05dd-6aed-4222-da90-09b621b3a527"
      },
      "execution_count": 237,
      "outputs": [
        {
          "output_type": "execute_result",
          "data": {
            "text/plain": [
              "science    647\n",
              "history    600\n",
              "horror     600\n",
              "crime      500\n",
              "Name: genre, dtype: int64"
            ]
          },
          "metadata": {},
          "execution_count": 237
        }
      ]
    },
    {
      "cell_type": "code",
      "source": [
        "df2"
      ],
      "metadata": {
        "colab": {
          "base_uri": "https://localhost:8080/",
          "height": 424
        },
        "id": "Ij3PfbbWml__",
        "outputId": "76b97771-6bf2-4091-cc23-df73528d7dda"
      },
      "execution_count": 238,
      "outputs": [
        {
          "output_type": "execute_result",
          "data": {
            "text/plain": [
              "      index                                          title    genre  \\\n",
              "500     500                                      Starcross  science   \n",
              "501     501                                     Glasshouse  science   \n",
              "502     502                                     Rocheworld  science   \n",
              "503     503                             Master of the Void  science   \n",
              "504     504                                Vulcan's Hammer  science   \n",
              "...     ...                                            ...      ...   \n",
              "3553   3553  The Ultimate Hitchhiker's Guide to the Galaxy  science   \n",
              "3554   3554                                      The Stand  science   \n",
              "3555   3555                           The Fall of Hyperion  science   \n",
              "3556   3556                                           Ubik  science   \n",
              "3557   3557                                        Contact  science   \n",
              "\n",
              "                                                summary  \n",
              "500    Protagonist Arthur (\"Art\") Mumby and his olde...  \n",
              "501    It is the 27th century. The culture featured ...  \n",
              "502    In Rocheworld, a small group of civilian and ...  \n",
              "503    In the post-war galaxy, ruined civilizations ...  \n",
              "504    In 2029 CE, the Earth is run by the Unity org...  \n",
              "...                                                 ...  \n",
              "3553  At last in paperback in one complete volume, h...  \n",
              "3554  Stephen King's apocalyptic vision of a world b...  \n",
              "3555  In the stunning continuation of the epic adven...  \n",
              "3556  Glen Runciter está muerto. ¿O lo están todos l...  \n",
              "3557  Jeune astronome convaincue de l'existence d'un...  \n",
              "\n",
              "[2347 rows x 4 columns]"
            ],
            "text/html": [
              "\n",
              "  <div id=\"df-26391817-02da-4997-a430-7e0bfb8545ed\">\n",
              "    <div class=\"colab-df-container\">\n",
              "      <div>\n",
              "<style scoped>\n",
              "    .dataframe tbody tr th:only-of-type {\n",
              "        vertical-align: middle;\n",
              "    }\n",
              "\n",
              "    .dataframe tbody tr th {\n",
              "        vertical-align: top;\n",
              "    }\n",
              "\n",
              "    .dataframe thead th {\n",
              "        text-align: right;\n",
              "    }\n",
              "</style>\n",
              "<table border=\"1\" class=\"dataframe\">\n",
              "  <thead>\n",
              "    <tr style=\"text-align: right;\">\n",
              "      <th></th>\n",
              "      <th>index</th>\n",
              "      <th>title</th>\n",
              "      <th>genre</th>\n",
              "      <th>summary</th>\n",
              "    </tr>\n",
              "  </thead>\n",
              "  <tbody>\n",
              "    <tr>\n",
              "      <th>500</th>\n",
              "      <td>500</td>\n",
              "      <td>Starcross</td>\n",
              "      <td>science</td>\n",
              "      <td>Protagonist Arthur (\"Art\") Mumby and his olde...</td>\n",
              "    </tr>\n",
              "    <tr>\n",
              "      <th>501</th>\n",
              "      <td>501</td>\n",
              "      <td>Glasshouse</td>\n",
              "      <td>science</td>\n",
              "      <td>It is the 27th century. The culture featured ...</td>\n",
              "    </tr>\n",
              "    <tr>\n",
              "      <th>502</th>\n",
              "      <td>502</td>\n",
              "      <td>Rocheworld</td>\n",
              "      <td>science</td>\n",
              "      <td>In Rocheworld, a small group of civilian and ...</td>\n",
              "    </tr>\n",
              "    <tr>\n",
              "      <th>503</th>\n",
              "      <td>503</td>\n",
              "      <td>Master of the Void</td>\n",
              "      <td>science</td>\n",
              "      <td>In the post-war galaxy, ruined civilizations ...</td>\n",
              "    </tr>\n",
              "    <tr>\n",
              "      <th>504</th>\n",
              "      <td>504</td>\n",
              "      <td>Vulcan's Hammer</td>\n",
              "      <td>science</td>\n",
              "      <td>In 2029 CE, the Earth is run by the Unity org...</td>\n",
              "    </tr>\n",
              "    <tr>\n",
              "      <th>...</th>\n",
              "      <td>...</td>\n",
              "      <td>...</td>\n",
              "      <td>...</td>\n",
              "      <td>...</td>\n",
              "    </tr>\n",
              "    <tr>\n",
              "      <th>3553</th>\n",
              "      <td>3553</td>\n",
              "      <td>The Ultimate Hitchhiker's Guide to the Galaxy</td>\n",
              "      <td>science</td>\n",
              "      <td>At last in paperback in one complete volume, h...</td>\n",
              "    </tr>\n",
              "    <tr>\n",
              "      <th>3554</th>\n",
              "      <td>3554</td>\n",
              "      <td>The Stand</td>\n",
              "      <td>science</td>\n",
              "      <td>Stephen King's apocalyptic vision of a world b...</td>\n",
              "    </tr>\n",
              "    <tr>\n",
              "      <th>3555</th>\n",
              "      <td>3555</td>\n",
              "      <td>The Fall of Hyperion</td>\n",
              "      <td>science</td>\n",
              "      <td>In the stunning continuation of the epic adven...</td>\n",
              "    </tr>\n",
              "    <tr>\n",
              "      <th>3556</th>\n",
              "      <td>3556</td>\n",
              "      <td>Ubik</td>\n",
              "      <td>science</td>\n",
              "      <td>Glen Runciter está muerto. ¿O lo están todos l...</td>\n",
              "    </tr>\n",
              "    <tr>\n",
              "      <th>3557</th>\n",
              "      <td>3557</td>\n",
              "      <td>Contact</td>\n",
              "      <td>science</td>\n",
              "      <td>Jeune astronome convaincue de l'existence d'un...</td>\n",
              "    </tr>\n",
              "  </tbody>\n",
              "</table>\n",
              "<p>2347 rows × 4 columns</p>\n",
              "</div>\n",
              "      <button class=\"colab-df-convert\" onclick=\"convertToInteractive('df-26391817-02da-4997-a430-7e0bfb8545ed')\"\n",
              "              title=\"Convert this dataframe to an interactive table.\"\n",
              "              style=\"display:none;\">\n",
              "        \n",
              "  <svg xmlns=\"http://www.w3.org/2000/svg\" height=\"24px\"viewBox=\"0 0 24 24\"\n",
              "       width=\"24px\">\n",
              "    <path d=\"M0 0h24v24H0V0z\" fill=\"none\"/>\n",
              "    <path d=\"M18.56 5.44l.94 2.06.94-2.06 2.06-.94-2.06-.94-.94-2.06-.94 2.06-2.06.94zm-11 1L8.5 8.5l.94-2.06 2.06-.94-2.06-.94L8.5 2.5l-.94 2.06-2.06.94zm10 10l.94 2.06.94-2.06 2.06-.94-2.06-.94-.94-2.06-.94 2.06-2.06.94z\"/><path d=\"M17.41 7.96l-1.37-1.37c-.4-.4-.92-.59-1.43-.59-.52 0-1.04.2-1.43.59L10.3 9.45l-7.72 7.72c-.78.78-.78 2.05 0 2.83L4 21.41c.39.39.9.59 1.41.59.51 0 1.02-.2 1.41-.59l7.78-7.78 2.81-2.81c.8-.78.8-2.07 0-2.86zM5.41 20L4 18.59l7.72-7.72 1.47 1.35L5.41 20z\"/>\n",
              "  </svg>\n",
              "      </button>\n",
              "      \n",
              "  <style>\n",
              "    .colab-df-container {\n",
              "      display:flex;\n",
              "      flex-wrap:wrap;\n",
              "      gap: 12px;\n",
              "    }\n",
              "\n",
              "    .colab-df-convert {\n",
              "      background-color: #E8F0FE;\n",
              "      border: none;\n",
              "      border-radius: 50%;\n",
              "      cursor: pointer;\n",
              "      display: none;\n",
              "      fill: #1967D2;\n",
              "      height: 32px;\n",
              "      padding: 0 0 0 0;\n",
              "      width: 32px;\n",
              "    }\n",
              "\n",
              "    .colab-df-convert:hover {\n",
              "      background-color: #E2EBFA;\n",
              "      box-shadow: 0px 1px 2px rgba(60, 64, 67, 0.3), 0px 1px 3px 1px rgba(60, 64, 67, 0.15);\n",
              "      fill: #174EA6;\n",
              "    }\n",
              "\n",
              "    [theme=dark] .colab-df-convert {\n",
              "      background-color: #3B4455;\n",
              "      fill: #D2E3FC;\n",
              "    }\n",
              "\n",
              "    [theme=dark] .colab-df-convert:hover {\n",
              "      background-color: #434B5C;\n",
              "      box-shadow: 0px 1px 3px 1px rgba(0, 0, 0, 0.15);\n",
              "      filter: drop-shadow(0px 1px 2px rgba(0, 0, 0, 0.3));\n",
              "      fill: #FFFFFF;\n",
              "    }\n",
              "  </style>\n",
              "\n",
              "      <script>\n",
              "        const buttonEl =\n",
              "          document.querySelector('#df-26391817-02da-4997-a430-7e0bfb8545ed button.colab-df-convert');\n",
              "        buttonEl.style.display =\n",
              "          google.colab.kernel.accessAllowed ? 'block' : 'none';\n",
              "\n",
              "        async function convertToInteractive(key) {\n",
              "          const element = document.querySelector('#df-26391817-02da-4997-a430-7e0bfb8545ed');\n",
              "          const dataTable =\n",
              "            await google.colab.kernel.invokeFunction('convertToInteractive',\n",
              "                                                     [key], {});\n",
              "          if (!dataTable) return;\n",
              "\n",
              "          const docLinkHtml = 'Like what you see? Visit the ' +\n",
              "            '<a target=\"_blank\" href=https://colab.research.google.com/notebooks/data_table.ipynb>data table notebook</a>'\n",
              "            + ' to learn more about interactive tables.';\n",
              "          element.innerHTML = '';\n",
              "          dataTable['output_type'] = 'display_data';\n",
              "          await google.colab.output.renderOutput(dataTable, element);\n",
              "          const docLink = document.createElement('div');\n",
              "          docLink.innerHTML = docLinkHtml;\n",
              "          element.appendChild(docLink);\n",
              "        }\n",
              "      </script>\n",
              "    </div>\n",
              "  </div>\n",
              "  "
            ]
          },
          "metadata": {},
          "execution_count": 238
        }
      ]
    },
    {
      "cell_type": "code",
      "source": [
        "## cek jika data yang null\n",
        "df.isnull().sum() "
      ],
      "metadata": {
        "colab": {
          "base_uri": "https://localhost:8080/"
        },
        "id": "oYWymob29pMK",
        "outputId": "64eb86aa-8ddf-4cca-e23b-49d11caeb5e2"
      },
      "execution_count": 239,
      "outputs": [
        {
          "output_type": "execute_result",
          "data": {
            "text/plain": [
              "index      0\n",
              "title      0\n",
              "genre      0\n",
              "summary    0\n",
              "dtype: int64"
            ]
          },
          "metadata": {},
          "execution_count": 239
        }
      ]
    },
    {
      "cell_type": "code",
      "source": [
        "# delete colom yang tidak digunakan\n",
        "df_new = df2.drop(columns=['index', 'title'])\n",
        "df_new"
      ],
      "metadata": {
        "colab": {
          "base_uri": "https://localhost:8080/",
          "height": 424
        },
        "id": "_eO_Yx5GJp3Q",
        "outputId": "4bc63403-3d18-4f44-8068-ed118697de4c"
      },
      "execution_count": 240,
      "outputs": [
        {
          "output_type": "execute_result",
          "data": {
            "text/plain": [
              "        genre                                            summary\n",
              "500   science   Protagonist Arthur (\"Art\") Mumby and his olde...\n",
              "501   science   It is the 27th century. The culture featured ...\n",
              "502   science   In Rocheworld, a small group of civilian and ...\n",
              "503   science   In the post-war galaxy, ruined civilizations ...\n",
              "504   science   In 2029 CE, the Earth is run by the Unity org...\n",
              "...       ...                                                ...\n",
              "3553  science  At last in paperback in one complete volume, h...\n",
              "3554  science  Stephen King's apocalyptic vision of a world b...\n",
              "3555  science  In the stunning continuation of the epic adven...\n",
              "3556  science  Glen Runciter está muerto. ¿O lo están todos l...\n",
              "3557  science  Jeune astronome convaincue de l'existence d'un...\n",
              "\n",
              "[2347 rows x 2 columns]"
            ],
            "text/html": [
              "\n",
              "  <div id=\"df-04d4b482-2b43-42ae-8276-a211052774b2\">\n",
              "    <div class=\"colab-df-container\">\n",
              "      <div>\n",
              "<style scoped>\n",
              "    .dataframe tbody tr th:only-of-type {\n",
              "        vertical-align: middle;\n",
              "    }\n",
              "\n",
              "    .dataframe tbody tr th {\n",
              "        vertical-align: top;\n",
              "    }\n",
              "\n",
              "    .dataframe thead th {\n",
              "        text-align: right;\n",
              "    }\n",
              "</style>\n",
              "<table border=\"1\" class=\"dataframe\">\n",
              "  <thead>\n",
              "    <tr style=\"text-align: right;\">\n",
              "      <th></th>\n",
              "      <th>genre</th>\n",
              "      <th>summary</th>\n",
              "    </tr>\n",
              "  </thead>\n",
              "  <tbody>\n",
              "    <tr>\n",
              "      <th>500</th>\n",
              "      <td>science</td>\n",
              "      <td>Protagonist Arthur (\"Art\") Mumby and his olde...</td>\n",
              "    </tr>\n",
              "    <tr>\n",
              "      <th>501</th>\n",
              "      <td>science</td>\n",
              "      <td>It is the 27th century. The culture featured ...</td>\n",
              "    </tr>\n",
              "    <tr>\n",
              "      <th>502</th>\n",
              "      <td>science</td>\n",
              "      <td>In Rocheworld, a small group of civilian and ...</td>\n",
              "    </tr>\n",
              "    <tr>\n",
              "      <th>503</th>\n",
              "      <td>science</td>\n",
              "      <td>In the post-war galaxy, ruined civilizations ...</td>\n",
              "    </tr>\n",
              "    <tr>\n",
              "      <th>504</th>\n",
              "      <td>science</td>\n",
              "      <td>In 2029 CE, the Earth is run by the Unity org...</td>\n",
              "    </tr>\n",
              "    <tr>\n",
              "      <th>...</th>\n",
              "      <td>...</td>\n",
              "      <td>...</td>\n",
              "    </tr>\n",
              "    <tr>\n",
              "      <th>3553</th>\n",
              "      <td>science</td>\n",
              "      <td>At last in paperback in one complete volume, h...</td>\n",
              "    </tr>\n",
              "    <tr>\n",
              "      <th>3554</th>\n",
              "      <td>science</td>\n",
              "      <td>Stephen King's apocalyptic vision of a world b...</td>\n",
              "    </tr>\n",
              "    <tr>\n",
              "      <th>3555</th>\n",
              "      <td>science</td>\n",
              "      <td>In the stunning continuation of the epic adven...</td>\n",
              "    </tr>\n",
              "    <tr>\n",
              "      <th>3556</th>\n",
              "      <td>science</td>\n",
              "      <td>Glen Runciter está muerto. ¿O lo están todos l...</td>\n",
              "    </tr>\n",
              "    <tr>\n",
              "      <th>3557</th>\n",
              "      <td>science</td>\n",
              "      <td>Jeune astronome convaincue de l'existence d'un...</td>\n",
              "    </tr>\n",
              "  </tbody>\n",
              "</table>\n",
              "<p>2347 rows × 2 columns</p>\n",
              "</div>\n",
              "      <button class=\"colab-df-convert\" onclick=\"convertToInteractive('df-04d4b482-2b43-42ae-8276-a211052774b2')\"\n",
              "              title=\"Convert this dataframe to an interactive table.\"\n",
              "              style=\"display:none;\">\n",
              "        \n",
              "  <svg xmlns=\"http://www.w3.org/2000/svg\" height=\"24px\"viewBox=\"0 0 24 24\"\n",
              "       width=\"24px\">\n",
              "    <path d=\"M0 0h24v24H0V0z\" fill=\"none\"/>\n",
              "    <path d=\"M18.56 5.44l.94 2.06.94-2.06 2.06-.94-2.06-.94-.94-2.06-.94 2.06-2.06.94zm-11 1L8.5 8.5l.94-2.06 2.06-.94-2.06-.94L8.5 2.5l-.94 2.06-2.06.94zm10 10l.94 2.06.94-2.06 2.06-.94-2.06-.94-.94-2.06-.94 2.06-2.06.94z\"/><path d=\"M17.41 7.96l-1.37-1.37c-.4-.4-.92-.59-1.43-.59-.52 0-1.04.2-1.43.59L10.3 9.45l-7.72 7.72c-.78.78-.78 2.05 0 2.83L4 21.41c.39.39.9.59 1.41.59.51 0 1.02-.2 1.41-.59l7.78-7.78 2.81-2.81c.8-.78.8-2.07 0-2.86zM5.41 20L4 18.59l7.72-7.72 1.47 1.35L5.41 20z\"/>\n",
              "  </svg>\n",
              "      </button>\n",
              "      \n",
              "  <style>\n",
              "    .colab-df-container {\n",
              "      display:flex;\n",
              "      flex-wrap:wrap;\n",
              "      gap: 12px;\n",
              "    }\n",
              "\n",
              "    .colab-df-convert {\n",
              "      background-color: #E8F0FE;\n",
              "      border: none;\n",
              "      border-radius: 50%;\n",
              "      cursor: pointer;\n",
              "      display: none;\n",
              "      fill: #1967D2;\n",
              "      height: 32px;\n",
              "      padding: 0 0 0 0;\n",
              "      width: 32px;\n",
              "    }\n",
              "\n",
              "    .colab-df-convert:hover {\n",
              "      background-color: #E2EBFA;\n",
              "      box-shadow: 0px 1px 2px rgba(60, 64, 67, 0.3), 0px 1px 3px 1px rgba(60, 64, 67, 0.15);\n",
              "      fill: #174EA6;\n",
              "    }\n",
              "\n",
              "    [theme=dark] .colab-df-convert {\n",
              "      background-color: #3B4455;\n",
              "      fill: #D2E3FC;\n",
              "    }\n",
              "\n",
              "    [theme=dark] .colab-df-convert:hover {\n",
              "      background-color: #434B5C;\n",
              "      box-shadow: 0px 1px 3px 1px rgba(0, 0, 0, 0.15);\n",
              "      filter: drop-shadow(0px 1px 2px rgba(0, 0, 0, 0.3));\n",
              "      fill: #FFFFFF;\n",
              "    }\n",
              "  </style>\n",
              "\n",
              "      <script>\n",
              "        const buttonEl =\n",
              "          document.querySelector('#df-04d4b482-2b43-42ae-8276-a211052774b2 button.colab-df-convert');\n",
              "        buttonEl.style.display =\n",
              "          google.colab.kernel.accessAllowed ? 'block' : 'none';\n",
              "\n",
              "        async function convertToInteractive(key) {\n",
              "          const element = document.querySelector('#df-04d4b482-2b43-42ae-8276-a211052774b2');\n",
              "          const dataTable =\n",
              "            await google.colab.kernel.invokeFunction('convertToInteractive',\n",
              "                                                     [key], {});\n",
              "          if (!dataTable) return;\n",
              "\n",
              "          const docLinkHtml = 'Like what you see? Visit the ' +\n",
              "            '<a target=\"_blank\" href=https://colab.research.google.com/notebooks/data_table.ipynb>data table notebook</a>'\n",
              "            + ' to learn more about interactive tables.';\n",
              "          element.innerHTML = '';\n",
              "          dataTable['output_type'] = 'display_data';\n",
              "          await google.colab.output.renderOutput(dataTable, element);\n",
              "          const docLink = document.createElement('div');\n",
              "          docLink.innerHTML = docLinkHtml;\n",
              "          element.appendChild(docLink);\n",
              "        }\n",
              "      </script>\n",
              "    </div>\n",
              "  </div>\n",
              "  "
            ]
          },
          "metadata": {},
          "execution_count": 240
        }
      ]
    },
    {
      "cell_type": "markdown",
      "source": [
        "## Data Preprocessing"
      ],
      "metadata": {
        "id": "0Ase2Odgxl6u"
      }
    },
    {
      "cell_type": "code",
      "source": [
        "# One-hot encoding\n",
        "\n",
        "genre = pd.get_dummies(df_new.genre)\n",
        "df_new = pd.concat([df_new, genre], axis=1)\n",
        "df_new = df_new.drop(columns='genre')\n",
        "df_new"
      ],
      "metadata": {
        "colab": {
          "base_uri": "https://localhost:8080/",
          "height": 424
        },
        "id": "Szpypmr187I-",
        "outputId": "b225b437-85d0-4a1a-c275-702537e013f6"
      },
      "execution_count": 241,
      "outputs": [
        {
          "output_type": "execute_result",
          "data": {
            "text/plain": [
              "                                                summary  crime  history  \\\n",
              "500    Protagonist Arthur (\"Art\") Mumby and his olde...      0        0   \n",
              "501    It is the 27th century. The culture featured ...      0        0   \n",
              "502    In Rocheworld, a small group of civilian and ...      0        0   \n",
              "503    In the post-war galaxy, ruined civilizations ...      0        0   \n",
              "504    In 2029 CE, the Earth is run by the Unity org...      0        0   \n",
              "...                                                 ...    ...      ...   \n",
              "3553  At last in paperback in one complete volume, h...      0        0   \n",
              "3554  Stephen King's apocalyptic vision of a world b...      0        0   \n",
              "3555  In the stunning continuation of the epic adven...      0        0   \n",
              "3556  Glen Runciter está muerto. ¿O lo están todos l...      0        0   \n",
              "3557  Jeune astronome convaincue de l'existence d'un...      0        0   \n",
              "\n",
              "      horror  science  \n",
              "500        0        1  \n",
              "501        0        1  \n",
              "502        0        1  \n",
              "503        0        1  \n",
              "504        0        1  \n",
              "...      ...      ...  \n",
              "3553       0        1  \n",
              "3554       0        1  \n",
              "3555       0        1  \n",
              "3556       0        1  \n",
              "3557       0        1  \n",
              "\n",
              "[2347 rows x 5 columns]"
            ],
            "text/html": [
              "\n",
              "  <div id=\"df-e594a166-7139-437a-a560-dde3d42ca544\">\n",
              "    <div class=\"colab-df-container\">\n",
              "      <div>\n",
              "<style scoped>\n",
              "    .dataframe tbody tr th:only-of-type {\n",
              "        vertical-align: middle;\n",
              "    }\n",
              "\n",
              "    .dataframe tbody tr th {\n",
              "        vertical-align: top;\n",
              "    }\n",
              "\n",
              "    .dataframe thead th {\n",
              "        text-align: right;\n",
              "    }\n",
              "</style>\n",
              "<table border=\"1\" class=\"dataframe\">\n",
              "  <thead>\n",
              "    <tr style=\"text-align: right;\">\n",
              "      <th></th>\n",
              "      <th>summary</th>\n",
              "      <th>crime</th>\n",
              "      <th>history</th>\n",
              "      <th>horror</th>\n",
              "      <th>science</th>\n",
              "    </tr>\n",
              "  </thead>\n",
              "  <tbody>\n",
              "    <tr>\n",
              "      <th>500</th>\n",
              "      <td>Protagonist Arthur (\"Art\") Mumby and his olde...</td>\n",
              "      <td>0</td>\n",
              "      <td>0</td>\n",
              "      <td>0</td>\n",
              "      <td>1</td>\n",
              "    </tr>\n",
              "    <tr>\n",
              "      <th>501</th>\n",
              "      <td>It is the 27th century. The culture featured ...</td>\n",
              "      <td>0</td>\n",
              "      <td>0</td>\n",
              "      <td>0</td>\n",
              "      <td>1</td>\n",
              "    </tr>\n",
              "    <tr>\n",
              "      <th>502</th>\n",
              "      <td>In Rocheworld, a small group of civilian and ...</td>\n",
              "      <td>0</td>\n",
              "      <td>0</td>\n",
              "      <td>0</td>\n",
              "      <td>1</td>\n",
              "    </tr>\n",
              "    <tr>\n",
              "      <th>503</th>\n",
              "      <td>In the post-war galaxy, ruined civilizations ...</td>\n",
              "      <td>0</td>\n",
              "      <td>0</td>\n",
              "      <td>0</td>\n",
              "      <td>1</td>\n",
              "    </tr>\n",
              "    <tr>\n",
              "      <th>504</th>\n",
              "      <td>In 2029 CE, the Earth is run by the Unity org...</td>\n",
              "      <td>0</td>\n",
              "      <td>0</td>\n",
              "      <td>0</td>\n",
              "      <td>1</td>\n",
              "    </tr>\n",
              "    <tr>\n",
              "      <th>...</th>\n",
              "      <td>...</td>\n",
              "      <td>...</td>\n",
              "      <td>...</td>\n",
              "      <td>...</td>\n",
              "      <td>...</td>\n",
              "    </tr>\n",
              "    <tr>\n",
              "      <th>3553</th>\n",
              "      <td>At last in paperback in one complete volume, h...</td>\n",
              "      <td>0</td>\n",
              "      <td>0</td>\n",
              "      <td>0</td>\n",
              "      <td>1</td>\n",
              "    </tr>\n",
              "    <tr>\n",
              "      <th>3554</th>\n",
              "      <td>Stephen King's apocalyptic vision of a world b...</td>\n",
              "      <td>0</td>\n",
              "      <td>0</td>\n",
              "      <td>0</td>\n",
              "      <td>1</td>\n",
              "    </tr>\n",
              "    <tr>\n",
              "      <th>3555</th>\n",
              "      <td>In the stunning continuation of the epic adven...</td>\n",
              "      <td>0</td>\n",
              "      <td>0</td>\n",
              "      <td>0</td>\n",
              "      <td>1</td>\n",
              "    </tr>\n",
              "    <tr>\n",
              "      <th>3556</th>\n",
              "      <td>Glen Runciter está muerto. ¿O lo están todos l...</td>\n",
              "      <td>0</td>\n",
              "      <td>0</td>\n",
              "      <td>0</td>\n",
              "      <td>1</td>\n",
              "    </tr>\n",
              "    <tr>\n",
              "      <th>3557</th>\n",
              "      <td>Jeune astronome convaincue de l'existence d'un...</td>\n",
              "      <td>0</td>\n",
              "      <td>0</td>\n",
              "      <td>0</td>\n",
              "      <td>1</td>\n",
              "    </tr>\n",
              "  </tbody>\n",
              "</table>\n",
              "<p>2347 rows × 5 columns</p>\n",
              "</div>\n",
              "      <button class=\"colab-df-convert\" onclick=\"convertToInteractive('df-e594a166-7139-437a-a560-dde3d42ca544')\"\n",
              "              title=\"Convert this dataframe to an interactive table.\"\n",
              "              style=\"display:none;\">\n",
              "        \n",
              "  <svg xmlns=\"http://www.w3.org/2000/svg\" height=\"24px\"viewBox=\"0 0 24 24\"\n",
              "       width=\"24px\">\n",
              "    <path d=\"M0 0h24v24H0V0z\" fill=\"none\"/>\n",
              "    <path d=\"M18.56 5.44l.94 2.06.94-2.06 2.06-.94-2.06-.94-.94-2.06-.94 2.06-2.06.94zm-11 1L8.5 8.5l.94-2.06 2.06-.94-2.06-.94L8.5 2.5l-.94 2.06-2.06.94zm10 10l.94 2.06.94-2.06 2.06-.94-2.06-.94-.94-2.06-.94 2.06-2.06.94z\"/><path d=\"M17.41 7.96l-1.37-1.37c-.4-.4-.92-.59-1.43-.59-.52 0-1.04.2-1.43.59L10.3 9.45l-7.72 7.72c-.78.78-.78 2.05 0 2.83L4 21.41c.39.39.9.59 1.41.59.51 0 1.02-.2 1.41-.59l7.78-7.78 2.81-2.81c.8-.78.8-2.07 0-2.86zM5.41 20L4 18.59l7.72-7.72 1.47 1.35L5.41 20z\"/>\n",
              "  </svg>\n",
              "      </button>\n",
              "      \n",
              "  <style>\n",
              "    .colab-df-container {\n",
              "      display:flex;\n",
              "      flex-wrap:wrap;\n",
              "      gap: 12px;\n",
              "    }\n",
              "\n",
              "    .colab-df-convert {\n",
              "      background-color: #E8F0FE;\n",
              "      border: none;\n",
              "      border-radius: 50%;\n",
              "      cursor: pointer;\n",
              "      display: none;\n",
              "      fill: #1967D2;\n",
              "      height: 32px;\n",
              "      padding: 0 0 0 0;\n",
              "      width: 32px;\n",
              "    }\n",
              "\n",
              "    .colab-df-convert:hover {\n",
              "      background-color: #E2EBFA;\n",
              "      box-shadow: 0px 1px 2px rgba(60, 64, 67, 0.3), 0px 1px 3px 1px rgba(60, 64, 67, 0.15);\n",
              "      fill: #174EA6;\n",
              "    }\n",
              "\n",
              "    [theme=dark] .colab-df-convert {\n",
              "      background-color: #3B4455;\n",
              "      fill: #D2E3FC;\n",
              "    }\n",
              "\n",
              "    [theme=dark] .colab-df-convert:hover {\n",
              "      background-color: #434B5C;\n",
              "      box-shadow: 0px 1px 3px 1px rgba(0, 0, 0, 0.15);\n",
              "      filter: drop-shadow(0px 1px 2px rgba(0, 0, 0, 0.3));\n",
              "      fill: #FFFFFF;\n",
              "    }\n",
              "  </style>\n",
              "\n",
              "      <script>\n",
              "        const buttonEl =\n",
              "          document.querySelector('#df-e594a166-7139-437a-a560-dde3d42ca544 button.colab-df-convert');\n",
              "        buttonEl.style.display =\n",
              "          google.colab.kernel.accessAllowed ? 'block' : 'none';\n",
              "\n",
              "        async function convertToInteractive(key) {\n",
              "          const element = document.querySelector('#df-e594a166-7139-437a-a560-dde3d42ca544');\n",
              "          const dataTable =\n",
              "            await google.colab.kernel.invokeFunction('convertToInteractive',\n",
              "                                                     [key], {});\n",
              "          if (!dataTable) return;\n",
              "\n",
              "          const docLinkHtml = 'Like what you see? Visit the ' +\n",
              "            '<a target=\"_blank\" href=https://colab.research.google.com/notebooks/data_table.ipynb>data table notebook</a>'\n",
              "            + ' to learn more about interactive tables.';\n",
              "          element.innerHTML = '';\n",
              "          dataTable['output_type'] = 'display_data';\n",
              "          await google.colab.output.renderOutput(dataTable, element);\n",
              "          const docLink = document.createElement('div');\n",
              "          docLink.innerHTML = docLinkHtml;\n",
              "          element.appendChild(docLink);\n",
              "        }\n",
              "      </script>\n",
              "    </div>\n",
              "  </div>\n",
              "  "
            ]
          },
          "metadata": {},
          "execution_count": 241
        }
      ]
    },
    {
      "cell_type": "code",
      "source": [
        "label_list = df_new.columns[1:].tolist()\n",
        "label_list"
      ],
      "metadata": {
        "colab": {
          "base_uri": "https://localhost:8080/"
        },
        "id": "bysM_ZPmg3B0",
        "outputId": "b607c8c3-3179-4f3e-a7c4-ee8727dba160"
      },
      "execution_count": 242,
      "outputs": [
        {
          "output_type": "execute_result",
          "data": {
            "text/plain": [
              "['crime', 'history', 'horror', 'science']"
            ]
          },
          "metadata": {},
          "execution_count": 242
        }
      ]
    },
    {
      "cell_type": "code",
      "source": [
        "import nltk\n",
        "nltk.download('stopwords')\n",
        "nltk.download('punkt')"
      ],
      "metadata": {
        "colab": {
          "base_uri": "https://localhost:8080/"
        },
        "id": "Uib_j0GJXazS",
        "outputId": "4a1d0181-d42a-4c54-ba19-b11bc52d0d0c"
      },
      "execution_count": 243,
      "outputs": [
        {
          "output_type": "stream",
          "name": "stderr",
          "text": [
            "[nltk_data] Downloading package stopwords to /root/nltk_data...\n",
            "[nltk_data]   Package stopwords is already up-to-date!\n",
            "[nltk_data] Downloading package punkt to /root/nltk_data...\n",
            "[nltk_data]   Package punkt is already up-to-date!\n"
          ]
        },
        {
          "output_type": "execute_result",
          "data": {
            "text/plain": [
              "True"
            ]
          },
          "metadata": {},
          "execution_count": 243
        }
      ]
    },
    {
      "cell_type": "code",
      "source": [
        "df_new['summary'][0]"
      ],
      "metadata": {
        "colab": {
          "base_uri": "https://localhost:8080/",
          "height": 515
        },
        "id": "Keej5W5OncyQ",
        "outputId": "ffcfd42a-8e97-45ba-e3d4-585a770c033c"
      },
      "execution_count": 244,
      "outputs": [
        {
          "output_type": "error",
          "ename": "KeyError",
          "evalue": "ignored",
          "traceback": [
            "\u001b[0;31m---------------------------------------------------------------------------\u001b[0m",
            "\u001b[0;31mKeyError\u001b[0m                                  Traceback (most recent call last)",
            "\u001b[0;32m/usr/local/lib/python3.7/dist-packages/pandas/core/indexes/base.py\u001b[0m in \u001b[0;36mget_loc\u001b[0;34m(self, key, method, tolerance)\u001b[0m\n\u001b[1;32m   3360\u001b[0m             \u001b[0;32mtry\u001b[0m\u001b[0;34m:\u001b[0m\u001b[0;34m\u001b[0m\u001b[0;34m\u001b[0m\u001b[0m\n\u001b[0;32m-> 3361\u001b[0;31m                 \u001b[0;32mreturn\u001b[0m \u001b[0mself\u001b[0m\u001b[0;34m.\u001b[0m\u001b[0m_engine\u001b[0m\u001b[0;34m.\u001b[0m\u001b[0mget_loc\u001b[0m\u001b[0;34m(\u001b[0m\u001b[0mcasted_key\u001b[0m\u001b[0;34m)\u001b[0m\u001b[0;34m\u001b[0m\u001b[0;34m\u001b[0m\u001b[0m\n\u001b[0m\u001b[1;32m   3362\u001b[0m             \u001b[0;32mexcept\u001b[0m \u001b[0mKeyError\u001b[0m \u001b[0;32mas\u001b[0m \u001b[0merr\u001b[0m\u001b[0;34m:\u001b[0m\u001b[0;34m\u001b[0m\u001b[0;34m\u001b[0m\u001b[0m\n",
            "\u001b[0;32m/usr/local/lib/python3.7/dist-packages/pandas/_libs/index.pyx\u001b[0m in \u001b[0;36mpandas._libs.index.IndexEngine.get_loc\u001b[0;34m()\u001b[0m\n",
            "\u001b[0;32m/usr/local/lib/python3.7/dist-packages/pandas/_libs/index.pyx\u001b[0m in \u001b[0;36mpandas._libs.index.IndexEngine.get_loc\u001b[0;34m()\u001b[0m\n",
            "\u001b[0;32mpandas/_libs/hashtable_class_helper.pxi\u001b[0m in \u001b[0;36mpandas._libs.hashtable.Int64HashTable.get_item\u001b[0;34m()\u001b[0m\n",
            "\u001b[0;32mpandas/_libs/hashtable_class_helper.pxi\u001b[0m in \u001b[0;36mpandas._libs.hashtable.Int64HashTable.get_item\u001b[0;34m()\u001b[0m\n",
            "\u001b[0;31mKeyError\u001b[0m: 0",
            "\nThe above exception was the direct cause of the following exception:\n",
            "\u001b[0;31mKeyError\u001b[0m                                  Traceback (most recent call last)",
            "\u001b[0;32m<ipython-input-244-23fe4dbb51a7>\u001b[0m in \u001b[0;36m<module>\u001b[0;34m\u001b[0m\n\u001b[0;32m----> 1\u001b[0;31m \u001b[0mdf_new\u001b[0m\u001b[0;34m[\u001b[0m\u001b[0;34m'summary'\u001b[0m\u001b[0;34m]\u001b[0m\u001b[0;34m[\u001b[0m\u001b[0;36m0\u001b[0m\u001b[0;34m]\u001b[0m\u001b[0;34m\u001b[0m\u001b[0;34m\u001b[0m\u001b[0m\n\u001b[0m",
            "\u001b[0;32m/usr/local/lib/python3.7/dist-packages/pandas/core/series.py\u001b[0m in \u001b[0;36m__getitem__\u001b[0;34m(self, key)\u001b[0m\n\u001b[1;32m    940\u001b[0m \u001b[0;34m\u001b[0m\u001b[0m\n\u001b[1;32m    941\u001b[0m         \u001b[0;32melif\u001b[0m \u001b[0mkey_is_scalar\u001b[0m\u001b[0;34m:\u001b[0m\u001b[0;34m\u001b[0m\u001b[0;34m\u001b[0m\u001b[0m\n\u001b[0;32m--> 942\u001b[0;31m             \u001b[0;32mreturn\u001b[0m \u001b[0mself\u001b[0m\u001b[0;34m.\u001b[0m\u001b[0m_get_value\u001b[0m\u001b[0;34m(\u001b[0m\u001b[0mkey\u001b[0m\u001b[0;34m)\u001b[0m\u001b[0;34m\u001b[0m\u001b[0;34m\u001b[0m\u001b[0m\n\u001b[0m\u001b[1;32m    943\u001b[0m \u001b[0;34m\u001b[0m\u001b[0m\n\u001b[1;32m    944\u001b[0m         \u001b[0;32mif\u001b[0m \u001b[0mis_hashable\u001b[0m\u001b[0;34m(\u001b[0m\u001b[0mkey\u001b[0m\u001b[0;34m)\u001b[0m\u001b[0;34m:\u001b[0m\u001b[0;34m\u001b[0m\u001b[0;34m\u001b[0m\u001b[0m\n",
            "\u001b[0;32m/usr/local/lib/python3.7/dist-packages/pandas/core/series.py\u001b[0m in \u001b[0;36m_get_value\u001b[0;34m(self, label, takeable)\u001b[0m\n\u001b[1;32m   1049\u001b[0m \u001b[0;34m\u001b[0m\u001b[0m\n\u001b[1;32m   1050\u001b[0m         \u001b[0;31m# Similar to Index.get_value, but we do not fall back to positional\u001b[0m\u001b[0;34m\u001b[0m\u001b[0;34m\u001b[0m\u001b[0;34m\u001b[0m\u001b[0m\n\u001b[0;32m-> 1051\u001b[0;31m         \u001b[0mloc\u001b[0m \u001b[0;34m=\u001b[0m \u001b[0mself\u001b[0m\u001b[0;34m.\u001b[0m\u001b[0mindex\u001b[0m\u001b[0;34m.\u001b[0m\u001b[0mget_loc\u001b[0m\u001b[0;34m(\u001b[0m\u001b[0mlabel\u001b[0m\u001b[0;34m)\u001b[0m\u001b[0;34m\u001b[0m\u001b[0;34m\u001b[0m\u001b[0m\n\u001b[0m\u001b[1;32m   1052\u001b[0m         \u001b[0;32mreturn\u001b[0m \u001b[0mself\u001b[0m\u001b[0;34m.\u001b[0m\u001b[0mindex\u001b[0m\u001b[0;34m.\u001b[0m\u001b[0m_get_values_for_loc\u001b[0m\u001b[0;34m(\u001b[0m\u001b[0mself\u001b[0m\u001b[0;34m,\u001b[0m \u001b[0mloc\u001b[0m\u001b[0;34m,\u001b[0m \u001b[0mlabel\u001b[0m\u001b[0;34m)\u001b[0m\u001b[0;34m\u001b[0m\u001b[0;34m\u001b[0m\u001b[0m\n\u001b[1;32m   1053\u001b[0m \u001b[0;34m\u001b[0m\u001b[0m\n",
            "\u001b[0;32m/usr/local/lib/python3.7/dist-packages/pandas/core/indexes/base.py\u001b[0m in \u001b[0;36mget_loc\u001b[0;34m(self, key, method, tolerance)\u001b[0m\n\u001b[1;32m   3361\u001b[0m                 \u001b[0;32mreturn\u001b[0m \u001b[0mself\u001b[0m\u001b[0;34m.\u001b[0m\u001b[0m_engine\u001b[0m\u001b[0;34m.\u001b[0m\u001b[0mget_loc\u001b[0m\u001b[0;34m(\u001b[0m\u001b[0mcasted_key\u001b[0m\u001b[0;34m)\u001b[0m\u001b[0;34m\u001b[0m\u001b[0;34m\u001b[0m\u001b[0m\n\u001b[1;32m   3362\u001b[0m             \u001b[0;32mexcept\u001b[0m \u001b[0mKeyError\u001b[0m \u001b[0;32mas\u001b[0m \u001b[0merr\u001b[0m\u001b[0;34m:\u001b[0m\u001b[0;34m\u001b[0m\u001b[0;34m\u001b[0m\u001b[0m\n\u001b[0;32m-> 3363\u001b[0;31m                 \u001b[0;32mraise\u001b[0m \u001b[0mKeyError\u001b[0m\u001b[0;34m(\u001b[0m\u001b[0mkey\u001b[0m\u001b[0;34m)\u001b[0m \u001b[0;32mfrom\u001b[0m \u001b[0merr\u001b[0m\u001b[0;34m\u001b[0m\u001b[0;34m\u001b[0m\u001b[0m\n\u001b[0m\u001b[1;32m   3364\u001b[0m \u001b[0;34m\u001b[0m\u001b[0m\n\u001b[1;32m   3365\u001b[0m         \u001b[0;32mif\u001b[0m \u001b[0mis_scalar\u001b[0m\u001b[0;34m(\u001b[0m\u001b[0mkey\u001b[0m\u001b[0;34m)\u001b[0m \u001b[0;32mand\u001b[0m \u001b[0misna\u001b[0m\u001b[0;34m(\u001b[0m\u001b[0mkey\u001b[0m\u001b[0;34m)\u001b[0m \u001b[0;32mand\u001b[0m \u001b[0;32mnot\u001b[0m \u001b[0mself\u001b[0m\u001b[0;34m.\u001b[0m\u001b[0mhasnans\u001b[0m\u001b[0;34m:\u001b[0m\u001b[0;34m\u001b[0m\u001b[0;34m\u001b[0m\u001b[0m\n",
            "\u001b[0;31mKeyError\u001b[0m: 0"
          ]
        }
      ]
    },
    {
      "cell_type": "code",
      "source": [
        "## Menghilangkan stopwords\n",
        "\n",
        "from nltk.corpus import stopwords\n",
        "STOPWORDS = set(stopwords.words('english'))\n",
        "sentences = df_new['summary']\n",
        "\n",
        "for i, sent in enumerate(sentences):\n",
        "  for word in STOPWORDS:\n",
        "      token = ' ' + word + ' '\n",
        "      sent = sent.replace(token, ' ')\n",
        "      sentences[i] = sent.replace(' ', ' ')"
      ],
      "metadata": {
        "id": "TOPsPnjJfIJD"
      },
      "execution_count": 245,
      "outputs": []
    },
    {
      "cell_type": "code",
      "source": [
        "sentences[0]"
      ],
      "metadata": {
        "colab": {
          "base_uri": "https://localhost:8080/",
          "height": 178
        },
        "id": "kL_SNMQ_nrZJ",
        "outputId": "e6800123-736d-474a-ca5e-5679f5fb120c"
      },
      "execution_count": 246,
      "outputs": [
        {
          "output_type": "execute_result",
          "data": {
            "text/plain": [
              "' Protagonist Arthur (\"Art\") Mumby older sister Myrtle invited Starcross hotel small periodically barren asteroid. There, Arthur’s mother Emily suspects Starcross built piece Mars routinely slips hole fabric time, Myrtle discovers Sir Richard Burton Martian wife Ulla changed trees. Jack Havock, British secret agent, appears scene disguised Indian prince. In following night attacked Moobs, species resembling animated black top hats, take control Jack’s crew guests, including Emily. Myrtle Jack escape, become lost deserts prehistoric Mars. There, encounter Delphine, one guests, French secret agent determined find grandfather’s wrecked ship create American-style republic name. At wreck, discover Delphine’s grandfather killed Moobs, later learn Moobs native time period near end universe, live chiefly feeding species\\' thoughts. A well-intentioned Moob helps Jack win Delphine’s soldiers side, return Starcross. There, Moobs load Jack\\'s ship comrades plan take control local societies. Art frees Jack’s crew influence, return Starcross discover Arthur’s mother, sufficient memory sate them, subdued Moobs. Starcross\\' owner Sir Launcelot Sprigg Delphine attempt overpower others; Arthur’s mother changes babies. The protagonists enter future inspire Moobs new thoughts, whereby stimulated greater activity. Thereafter Myrtle, challenged Jack, determines study cold fusion used space travel; whereas Professor Ferny, plant-like creature, promises find cure Sir Richard Ulla\\'s transformation.'"
            ],
            "application/vnd.google.colaboratory.intrinsic+json": {
              "type": "string"
            }
          },
          "metadata": {},
          "execution_count": 246
        }
      ]
    },
    {
      "cell_type": "code",
      "source": [
        "## ubah text jadi lower-case\n",
        "df_new['summary'] = sentences.apply(lambda x: x.lower())\n",
        "df_new['summary']"
      ],
      "metadata": {
        "colab": {
          "base_uri": "https://localhost:8080/"
        },
        "id": "6z-QI4eYP4XJ",
        "outputId": "2f6eb791-a941-4549-a378-0ea4ad8e1615"
      },
      "execution_count": 247,
      "outputs": [
        {
          "output_type": "execute_result",
          "data": {
            "text/plain": [
              "500      the novel's central character joe cashin, mel...\n",
              "501      jane marple, elderly amateur sleuth, takes ho...\n",
              "502      the story told peter aaron victim, benjamin s...\n",
              "503      while staying aunt jane suffolk, adam dalglie...\n",
              "504      serge follows suitcase containing five millio...\n",
              "                              ...                        \n",
              "3553    at last in paperback in one complete volume, h...\n",
              "3554    stephen king's apocalyptic vision of a world b...\n",
              "3555    in the stunning continuation of the epic adven...\n",
              "3556    glen runciter está muerto. ¿o lo están todos l...\n",
              "3557    jeune astronome convaincue de l'existence d'un...\n",
              "Name: summary, Length: 2347, dtype: object"
            ]
          },
          "metadata": {},
          "execution_count": 247
        }
      ]
    },
    {
      "cell_type": "code",
      "source": [
        "# Splitting data kalimat dan label menjadi X dan y\n",
        "X = df_new['summary'].values\n",
        "y = df_new.drop(columns='summary').values"
      ],
      "metadata": {
        "id": "DSdK1XNONH3n"
      },
      "execution_count": 248,
      "outputs": []
    },
    {
      "cell_type": "code",
      "source": [
        "# Split data menjadi train dan test\n",
        "from sklearn.model_selection import train_test_split\n",
        "\n",
        "X_train, X_test, y_train, y_test = train_test_split(X, y, test_size=0.2, shuffle=True)"
      ],
      "metadata": {
        "id": "OD9uVYRvNe33"
      },
      "execution_count": 249,
      "outputs": []
    },
    {
      "cell_type": "code",
      "source": [
        "## Tokenizer\n",
        "from tensorflow.keras.preprocessing.text import Tokenizer\n",
        "\n",
        "tokenizer = Tokenizer(num_words=10000, oov_token='<oov>', filters='!\"#$%&()*+,-./:;<=>?@[\\\\]^_`{\"}~\\t\\n',)\n",
        "tokenizer.fit_on_texts(X_train) \n",
        "# tokenizer.fit_on_texts(X_test)\n",
        "\n",
        "X_seq_train = tokenizer.texts_to_sequences(X_train)\n",
        "X_seq_test = tokenizer.texts_to_sequences(X_test)\n",
        "\n",
        "max([len(x) for x in X_seq_train])"
      ],
      "metadata": {
        "colab": {
          "base_uri": "https://localhost:8080/"
        },
        "id": "kXx6Ijw6L_6N",
        "outputId": "3a25517a-c956-44e3-ed72-ea8645ea2cc3"
      },
      "execution_count": 265,
      "outputs": [
        {
          "output_type": "execute_result",
          "data": {
            "text/plain": [
              "3276"
            ]
          },
          "metadata": {},
          "execution_count": 265
        }
      ]
    },
    {
      "cell_type": "code",
      "source": [
        "## Padding\n",
        "from tensorflow.keras.preprocessing.sequence import pad_sequences\n",
        "\n",
        "X_pad_train = pad_sequences(\n",
        "    X_seq_train,\n",
        "    # padding='pre',\n",
        "    # maxlen=200,\n",
        "    # truncating='pre'\n",
        ") \n",
        "X_pad_test = pad_sequences(\n",
        "    X_seq_test,\n",
        "    # padding='pre',\n",
        "    # maxlen=200,\n",
        "    # truncating='pre'\n",
        ") "
      ],
      "metadata": {
        "id": "cQLNa0rMJQnm"
      },
      "execution_count": 266,
      "outputs": []
    },
    {
      "cell_type": "markdown",
      "source": [
        "## Training Model"
      ],
      "metadata": {
        "id": "dm2yV1HMuo8L"
      }
    },
    {
      "cell_type": "code",
      "source": [
        "num_class = len(label_list)\n",
        "num_class"
      ],
      "metadata": {
        "colab": {
          "base_uri": "https://localhost:8080/"
        },
        "id": "YbfDyQi4qLUk",
        "outputId": "45acf774-712f-43c7-8b3c-ccf4eee0fb90"
      },
      "execution_count": 267,
      "outputs": [
        {
          "output_type": "execute_result",
          "data": {
            "text/plain": [
              "4"
            ]
          },
          "metadata": {},
          "execution_count": 267
        }
      ]
    },
    {
      "cell_type": "code",
      "source": [
        "## Buat model arsitektur neural network\n",
        "\n",
        "import tensorflow as tf\n",
        "model = tf.keras.Sequential([\n",
        "    tf.keras.layers.Embedding(input_dim=10000, output_dim=16),\n",
        "    tf.keras.layers.LSTM(64),\n",
        "    tf.keras.layers.Dense(512, activation='relu'),\n",
        "    tf.keras.layers.Dropout(0.3),\n",
        "    # tf.keras.layers.Dense(128, kernel_regularizer=tf.keras.regularizers.l2(0.01), activation='relu'),\n",
        "    tf.keras.layers.Dense(128, activation='relu'),\n",
        "    tf.keras.layers.Dropout(0.2),\n",
        "    tf.keras.layers.Dense(num_class, activation='softmax')\n",
        "])\n",
        "\n",
        "model.summary()"
      ],
      "metadata": {
        "colab": {
          "base_uri": "https://localhost:8080/"
        },
        "id": "eXDDU2N_Rtt1",
        "outputId": "e26e7eee-a471-4e35-b08b-eeab9bde5af5"
      },
      "execution_count": 268,
      "outputs": [
        {
          "output_type": "stream",
          "name": "stdout",
          "text": [
            "Model: \"sequential_38\"\n",
            "_________________________________________________________________\n",
            " Layer (type)                Output Shape              Param #   \n",
            "=================================================================\n",
            " embedding_39 (Embedding)    (None, None, 16)          160000    \n",
            "                                                                 \n",
            " lstm_46 (LSTM)              (None, 64)                20736     \n",
            "                                                                 \n",
            " dense_124 (Dense)           (None, 512)               33280     \n",
            "                                                                 \n",
            " dropout_63 (Dropout)        (None, 512)               0         \n",
            "                                                                 \n",
            " dense_125 (Dense)           (None, 128)               65664     \n",
            "                                                                 \n",
            " dropout_64 (Dropout)        (None, 128)               0         \n",
            "                                                                 \n",
            " dense_126 (Dense)           (None, 4)                 516       \n",
            "                                                                 \n",
            "=================================================================\n",
            "Total params: 280,196\n",
            "Trainable params: 280,196\n",
            "Non-trainable params: 0\n",
            "_________________________________________________________________\n"
          ]
        }
      ]
    },
    {
      "cell_type": "code",
      "source": [
        "## compile model\n",
        "\n",
        "opt_sgd = tf.keras.optimizers.SGD(learning_rate=0.01)\n",
        "opt_adam = tf.keras.optimizers.Adam(learning_rate=0.001)\n",
        "\n",
        "model.compile(loss = \"categorical_crossentropy\", optimizer=opt_adam, metrics=['accuracy'])"
      ],
      "metadata": {
        "id": "3stPJ3wu9Ul-"
      },
      "execution_count": 269,
      "outputs": []
    },
    {
      "cell_type": "code",
      "source": [
        "## membuat callbacks earlystop \n",
        "\n",
        "class myCallback(tf.keras.callbacks.Callback):\n",
        "  def on_epoch_end(self, epoch, logs={}):\n",
        "    if(logs.get(\"accuracy\") >= 0.95 and logs.get(\"val_accuracy\") >= 0.95):\n",
        "      print(\"Target reached!\")\n",
        "      self.model.stop_training = True\n",
        "    if(logs.get(\"val_loss\") >= 4.0):\n",
        "      print(\"Target reached!\")\n",
        "      self.model.stop_training = True\n",
        "\n",
        "callbacks = myCallback()"
      ],
      "metadata": {
        "id": "mOR6ZBplSeNM"
      },
      "execution_count": 270,
      "outputs": []
    },
    {
      "cell_type": "code",
      "source": [
        "## Train model\n",
        "\n",
        "num_epochs = 50\n",
        "history = model.fit(\n",
        "    X_pad_train, y_train, \n",
        "    epochs=num_epochs, \n",
        "    validation_data=(X_pad_test, y_test), \n",
        "    verbose=1,\n",
        "    callbacks=[callbacks]\n",
        ")"
      ],
      "metadata": {
        "colab": {
          "base_uri": "https://localhost:8080/"
        },
        "id": "l2nsaTgLSIpc",
        "outputId": "9bc53486-dd1e-45f3-a05c-f59dc241b199"
      },
      "execution_count": 271,
      "outputs": [
        {
          "output_type": "stream",
          "name": "stdout",
          "text": [
            "Epoch 1/50\n",
            "59/59 [==============================] - 9s 116ms/step - loss: 1.3491 - accuracy: 0.3255 - val_loss: 1.2719 - val_accuracy: 0.3596\n",
            "Epoch 2/50\n",
            "59/59 [==============================] - 6s 105ms/step - loss: 1.0623 - accuracy: 0.5253 - val_loss: 1.1861 - val_accuracy: 0.4383\n",
            "Epoch 3/50\n",
            "59/59 [==============================] - 6s 104ms/step - loss: 0.7815 - accuracy: 0.6404 - val_loss: 1.3079 - val_accuracy: 0.4638\n",
            "Epoch 4/50\n",
            "59/59 [==============================] - 6s 107ms/step - loss: 0.5426 - accuracy: 0.8023 - val_loss: 1.2822 - val_accuracy: 0.5128\n",
            "Epoch 5/50\n",
            "59/59 [==============================] - 6s 107ms/step - loss: 0.4032 - accuracy: 0.8540 - val_loss: 1.5102 - val_accuracy: 0.5085\n",
            "Epoch 6/50\n",
            "59/59 [==============================] - 6s 106ms/step - loss: 0.2345 - accuracy: 0.9217 - val_loss: 2.1254 - val_accuracy: 0.4957\n",
            "Epoch 7/50\n",
            "59/59 [==============================] - 6s 104ms/step - loss: 0.2023 - accuracy: 0.9302 - val_loss: 1.9801 - val_accuracy: 0.4638\n",
            "Epoch 8/50\n",
            "59/59 [==============================] - 6s 104ms/step - loss: 0.1544 - accuracy: 0.9489 - val_loss: 2.3518 - val_accuracy: 0.4617\n",
            "Epoch 9/50\n",
            "59/59 [==============================] - 6s 107ms/step - loss: 0.1298 - accuracy: 0.9616 - val_loss: 2.2637 - val_accuracy: 0.4766\n",
            "Epoch 10/50\n",
            "59/59 [==============================] - 6s 109ms/step - loss: 0.1080 - accuracy: 0.9702 - val_loss: 2.5977 - val_accuracy: 0.4638\n",
            "Epoch 11/50\n",
            "59/59 [==============================] - 6s 107ms/step - loss: 0.0921 - accuracy: 0.9718 - val_loss: 2.6168 - val_accuracy: 0.4766\n",
            "Epoch 12/50\n",
            "59/59 [==============================] - 6s 104ms/step - loss: 0.0712 - accuracy: 0.9760 - val_loss: 2.8177 - val_accuracy: 0.4830\n",
            "Epoch 13/50\n",
            "59/59 [==============================] - 6s 102ms/step - loss: 0.0736 - accuracy: 0.9744 - val_loss: 2.6806 - val_accuracy: 0.4787\n",
            "Epoch 14/50\n",
            "59/59 [==============================] - 6s 106ms/step - loss: 0.0802 - accuracy: 0.9755 - val_loss: 2.8935 - val_accuracy: 0.4809\n",
            "Epoch 15/50\n",
            "59/59 [==============================] - 6s 107ms/step - loss: 0.1026 - accuracy: 0.9654 - val_loss: 2.4532 - val_accuracy: 0.4638\n",
            "Epoch 16/50\n",
            "59/59 [==============================] - 6s 109ms/step - loss: 0.0956 - accuracy: 0.9680 - val_loss: 2.8817 - val_accuracy: 0.4532\n",
            "Epoch 17/50\n",
            "59/59 [==============================] - 6s 104ms/step - loss: 0.0598 - accuracy: 0.9808 - val_loss: 2.8468 - val_accuracy: 0.4532\n",
            "Epoch 18/50\n",
            "59/59 [==============================] - 6s 103ms/step - loss: 0.0512 - accuracy: 0.9824 - val_loss: 3.2542 - val_accuracy: 0.4766\n",
            "Epoch 19/50\n",
            "59/59 [==============================] - 6s 106ms/step - loss: 0.0726 - accuracy: 0.9766 - val_loss: 3.0742 - val_accuracy: 0.4851\n",
            "Epoch 20/50\n",
            "59/59 [==============================] - 6s 107ms/step - loss: 0.0426 - accuracy: 0.9867 - val_loss: 3.1508 - val_accuracy: 0.4532\n",
            "Epoch 21/50\n",
            "59/59 [==============================] - 6s 107ms/step - loss: 0.0299 - accuracy: 0.9899 - val_loss: 3.4364 - val_accuracy: 0.4723\n",
            "Epoch 22/50\n",
            "59/59 [==============================] - 6s 105ms/step - loss: 0.0258 - accuracy: 0.9925 - val_loss: 3.4999 - val_accuracy: 0.4574\n",
            "Epoch 23/50\n",
            "59/59 [==============================] - 6s 103ms/step - loss: 0.0227 - accuracy: 0.9920 - val_loss: 3.5763 - val_accuracy: 0.4766\n",
            "Epoch 24/50\n",
            "59/59 [==============================] - 6s 107ms/step - loss: 0.0195 - accuracy: 0.9925 - val_loss: 3.5798 - val_accuracy: 0.4617\n",
            "Epoch 25/50\n",
            "59/59 [==============================] - 6s 107ms/step - loss: 0.0235 - accuracy: 0.9909 - val_loss: 3.6085 - val_accuracy: 0.4596\n",
            "Epoch 26/50\n",
            "59/59 [==============================] - 6s 106ms/step - loss: 0.0192 - accuracy: 0.9904 - val_loss: 3.8683 - val_accuracy: 0.4596\n",
            "Epoch 27/50\n",
            "59/59 [==============================] - 6s 105ms/step - loss: 0.0180 - accuracy: 0.9915 - val_loss: 3.7745 - val_accuracy: 0.4638\n",
            "Epoch 28/50\n",
            "59/59 [==============================] - 6s 103ms/step - loss: 0.0177 - accuracy: 0.9920 - val_loss: 3.9448 - val_accuracy: 0.4745\n",
            "Epoch 29/50\n",
            "59/59 [==============================] - 6s 107ms/step - loss: 0.0172 - accuracy: 0.9899 - val_loss: 3.8586 - val_accuracy: 0.4681\n",
            "Epoch 30/50\n",
            "59/59 [==============================] - ETA: 0s - loss: 0.0140 - accuracy: 0.9931Target reached!\n",
            "59/59 [==============================] - 6s 107ms/step - loss: 0.0140 - accuracy: 0.9931 - val_loss: 4.1631 - val_accuracy: 0.4617\n"
          ]
        }
      ]
    },
    {
      "cell_type": "code",
      "source": [
        "## evaluasi model\n",
        "model.evaluate(X_pad_test, y_test)"
      ],
      "metadata": {
        "colab": {
          "base_uri": "https://localhost:8080/"
        },
        "id": "Xq2EDjAbmlBK",
        "outputId": "42c564c1-26b4-428f-b1a0-f7165abf5a2e"
      },
      "execution_count": 279,
      "outputs": [
        {
          "output_type": "stream",
          "name": "stdout",
          "text": [
            "15/15 [==============================] - 1s 45ms/step - loss: 4.1631 - accuracy: 0.4617\n"
          ]
        },
        {
          "output_type": "execute_result",
          "data": {
            "text/plain": [
              "[4.163113117218018, 0.4617021381855011]"
            ]
          },
          "metadata": {},
          "execution_count": 279
        }
      ]
    },
    {
      "cell_type": "markdown",
      "source": [
        "## Plot loss dan akurasi"
      ],
      "metadata": {
        "id": "Hk97anBTvb2q"
      }
    },
    {
      "cell_type": "code",
      "source": [
        "import matplotlib.pyplot as plt\n",
        "\n",
        "loss = history.history['loss']\n",
        "val_loss = history.history['val_loss']\n",
        "\n",
        "acc = history.history['accuracy']\n",
        "val_acc = history.history['val_accuracy']\n",
        "\n",
        "plt.figure(figsize=(15, 5))\n",
        "\n",
        "plt.subplot(1, 2, 1)\n",
        "plt.title('Loss')\n",
        "plt.xlabel('Epoch')\n",
        "plt.ylabel('Loss')\n",
        "plt.plot(loss, label='Training set')\n",
        "plt.plot(val_loss, label='Validation set', linestyle='--')\n",
        "plt.legend()\n",
        "plt.grid(linestyle='--', linewidth=1, alpha=0.5)\n",
        "\n",
        "plt.subplot(1, 2, 2)\n",
        "plt.title('Accuracy')\n",
        "plt.xlabel('Epoch')\n",
        "plt.ylabel('Accuracy')\n",
        "plt.plot(acc, label='Training set')\n",
        "plt.plot(val_acc, label='Validation set', linestyle='--')\n",
        "plt.legend()\n",
        "plt.grid(linestyle='--', linewidth=1, alpha=0.5)\n",
        "\n",
        "plt.show()"
      ],
      "metadata": {
        "colab": {
          "base_uri": "https://localhost:8080/",
          "height": 350
        },
        "id": "uPwHN07umqqG",
        "outputId": "bfbdfbd1-c51c-48db-9194-facada6225ef"
      },
      "execution_count": 280,
      "outputs": [
        {
          "output_type": "display_data",
          "data": {
            "text/plain": [
              "<Figure size 1080x360 with 2 Axes>"
            ],
            "image/png": "[encoded data removed]"
          },
          "metadata": {
            "needs_background": "light"
          }
        }
      ]
    },
    {
      "cell_type": "markdown",
      "source": [
        "## Plot Confusing Matrix"
      ],
      "metadata": {
        "id": "r21PRQOyew1O"
      }
    },
    {
      "cell_type": "code",
      "source": [
        "import numpy as np\n",
        "from sklearn.metrics import confusion_matrix, classification_report\n",
        "import warnings\n",
        "warnings.filterwarnings('ignore')"
      ],
      "metadata": {
        "id": "Iy6U8jVXfqXo"
      },
      "execution_count": 281,
      "outputs": []
    },
    {
      "cell_type": "code",
      "source": [
        "predictions = model.predict(X_pad_test)\n",
        "predictions[:5]"
      ],
      "metadata": {
        "colab": {
          "base_uri": "https://localhost:8080/"
        },
        "id": "plcGfqPPe0gv",
        "outputId": "b8577fa4-e7a4-4293-a986-27745665485f"
      },
      "execution_count": 282,
      "outputs": [
        {
          "output_type": "execute_result",
          "data": {
            "text/plain": [
              "array([[3.8218364e-01, 6.1764163e-01, 2.2682834e-05, 1.5201555e-04],\n",
              "       [3.6256979e-04, 8.4413004e-01, 2.9013648e-03, 1.5260610e-01],\n",
              "       [3.1534219e-04, 2.3708928e-03, 1.3733463e-01, 8.5997903e-01],\n",
              "       [9.7373790e-01, 2.6262080e-02, 4.6000232e-13, 1.6419432e-11],\n",
              "       [9.9930382e-01, 6.9603458e-04, 6.9352513e-10, 1.2486001e-07]],\n",
              "      dtype=float32)"
            ]
          },
          "metadata": {},
          "execution_count": 282
        }
      ]
    },
    {
      "cell_type": "code",
      "source": [
        "prediction_labels = np.argmax(predictions, axis=1)\n",
        "prediction_labels[:5]"
      ],
      "metadata": {
        "colab": {
          "base_uri": "https://localhost:8080/"
        },
        "id": "v3XBjcZ4e_5c",
        "outputId": "2733e492-3051-45c7-a312-a692a2de2bf9"
      },
      "execution_count": 284,
      "outputs": [
        {
          "output_type": "execute_result",
          "data": {
            "text/plain": [
              "array([1, 1, 3, 0, 0])"
            ]
          },
          "metadata": {},
          "execution_count": 284
        }
      ]
    },
    {
      "cell_type": "code",
      "source": [
        "labels_test = np.argmax(y_test, axis=1)\n",
        "labels_test[:5]"
      ],
      "metadata": {
        "colab": {
          "base_uri": "https://localhost:8080/"
        },
        "id": "dMDxvGc3fMCr",
        "outputId": "9a0a35b8-38e8-4820-f39b-164a2c46cbfd"
      },
      "execution_count": 285,
      "outputs": [
        {
          "output_type": "execute_result",
          "data": {
            "text/plain": [
              "array([1, 2, 2, 2, 1])"
            ]
          },
          "metadata": {},
          "execution_count": 285
        }
      ]
    },
    {
      "cell_type": "code",
      "source": [
        "print(classification_report(labels_test, prediction_labels, target_names=label_list))\n",
        "print(\"===============================================================\")\n",
        "print(\"===============================================================\")\n",
        "pd.DataFrame(confusion_matrix(labels_test, prediction_labels), index=label_list, columns=label_list)"
      ],
      "metadata": {
        "id": "WtinBlEXmqk4",
        "colab": {
          "base_uri": "https://localhost:8080/",
          "height": 407
        },
        "outputId": "b6a6f60c-b157-4258-c4e9-02df3965d429"
      },
      "execution_count": 286,
      "outputs": [
        {
          "output_type": "stream",
          "name": "stdout",
          "text": [
            "              precision    recall  f1-score   support\n",
            "\n",
            "       crime       0.65      0.56      0.60        99\n",
            "     history       0.36      0.38      0.37       129\n",
            "      horror       0.36      0.50      0.42       102\n",
            "     science       0.58      0.44      0.50       140\n",
            "\n",
            "    accuracy                           0.46       470\n",
            "   macro avg       0.49      0.47      0.47       470\n",
            "weighted avg       0.49      0.46      0.47       470\n",
            "\n",
            "===============================================================\n",
            "===============================================================\n"
          ]
        },
        {
          "output_type": "execute_result",
          "data": {
            "text/plain": [
              "         crime  history  horror  science\n",
              "crime       55       34       3        7\n",
              "history     13       49      57       10\n",
              "horror       2       21      51       28\n",
              "science     15       33      30       62"
            ],
            "text/html": [
              "\n",
              "  <div id=\"df-a0b8b8ce-4a8c-454e-9fa3-557b06a36977\">\n",
              "    <div class=\"colab-df-container\">\n",
              "      <div>\n",
              "<style scoped>\n",
              "    .dataframe tbody tr th:only-of-type {\n",
              "        vertical-align: middle;\n",
              "    }\n",
              "\n",
              "    .dataframe tbody tr th {\n",
              "        vertical-align: top;\n",
              "    }\n",
              "\n",
              "    .dataframe thead th {\n",
              "        text-align: right;\n",
              "    }\n",
              "</style>\n",
              "<table border=\"1\" class=\"dataframe\">\n",
              "  <thead>\n",
              "    <tr style=\"text-align: right;\">\n",
              "      <th></th>\n",
              "      <th>crime</th>\n",
              "      <th>history</th>\n",
              "      <th>horror</th>\n",
              "      <th>science</th>\n",
              "    </tr>\n",
              "  </thead>\n",
              "  <tbody>\n",
              "    <tr>\n",
              "      <th>crime</th>\n",
              "      <td>55</td>\n",
              "      <td>34</td>\n",
              "      <td>3</td>\n",
              "      <td>7</td>\n",
              "    </tr>\n",
              "    <tr>\n",
              "      <th>history</th>\n",
              "      <td>13</td>\n",
              "      <td>49</td>\n",
              "      <td>57</td>\n",
              "      <td>10</td>\n",
              "    </tr>\n",
              "    <tr>\n",
              "      <th>horror</th>\n",
              "      <td>2</td>\n",
              "      <td>21</td>\n",
              "      <td>51</td>\n",
              "      <td>28</td>\n",
              "    </tr>\n",
              "    <tr>\n",
              "      <th>science</th>\n",
              "      <td>15</td>\n",
              "      <td>33</td>\n",
              "      <td>30</td>\n",
              "      <td>62</td>\n",
              "    </tr>\n",
              "  </tbody>\n",
              "</table>\n",
              "</div>\n",
              "      <button class=\"colab-df-convert\" onclick=\"convertToInteractive('df-a0b8b8ce-4a8c-454e-9fa3-557b06a36977')\"\n",
              "              title=\"Convert this dataframe to an interactive table.\"\n",
              "              style=\"display:none;\">\n",
              "        \n",
              "  <svg xmlns=\"http://www.w3.org/2000/svg\" height=\"24px\"viewBox=\"0 0 24 24\"\n",
              "       width=\"24px\">\n",
              "    <path d=\"M0 0h24v24H0V0z\" fill=\"none\"/>\n",
              "    <path d=\"M18.56 5.44l.94 2.06.94-2.06 2.06-.94-2.06-.94-.94-2.06-.94 2.06-2.06.94zm-11 1L8.5 8.5l.94-2.06 2.06-.94-2.06-.94L8.5 2.5l-.94 2.06-2.06.94zm10 10l.94 2.06.94-2.06 2.06-.94-2.06-.94-.94-2.06-.94 2.06-2.06.94z\"/><path d=\"M17.41 7.96l-1.37-1.37c-.4-.4-.92-.59-1.43-.59-.52 0-1.04.2-1.43.59L10.3 9.45l-7.72 7.72c-.78.78-.78 2.05 0 2.83L4 21.41c.39.39.9.59 1.41.59.51 0 1.02-.2 1.41-.59l7.78-7.78 2.81-2.81c.8-.78.8-2.07 0-2.86zM5.41 20L4 18.59l7.72-7.72 1.47 1.35L5.41 20z\"/>\n",
              "  </svg>\n",
              "      </button>\n",
              "      \n",
              "  <style>\n",
              "    .colab-df-container {\n",
              "      display:flex;\n",
              "      flex-wrap:wrap;\n",
              "      gap: 12px;\n",
              "    }\n",
              "\n",
              "    .colab-df-convert {\n",
              "      background-color: #E8F0FE;\n",
              "      border: none;\n",
              "      border-radius: 50%;\n",
              "      cursor: pointer;\n",
              "      display: none;\n",
              "      fill: #1967D2;\n",
              "      height: 32px;\n",
              "      padding: 0 0 0 0;\n",
              "      width: 32px;\n",
              "    }\n",
              "\n",
              "    .colab-df-convert:hover {\n",
              "      background-color: #E2EBFA;\n",
              "      box-shadow: 0px 1px 2px rgba(60, 64, 67, 0.3), 0px 1px 3px 1px rgba(60, 64, 67, 0.15);\n",
              "      fill: #174EA6;\n",
              "    }\n",
              "\n",
              "    [theme=dark] .colab-df-convert {\n",
              "      background-color: #3B4455;\n",
              "      fill: #D2E3FC;\n",
              "    }\n",
              "\n",
              "    [theme=dark] .colab-df-convert:hover {\n",
              "      background-color: #434B5C;\n",
              "      box-shadow: 0px 1px 3px 1px rgba(0, 0, 0, 0.15);\n",
              "      filter: drop-shadow(0px 1px 2px rgba(0, 0, 0, 0.3));\n",
              "      fill: #FFFFFF;\n",
              "    }\n",
              "  </style>\n",
              "\n",
              "      <script>\n",
              "        const buttonEl =\n",
              "          document.querySelector('#df-a0b8b8ce-4a8c-454e-9fa3-557b06a36977 button.colab-df-convert');\n",
              "        buttonEl.style.display =\n",
              "          google.colab.kernel.accessAllowed ? 'block' : 'none';\n",
              "\n",
              "        async function convertToInteractive(key) {\n",
              "          const element = document.querySelector('#df-a0b8b8ce-4a8c-454e-9fa3-557b06a36977');\n",
              "          const dataTable =\n",
              "            await google.colab.kernel.invokeFunction('convertToInteractive',\n",
              "                                                     [key], {});\n",
              "          if (!dataTable) return;\n",
              "\n",
              "          const docLinkHtml = 'Like what you see? Visit the ' +\n",
              "            '<a target=\"_blank\" href=https://colab.research.google.com/notebooks/data_table.ipynb>data table notebook</a>'\n",
              "            + ' to learn more about interactive tables.';\n",
              "          element.innerHTML = '';\n",
              "          dataTable['output_type'] = 'display_data';\n",
              "          await google.colab.output.renderOutput(dataTable, element);\n",
              "          const docLink = document.createElement('div');\n",
              "          docLink.innerHTML = docLinkHtml;\n",
              "          element.appendChild(docLink);\n",
              "        }\n",
              "      </script>\n",
              "    </div>\n",
              "  </div>\n",
              "  "
            ]
          },
          "metadata": {},
          "execution_count": 286
        }
      ]
    },
    {
      "cell_type": "code",
      "source": [],
      "metadata": {
        "id": "sL4Z_9B4iker"
      },
      "execution_count": null,
      "outputs": []
    }
  ]
}