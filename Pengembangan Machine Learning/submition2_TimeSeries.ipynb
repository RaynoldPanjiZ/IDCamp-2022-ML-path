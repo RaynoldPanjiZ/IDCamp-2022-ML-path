{
  "nbformat": 4,
  "nbformat_minor": 0,
  "metadata": {
    "colab": {
      "provenance": [],
      "collapsed_sections": []
    },
    "kernelspec": {
      "name": "python3",
      "display_name": "Python 3"
    },
    "language_info": {
      "name": "python"
    },
    "accelerator": "GPU"
  },
  "cells": [
    {
      "cell_type": "markdown",
      "source": [
        "## Time Series Forecasting - LSTM"
      ],
      "metadata": {
        "id": "TnQlAxkeHUXM"
      }
    },
    {
      "cell_type": "markdown",
      "source": [
        "**Raynold Panji Zulfiandi**\n",
        "> Datasets: https://www.kaggle.com/datasets/utathya/electricity-consumption"
      ],
      "metadata": {
        "id": "d0uT-OozH_Jt"
      }
    },
    {
      "cell_type": "markdown",
      "source": [
        "## Download Dataset"
      ],
      "metadata": {
        "id": "VeQ_PWG0CtHp"
      }
    },
    {
      "cell_type": "code",
      "source": [
        "# install kaggle package\n",
        "!pip install -q kaggle"
      ],
      "metadata": {
        "id": "cJZDrur-DeFC"
      },
      "execution_count": 1,
      "outputs": []
    },
    {
      "cell_type": "code",
      "source": [
        "# upload kaggle.json\n",
        "from google.colab import files\n",
        "files.upload()"
      ],
      "metadata": {
        "colab": {
          "base_uri": "https://localhost:8080/",
          "height": 93
        },
        "id": "TQ79P5MPDfyT",
        "outputId": "f3c60d4d-8320-44ef-add5-c1a5e88040e4"
      },
      "execution_count": 2,
      "outputs": [
        {
          "output_type": "display_data",
          "data": {
            "text/plain": [
              "<IPython.core.display.HTML object>"
            ],
            "text/html": [
              "\n",
              "     <input type=\"file\" id=\"files-6f5dd157-fc44-4b14-9e0d-5015ee4b3a9f\" name=\"files[]\" multiple disabled\n",
              "        style=\"border:none\" />\n",
              "     <output id=\"result-6f5dd157-fc44-4b14-9e0d-5015ee4b3a9f\">\n",
              "      Upload widget is only available when the cell has been executed in the\n",
              "      current browser session. Please rerun this cell to enable.\n",
              "      </output>\n",
              "      <script>// Copyright 2017 Google LLC\n",
              "//\n",
              "// Licensed under the Apache License, Version 2.0 (the \"License\");\n",
              "// you may not use this file except in compliance with the License.\n",
              "// You may obtain a copy of the License at\n",
              "//\n",
              "//      http://www.apache.org/licenses/LICENSE-2.0\n",
              "//\n",
              "// Unless required by applicable law or agreed to in writing, software\n",
              "// distributed under the License is distributed on an \"AS IS\" BASIS,\n",
              "// WITHOUT WARRANTIES OR CONDITIONS OF ANY KIND, either express or implied.\n",
              "// See the License for the specific language governing permissions and\n",
              "// limitations under the License.\n",
              "\n",
              "/**\n",
              " * @fileoverview Helpers for google.colab Python module.\n",
              " */\n",
              "(function(scope) {\n",
              "function span(text, styleAttributes = {}) {\n",
              "  const element = document.createElement('span');\n",
              "  element.textContent = text;\n",
              "  for (const key of Object.keys(styleAttributes)) {\n",
              "    element.style[key] = styleAttributes[key];\n",
              "  }\n",
              "  return element;\n",
              "}\n",
              "\n",
              "// Max number of bytes which will be uploaded at a time.\n",
              "const MAX_PAYLOAD_SIZE = 100 * 1024;\n",
              "\n",
              "function _uploadFiles(inputId, outputId) {\n",
              "  const steps = uploadFilesStep(inputId, outputId);\n",
              "  const outputElement = document.getElementById(outputId);\n",
              "  // Cache steps on the outputElement to make it available for the next call\n",
              "  // to uploadFilesContinue from Python.\n",
              "  outputElement.steps = steps;\n",
              "\n",
              "  return _uploadFilesContinue(outputId);\n",
              "}\n",
              "\n",
              "// This is roughly an async generator (not supported in the browser yet),\n",
              "// where there are multiple asynchronous steps and the Python side is going\n",
              "// to poll for completion of each step.\n",
              "// This uses a Promise to block the python side on completion of each step,\n",
              "// then passes the result of the previous step as the input to the next step.\n",
              "function _uploadFilesContinue(outputId) {\n",
              "  const outputElement = document.getElementById(outputId);\n",
              "  const steps = outputElement.steps;\n",
              "\n",
              "  const next = steps.next(outputElement.lastPromiseValue);\n",
              "  return Promise.resolve(next.value.promise).then((value) => {\n",
              "    // Cache the last promise value to make it available to the next\n",
              "    // step of the generator.\n",
              "    outputElement.lastPromiseValue = value;\n",
              "    return next.value.response;\n",
              "  });\n",
              "}\n",
              "\n",
              "/**\n",
              " * Generator function which is called between each async step of the upload\n",
              " * process.\n",
              " * @param {string} inputId Element ID of the input file picker element.\n",
              " * @param {string} outputId Element ID of the output display.\n",
              " * @return {!Iterable<!Object>} Iterable of next steps.\n",
              " */\n",
              "function* uploadFilesStep(inputId, outputId) {\n",
              "  const inputElement = document.getElementById(inputId);\n",
              "  inputElement.disabled = false;\n",
              "\n",
              "  const outputElement = document.getElementById(outputId);\n",
              "  outputElement.innerHTML = '';\n",
              "\n",
              "  const pickedPromise = new Promise((resolve) => {\n",
              "    inputElement.addEventListener('change', (e) => {\n",
              "      resolve(e.target.files);\n",
              "    });\n",
              "  });\n",
              "\n",
              "  const cancel = document.createElement('button');\n",
              "  inputElement.parentElement.appendChild(cancel);\n",
              "  cancel.textContent = 'Cancel upload';\n",
              "  const cancelPromise = new Promise((resolve) => {\n",
              "    cancel.onclick = () => {\n",
              "      resolve(null);\n",
              "    };\n",
              "  });\n",
              "\n",
              "  // Wait for the user to pick the files.\n",
              "  const files = yield {\n",
              "    promise: Promise.race([pickedPromise, cancelPromise]),\n",
              "    response: {\n",
              "      action: 'starting',\n",
              "    }\n",
              "  };\n",
              "\n",
              "  cancel.remove();\n",
              "\n",
              "  // Disable the input element since further picks are not allowed.\n",
              "  inputElement.disabled = true;\n",
              "\n",
              "  if (!files) {\n",
              "    return {\n",
              "      response: {\n",
              "        action: 'complete',\n",
              "      }\n",
              "    };\n",
              "  }\n",
              "\n",
              "  for (const file of files) {\n",
              "    const li = document.createElement('li');\n",
              "    li.append(span(file.name, {fontWeight: 'bold'}));\n",
              "    li.append(span(\n",
              "        `(${file.type || 'n/a'}) - ${file.size} bytes, ` +\n",
              "        `last modified: ${\n",
              "            file.lastModifiedDate ? file.lastModifiedDate.toLocaleDateString() :\n",
              "                                    'n/a'} - `));\n",
              "    const percent = span('0% done');\n",
              "    li.appendChild(percent);\n",
              "\n",
              "    outputElement.appendChild(li);\n",
              "\n",
              "    const fileDataPromise = new Promise((resolve) => {\n",
              "      const reader = new FileReader();\n",
              "      reader.onload = (e) => {\n",
              "        resolve(e.target.result);\n",
              "      };\n",
              "      reader.readAsArrayBuffer(file);\n",
              "    });\n",
              "    // Wait for the data to be ready.\n",
              "    let fileData = yield {\n",
              "      promise: fileDataPromise,\n",
              "      response: {\n",
              "        action: 'continue',\n",
              "      }\n",
              "    };\n",
              "\n",
              "    // Use a chunked sending to avoid message size limits. See b/62115660.\n",
              "    let position = 0;\n",
              "    do {\n",
              "      const length = Math.min(fileData.byteLength - position, MAX_PAYLOAD_SIZE);\n",
              "      const chunk = new Uint8Array(fileData, position, length);\n",
              "      position += length;\n",
              "\n",
              "      const base64 = btoa(String.fromCharCode.apply(null, chunk));\n",
              "      yield {\n",
              "        response: {\n",
              "          action: 'append',\n",
              "          file: file.name,\n",
              "          data: base64,\n",
              "        },\n",
              "      };\n",
              "\n",
              "      let percentDone = fileData.byteLength === 0 ?\n",
              "          100 :\n",
              "          Math.round((position / fileData.byteLength) * 100);\n",
              "      percent.textContent = `${percentDone}% done`;\n",
              "\n",
              "    } while (position < fileData.byteLength);\n",
              "  }\n",
              "\n",
              "  // All done.\n",
              "  yield {\n",
              "    response: {\n",
              "      action: 'complete',\n",
              "    }\n",
              "  };\n",
              "}\n",
              "\n",
              "scope.google = scope.google || {};\n",
              "scope.google.colab = scope.google.colab || {};\n",
              "scope.google.colab._files = {\n",
              "  _uploadFiles,\n",
              "  _uploadFilesContinue,\n",
              "};\n",
              "})(self);\n",
              "</script> "
            ]
          },
          "metadata": {}
        },
        {
          "output_type": "stream",
          "name": "stdout",
          "text": [
            "Saving kaggle.json to kaggle.json\n"
          ]
        },
        {
          "output_type": "execute_result",
          "data": {
            "text/plain": [
              "{'kaggle.json': b'{\"username\":\"raynoldpanji\",\"key\":\"2b7006946bc90d89f78541c3397cb478\"}'}"
            ]
          },
          "metadata": {},
          "execution_count": 2
        }
      ]
    },
    {
      "cell_type": "code",
      "source": [
        "# make directory and change permission\n",
        "!mkdir -p ~/.kaggle\n",
        "!cp kaggle.json ~/.kaggle/\n",
        "!chmod 600 ~/.kaggle/kaggle.json\n",
        "!ls ~/.kaggle"
      ],
      "metadata": {
        "colab": {
          "base_uri": "https://localhost:8080/"
        },
        "id": "WZFc1bW-DjCh",
        "outputId": "4adc47c8-4f41-408d-e80a-db591954f3eb"
      },
      "execution_count": 3,
      "outputs": [
        {
          "output_type": "stream",
          "name": "stdout",
          "text": [
            "kaggle.json\n"
          ]
        }
      ]
    },
    {
      "cell_type": "code",
      "source": [
        "# download dataset, choose 'copy api command' from kaggle dataset\n",
        "!kaggle datasets download -d utathya/electricity-consumption"
      ],
      "metadata": {
        "colab": {
          "base_uri": "https://localhost:8080/"
        },
        "id": "DNWRL202DqL-",
        "outputId": "34c697be-9a77-4c88-c60e-853f5b2f6e92"
      },
      "execution_count": 4,
      "outputs": [
        {
          "output_type": "stream",
          "name": "stdout",
          "text": [
            "Downloading electricity-consumption.zip to /content\n",
            "\r  0% 0.00/458k [00:00<?, ?B/s]\n",
            "\r100% 458k/458k [00:00<00:00, 113MB/s]\n"
          ]
        }
      ]
    },
    {
      "cell_type": "code",
      "source": [
        "!mkdir dataset\n",
        "!unzip electricity-consumption.zip -d dataset\n",
        "!ls dataset"
      ],
      "metadata": {
        "colab": {
          "base_uri": "https://localhost:8080/"
        },
        "id": "3xLGoaVYDqCc",
        "outputId": "34f5fe0e-a3fd-402d-a06a-6a1020df9324"
      },
      "execution_count": 5,
      "outputs": [
        {
          "output_type": "stream",
          "name": "stdout",
          "text": [
            "Archive:  electricity-consumption.zip\n",
            "  inflating: dataset/test.csv        \n",
            "  inflating: dataset/train.csv       \n",
            "test.csv  train.csv\n"
          ]
        }
      ]
    },
    {
      "cell_type": "markdown",
      "source": [
        "## Data Preprocessing"
      ],
      "metadata": {
        "id": "Gv_LI0_lCwlI"
      }
    },
    {
      "cell_type": "code",
      "source": [
        "import warnings\n",
        "warnings.filterwarnings('ignore')"
      ],
      "metadata": {
        "id": "XM96lxZ3Du3q"
      },
      "execution_count": 6,
      "outputs": []
    },
    {
      "cell_type": "code",
      "execution_count": 7,
      "metadata": {
        "id": "GbGUmOQcDNNk"
      },
      "outputs": [],
      "source": [
        "import numpy as np\n",
        "import pandas as pd\n",
        "import tensorflow as tf\n",
        "import matplotlib.pyplot as plt\n",
        "from keras.layers import Dense, LSTM"
      ]
    },
    {
      "cell_type": "code",
      "source": [
        "data_train = pd.read_csv('dataset/train.csv')\n",
        "data_train.head()"
      ],
      "metadata": {
        "colab": {
          "base_uri": "https://localhost:8080/",
          "height": 206
        },
        "id": "uLdq0FmNDT8u",
        "outputId": "e94eb184-5aab-4151-9ce4-22a8ff8244dd"
      },
      "execution_count": 8,
      "outputs": [
        {
          "output_type": "execute_result",
          "data": {
            "text/plain": [
              "   ID             datetime  temperature  var1  pressure  windspeed var2  \\\n",
              "0   0  2013-07-01 00:00:00        -11.4 -17.1    1003.0    571.910    A   \n",
              "1   1  2013-07-01 01:00:00        -12.1 -19.3     996.0    575.040    A   \n",
              "2   2  2013-07-01 02:00:00        -12.9 -20.0    1000.0    578.435    A   \n",
              "3   3  2013-07-01 03:00:00        -11.4 -17.1     995.0    582.580    A   \n",
              "4   4  2013-07-01 04:00:00        -11.4 -19.3    1005.0    586.600    A   \n",
              "\n",
              "   electricity_consumption  \n",
              "0                    216.0  \n",
              "1                    210.0  \n",
              "2                    225.0  \n",
              "3                    216.0  \n",
              "4                    222.0  "
            ],
            "text/html": [
              "\n",
              "  <div id=\"df-de42337e-eba6-4bd0-bf93-916c15838e0c\">\n",
              "    <div class=\"colab-df-container\">\n",
              "      <div>\n",
              "<style scoped>\n",
              "    .dataframe tbody tr th:only-of-type {\n",
              "        vertical-align: middle;\n",
              "    }\n",
              "\n",
              "    .dataframe tbody tr th {\n",
              "        vertical-align: top;\n",
              "    }\n",
              "\n",
              "    .dataframe thead th {\n",
              "        text-align: right;\n",
              "    }\n",
              "</style>\n",
              "<table border=\"1\" class=\"dataframe\">\n",
              "  <thead>\n",
              "    <tr style=\"text-align: right;\">\n",
              "      <th></th>\n",
              "      <th>ID</th>\n",
              "      <th>datetime</th>\n",
              "      <th>temperature</th>\n",
              "      <th>var1</th>\n",
              "      <th>pressure</th>\n",
              "      <th>windspeed</th>\n",
              "      <th>var2</th>\n",
              "      <th>electricity_consumption</th>\n",
              "    </tr>\n",
              "  </thead>\n",
              "  <tbody>\n",
              "    <tr>\n",
              "      <th>0</th>\n",
              "      <td>0</td>\n",
              "      <td>2013-07-01 00:00:00</td>\n",
              "      <td>-11.4</td>\n",
              "      <td>-17.1</td>\n",
              "      <td>1003.0</td>\n",
              "      <td>571.910</td>\n",
              "      <td>A</td>\n",
              "      <td>216.0</td>\n",
              "    </tr>\n",
              "    <tr>\n",
              "      <th>1</th>\n",
              "      <td>1</td>\n",
              "      <td>2013-07-01 01:00:00</td>\n",
              "      <td>-12.1</td>\n",
              "      <td>-19.3</td>\n",
              "      <td>996.0</td>\n",
              "      <td>575.040</td>\n",
              "      <td>A</td>\n",
              "      <td>210.0</td>\n",
              "    </tr>\n",
              "    <tr>\n",
              "      <th>2</th>\n",
              "      <td>2</td>\n",
              "      <td>2013-07-01 02:00:00</td>\n",
              "      <td>-12.9</td>\n",
              "      <td>-20.0</td>\n",
              "      <td>1000.0</td>\n",
              "      <td>578.435</td>\n",
              "      <td>A</td>\n",
              "      <td>225.0</td>\n",
              "    </tr>\n",
              "    <tr>\n",
              "      <th>3</th>\n",
              "      <td>3</td>\n",
              "      <td>2013-07-01 03:00:00</td>\n",
              "      <td>-11.4</td>\n",
              "      <td>-17.1</td>\n",
              "      <td>995.0</td>\n",
              "      <td>582.580</td>\n",
              "      <td>A</td>\n",
              "      <td>216.0</td>\n",
              "    </tr>\n",
              "    <tr>\n",
              "      <th>4</th>\n",
              "      <td>4</td>\n",
              "      <td>2013-07-01 04:00:00</td>\n",
              "      <td>-11.4</td>\n",
              "      <td>-19.3</td>\n",
              "      <td>1005.0</td>\n",
              "      <td>586.600</td>\n",
              "      <td>A</td>\n",
              "      <td>222.0</td>\n",
              "    </tr>\n",
              "  </tbody>\n",
              "</table>\n",
              "</div>\n",
              "      <button class=\"colab-df-convert\" onclick=\"convertToInteractive('df-de42337e-eba6-4bd0-bf93-916c15838e0c')\"\n",
              "              title=\"Convert this dataframe to an interactive table.\"\n",
              "              style=\"display:none;\">\n",
              "        \n",
              "  <svg xmlns=\"http://www.w3.org/2000/svg\" height=\"24px\"viewBox=\"0 0 24 24\"\n",
              "       width=\"24px\">\n",
              "    <path d=\"M0 0h24v24H0V0z\" fill=\"none\"/>\n",
              "    <path d=\"M18.56 5.44l.94 2.06.94-2.06 2.06-.94-2.06-.94-.94-2.06-.94 2.06-2.06.94zm-11 1L8.5 8.5l.94-2.06 2.06-.94-2.06-.94L8.5 2.5l-.94 2.06-2.06.94zm10 10l.94 2.06.94-2.06 2.06-.94-2.06-.94-.94-2.06-.94 2.06-2.06.94z\"/><path d=\"M17.41 7.96l-1.37-1.37c-.4-.4-.92-.59-1.43-.59-.52 0-1.04.2-1.43.59L10.3 9.45l-7.72 7.72c-.78.78-.78 2.05 0 2.83L4 21.41c.39.39.9.59 1.41.59.51 0 1.02-.2 1.41-.59l7.78-7.78 2.81-2.81c.8-.78.8-2.07 0-2.86zM5.41 20L4 18.59l7.72-7.72 1.47 1.35L5.41 20z\"/>\n",
              "  </svg>\n",
              "      </button>\n",
              "      \n",
              "  <style>\n",
              "    .colab-df-container {\n",
              "      display:flex;\n",
              "      flex-wrap:wrap;\n",
              "      gap: 12px;\n",
              "    }\n",
              "\n",
              "    .colab-df-convert {\n",
              "      background-color: #E8F0FE;\n",
              "      border: none;\n",
              "      border-radius: 50%;\n",
              "      cursor: pointer;\n",
              "      display: none;\n",
              "      fill: #1967D2;\n",
              "      height: 32px;\n",
              "      padding: 0 0 0 0;\n",
              "      width: 32px;\n",
              "    }\n",
              "\n",
              "    .colab-df-convert:hover {\n",
              "      background-color: #E2EBFA;\n",
              "      box-shadow: 0px 1px 2px rgba(60, 64, 67, 0.3), 0px 1px 3px 1px rgba(60, 64, 67, 0.15);\n",
              "      fill: #174EA6;\n",
              "    }\n",
              "\n",
              "    [theme=dark] .colab-df-convert {\n",
              "      background-color: #3B4455;\n",
              "      fill: #D2E3FC;\n",
              "    }\n",
              "\n",
              "    [theme=dark] .colab-df-convert:hover {\n",
              "      background-color: #434B5C;\n",
              "      box-shadow: 0px 1px 3px 1px rgba(0, 0, 0, 0.15);\n",
              "      filter: drop-shadow(0px 1px 2px rgba(0, 0, 0, 0.3));\n",
              "      fill: #FFFFFF;\n",
              "    }\n",
              "  </style>\n",
              "\n",
              "      <script>\n",
              "        const buttonEl =\n",
              "          document.querySelector('#df-de42337e-eba6-4bd0-bf93-916c15838e0c button.colab-df-convert');\n",
              "        buttonEl.style.display =\n",
              "          google.colab.kernel.accessAllowed ? 'block' : 'none';\n",
              "\n",
              "        async function convertToInteractive(key) {\n",
              "          const element = document.querySelector('#df-de42337e-eba6-4bd0-bf93-916c15838e0c');\n",
              "          const dataTable =\n",
              "            await google.colab.kernel.invokeFunction('convertToInteractive',\n",
              "                                                     [key], {});\n",
              "          if (!dataTable) return;\n",
              "\n",
              "          const docLinkHtml = 'Like what you see? Visit the ' +\n",
              "            '<a target=\"_blank\" href=https://colab.research.google.com/notebooks/data_table.ipynb>data table notebook</a>'\n",
              "            + ' to learn more about interactive tables.';\n",
              "          element.innerHTML = '';\n",
              "          dataTable['output_type'] = 'display_data';\n",
              "          await google.colab.output.renderOutput(dataTable, element);\n",
              "          const docLink = document.createElement('div');\n",
              "          docLink.innerHTML = docLinkHtml;\n",
              "          element.appendChild(docLink);\n",
              "        }\n",
              "      </script>\n",
              "    </div>\n",
              "  </div>\n",
              "  "
            ]
          },
          "metadata": {},
          "execution_count": 8
        }
      ]
    },
    {
      "cell_type": "code",
      "source": [
        "data_train.isnull().sum()"
      ],
      "metadata": {
        "colab": {
          "base_uri": "https://localhost:8080/"
        },
        "id": "DhXkNV3ZDWGC",
        "outputId": "cd28d622-ae30-42e4-ece8-552bca777fa5"
      },
      "execution_count": 9,
      "outputs": [
        {
          "output_type": "execute_result",
          "data": {
            "text/plain": [
              "ID                         0\n",
              "datetime                   0\n",
              "temperature                0\n",
              "var1                       0\n",
              "pressure                   0\n",
              "windspeed                  0\n",
              "var2                       0\n",
              "electricity_consumption    0\n",
              "dtype: int64"
            ]
          },
          "metadata": {},
          "execution_count": 9
        }
      ]
    },
    {
      "cell_type": "code",
      "source": [
        "data_train['datetime']"
      ],
      "metadata": {
        "colab": {
          "base_uri": "https://localhost:8080/"
        },
        "id": "6aKnnOVHK9zQ",
        "outputId": "0cc789dd-86ea-4d44-e77f-6ac82d720383"
      },
      "execution_count": 10,
      "outputs": [
        {
          "output_type": "execute_result",
          "data": {
            "text/plain": [
              "0        2013-07-01 00:00:00\n",
              "1        2013-07-01 01:00:00\n",
              "2        2013-07-01 02:00:00\n",
              "3        2013-07-01 03:00:00\n",
              "4        2013-07-01 04:00:00\n",
              "                ...         \n",
              "26491    2017-06-23 19:00:00\n",
              "26492    2017-06-23 20:00:00\n",
              "26493    2017-06-23 21:00:00\n",
              "26494    2017-06-23 22:00:00\n",
              "26495    2017-06-23 23:00:00\n",
              "Name: datetime, Length: 26496, dtype: object"
            ]
          },
          "metadata": {},
          "execution_count": 10
        }
      ]
    },
    {
      "cell_type": "code",
      "source": [
        "data_train['datetime'] = pd.to_datetime(data_train['datetime'])\n",
        "# data_test['datetime'] = pd.to_datetime(data_test['datetime'])"
      ],
      "metadata": {
        "id": "hvkm17NbMlB8"
      },
      "execution_count": 11,
      "outputs": []
    },
    {
      "cell_type": "code",
      "source": [
        "time = np.array(data_train['datetime'].values)\n",
        "series = np.array(data_train['temperature'].values)\n",
        " \n",
        "time_split_len = int(len(series) * 0.8)\n",
        "series_train = series[:time_split_len]\n",
        "series_test = series[time_split_len:]\n",
        "time_train = time[:time_split_len]\n",
        "time_test = time[time_split_len:]\n",
        "\n",
        "print(f'Total Data Train : {series_train.shape[0]}')\n",
        "print(f'Total Data Validation : {series_test.shape[0]}')"
      ],
      "metadata": {
        "colab": {
          "base_uri": "https://localhost:8080/"
        },
        "id": "sz7x2mSDJmEb",
        "outputId": "82c6b72b-4c28-4365-d32e-c3bff7c1e7c0"
      },
      "execution_count": 12,
      "outputs": [
        {
          "output_type": "stream",
          "name": "stdout",
          "text": [
            "Total Data Train : 21196\n",
            "Total Data Validation : 5300\n"
          ]
        }
      ]
    },
    {
      "cell_type": "code",
      "source": [
        "plt.figure(figsize=(15,5))\n",
        "plt.plot(time_train, series_train, color='blue', label='train')\n",
        "plt.plot(time_test, series_test, color='red', label='val')\n",
        "plt.xlabel('Time')\n",
        "plt.ylabel('Temperature')\n",
        "plt.legend()\n",
        "\n",
        "plt.title('Temperature average', fontsize=20);"
      ],
      "metadata": {
        "colab": {
          "base_uri": "https://localhost:8080/",
          "height": 355
        },
        "id": "TF8Wc0H-EbNs",
        "outputId": "44420af6-dc5e-4436-a595-1c50d39b0c5a"
      },
      "execution_count": 13,
      "outputs": [
        {
          "output_type": "display_data",
          "data": {
            "text/plain": [
              "<Figure size 1080x360 with 1 Axes>"
            ],
            "image/png": "[encoded data removed]"
          },
          "metadata": {
            "needs_background": "light"
          }
        }
      ]
    },
    {
      "cell_type": "code",
      "source": [
        "def windowed_dataset(series, window_size, batch_size, shuffle_buffer):\n",
        "  series = tf.expand_dims(series, axis=-1)\n",
        "  ds = tf.data.Dataset.from_tensor_slices(series)\n",
        "  ds = ds.window(window_size + 1, shift=1, drop_remainder=True)\n",
        "  ds = ds.flat_map(lambda w: w.batch(window_size + 1))\n",
        "  ds = ds.shuffle(shuffle_buffer)\n",
        "  ds = ds.map(lambda w: (w[:-1], w[-1:]))\n",
        "  return ds.batch(batch_size).prefetch(1)"
      ],
      "metadata": {
        "id": "ZaofGt1zEmtH"
      },
      "execution_count": 14,
      "outputs": []
    },
    {
      "cell_type": "markdown",
      "source": [
        "## Training model"
      ],
      "metadata": {
        "id": "P6ycJPzRTsT_"
      }
    },
    {
      "cell_type": "code",
      "source": [
        "train_set = windowed_dataset(series_train, window_size=60, batch_size=100, shuffle_buffer=1000)\n",
        "test_set = windowed_dataset(series_test, window_size=60, batch_size=100, shuffle_buffer=1000)"
      ],
      "metadata": {
        "id": "F1H8su12Lwrv"
      },
      "execution_count": 42,
      "outputs": []
    },
    {
      "cell_type": "code",
      "source": [
        "# Mencari nilai MAE dari model < 10% skala data\n",
        "MAE = (data_train['temperature'].max() - data_train['temperature'].min()) * 0.1\n",
        "print(MAE)"
      ],
      "metadata": {
        "colab": {
          "base_uri": "https://localhost:8080/"
        },
        "id": "3Rrem1Luby9E",
        "outputId": "40aa47bf-9470-4d27-8b5f-2ca0d9cafbde"
      },
      "execution_count": 43,
      "outputs": [
        {
          "output_type": "stream",
          "name": "stdout",
          "text": [
            "4.07\n"
          ]
        }
      ]
    },
    {
      "cell_type": "code",
      "source": [
        "model = tf.keras.models.Sequential([\n",
        "  tf.keras.layers.Bidirectional(tf.keras.layers.LSTM(60, return_sequences=True)),\n",
        "  tf.keras.layers.Bidirectional(tf.keras.layers.LSTM(60)),\n",
        "  tf.keras.layers.Dropout(0.5),\n",
        "  tf.keras.layers.Dense(64, activation=\"relu\"),\n",
        "  tf.keras.layers.Dropout(0.2),\n",
        "  tf.keras.layers.Dense(30, activation=\"relu\"),\n",
        "  tf.keras.layers.Dense(1),\n",
        "])"
      ],
      "metadata": {
        "id": "RHEaTtswExnc"
      },
      "execution_count": 44,
      "outputs": []
    },
    {
      "cell_type": "code",
      "source": [
        "ES = tf.keras.callbacks.EarlyStopping(\n",
        "    monitor='val_mae',\n",
        "    min_delta=0,\n",
        "    patience=5,\n",
        "    verbose=1,\n",
        "    mode='auto'\n",
        ")"
      ],
      "metadata": {
        "id": "GFIk8-JaWaXp"
      },
      "execution_count": 45,
      "outputs": []
    },
    {
      "cell_type": "code",
      "source": [
        "optimizer = tf.keras.optimizers.SGD(lr=1.0000e-04, momentum=0.9)\n",
        "model.compile(loss=tf.keras.losses.Huber(),\n",
        "              optimizer=optimizer,\n",
        "              metrics=[\"mae\"])\n",
        "history = model.fit(train_set, validation_data=test_set, epochs=50, callbacks=[ES])\n",
        "\n",
        "if(history.history['mae'][-1] < MAE and history.history['val_mae'][-1] < MAE):\n",
        "  print(\"\\n\\nMAE dibawah 10%\")"
      ],
      "metadata": {
        "colab": {
          "base_uri": "https://localhost:8080/"
        },
        "id": "5w_rk272EzmM",
        "outputId": "f0c90477-6b6c-4eca-90c5-96eb6bb9a84b"
      },
      "execution_count": 46,
      "outputs": [
        {
          "output_type": "stream",
          "name": "stdout",
          "text": [
            "Epoch 1/50\n",
            "212/212 [==============================] - 14s 38ms/step - loss: 7.2487 - mae: 7.7382 - val_loss: 6.5597 - val_mae: 7.0499\n",
            "Epoch 2/50\n",
            "212/212 [==============================] - 6s 29ms/step - loss: 4.8337 - mae: 5.3165 - val_loss: 3.3489 - val_mae: 3.8197\n",
            "Epoch 3/50\n",
            "212/212 [==============================] - 6s 29ms/step - loss: 3.8484 - mae: 4.3271 - val_loss: 2.9225 - val_mae: 3.3924\n",
            "Epoch 4/50\n",
            "212/212 [==============================] - 6s 29ms/step - loss: 3.5093 - mae: 3.9851 - val_loss: 2.7439 - val_mae: 3.2098\n",
            "Epoch 5/50\n",
            "212/212 [==============================] - 7s 34ms/step - loss: 3.2187 - mae: 3.6912 - val_loss: 2.4296 - val_mae: 2.8948\n",
            "Epoch 6/50\n",
            "212/212 [==============================] - 10s 47ms/step - loss: 2.9452 - mae: 3.4150 - val_loss: 2.2062 - val_mae: 2.6691\n",
            "Epoch 7/50\n",
            "212/212 [==============================] - 8s 34ms/step - loss: 2.5925 - mae: 3.0591 - val_loss: 1.9786 - val_mae: 2.4369\n",
            "Epoch 8/50\n",
            "212/212 [==============================] - 8s 38ms/step - loss: 2.3120 - mae: 2.7725 - val_loss: 1.8080 - val_mae: 2.2618\n",
            "Epoch 9/50\n",
            "212/212 [==============================] - 7s 33ms/step - loss: 2.1264 - mae: 2.5841 - val_loss: 1.6982 - val_mae: 2.1474\n",
            "Epoch 10/50\n",
            "212/212 [==============================] - 7s 34ms/step - loss: 2.0053 - mae: 2.4603 - val_loss: 1.6303 - val_mae: 2.0763\n",
            "Epoch 11/50\n",
            "212/212 [==============================] - 6s 29ms/step - loss: 1.9213 - mae: 2.3760 - val_loss: 1.4268 - val_mae: 1.8709\n",
            "Epoch 12/50\n",
            "212/212 [==============================] - 8s 35ms/step - loss: 1.8311 - mae: 2.2832 - val_loss: 1.3513 - val_mae: 1.7937\n",
            "Epoch 13/50\n",
            "212/212 [==============================] - 8s 36ms/step - loss: 1.7527 - mae: 2.2023 - val_loss: 1.2461 - val_mae: 1.6828\n",
            "Epoch 14/50\n",
            "212/212 [==============================] - 9s 43ms/step - loss: 1.7050 - mae: 2.1541 - val_loss: 1.2605 - val_mae: 1.6975\n",
            "Epoch 15/50\n",
            "212/212 [==============================] - 6s 29ms/step - loss: 1.6642 - mae: 2.1134 - val_loss: 1.1549 - val_mae: 1.5880\n",
            "Epoch 16/50\n",
            "212/212 [==============================] - 6s 29ms/step - loss: 1.6216 - mae: 2.0703 - val_loss: 1.1764 - val_mae: 1.6106\n",
            "Epoch 17/50\n",
            "212/212 [==============================] - 6s 30ms/step - loss: 1.5828 - mae: 2.0282 - val_loss: 1.1061 - val_mae: 1.5352\n",
            "Epoch 18/50\n",
            "212/212 [==============================] - 6s 29ms/step - loss: 1.5460 - mae: 1.9916 - val_loss: 1.0724 - val_mae: 1.5020\n",
            "Epoch 19/50\n",
            "212/212 [==============================] - 6s 30ms/step - loss: 1.5083 - mae: 1.9542 - val_loss: 1.0566 - val_mae: 1.4855\n",
            "Epoch 20/50\n",
            "212/212 [==============================] - 6s 29ms/step - loss: 1.5117 - mae: 1.9556 - val_loss: 1.1192 - val_mae: 1.5491\n",
            "Epoch 21/50\n",
            "212/212 [==============================] - 6s 29ms/step - loss: 1.4868 - mae: 1.9302 - val_loss: 0.9999 - val_mae: 1.4270\n",
            "Epoch 22/50\n",
            "212/212 [==============================] - 6s 29ms/step - loss: 1.4604 - mae: 1.9041 - val_loss: 1.0342 - val_mae: 1.4612\n",
            "Epoch 23/50\n",
            "212/212 [==============================] - 6s 30ms/step - loss: 1.4498 - mae: 1.8919 - val_loss: 0.9449 - val_mae: 1.3680\n",
            "Epoch 24/50\n",
            "212/212 [==============================] - 7s 32ms/step - loss: 1.4040 - mae: 1.8439 - val_loss: 0.9451 - val_mae: 1.3685\n",
            "Epoch 25/50\n",
            "212/212 [==============================] - 7s 30ms/step - loss: 1.4065 - mae: 1.8476 - val_loss: 0.9085 - val_mae: 1.3287\n",
            "Epoch 26/50\n",
            "212/212 [==============================] - 7s 30ms/step - loss: 1.3904 - mae: 1.8309 - val_loss: 0.9275 - val_mae: 1.3494\n",
            "Epoch 27/50\n",
            "212/212 [==============================] - 7s 31ms/step - loss: 1.3742 - mae: 1.8125 - val_loss: 0.9119 - val_mae: 1.3336\n",
            "Epoch 28/50\n",
            "212/212 [==============================] - 7s 34ms/step - loss: 1.3619 - mae: 1.8012 - val_loss: 0.9138 - val_mae: 1.3345\n",
            "Epoch 29/50\n",
            "212/212 [==============================] - 6s 29ms/step - loss: 1.3516 - mae: 1.7920 - val_loss: 0.8920 - val_mae: 1.3111\n",
            "Epoch 30/50\n",
            "212/212 [==============================] - 7s 31ms/step - loss: 1.3333 - mae: 1.7720 - val_loss: 0.8697 - val_mae: 1.2875\n",
            "Epoch 31/50\n",
            "212/212 [==============================] - 6s 29ms/step - loss: 1.3072 - mae: 1.7444 - val_loss: 0.8777 - val_mae: 1.2961\n",
            "Epoch 32/50\n",
            "212/212 [==============================] - 6s 29ms/step - loss: 1.3058 - mae: 1.7437 - val_loss: 0.8489 - val_mae: 1.2659\n",
            "Epoch 33/50\n",
            "212/212 [==============================] - 6s 30ms/step - loss: 1.3070 - mae: 1.7442 - val_loss: 0.8387 - val_mae: 1.2542\n",
            "Epoch 34/50\n",
            "212/212 [==============================] - 6s 29ms/step - loss: 1.2828 - mae: 1.7206 - val_loss: 0.8486 - val_mae: 1.2637\n",
            "Epoch 35/50\n",
            "212/212 [==============================] - 6s 30ms/step - loss: 1.2626 - mae: 1.6976 - val_loss: 0.8432 - val_mae: 1.2592\n",
            "Epoch 36/50\n",
            "212/212 [==============================] - 7s 32ms/step - loss: 1.2589 - mae: 1.6957 - val_loss: 0.8552 - val_mae: 1.2702\n",
            "Epoch 37/50\n",
            "212/212 [==============================] - 6s 29ms/step - loss: 1.2496 - mae: 1.6852 - val_loss: 0.8588 - val_mae: 1.2757\n",
            "Epoch 38/50\n",
            "212/212 [==============================] - 6s 29ms/step - loss: 1.2448 - mae: 1.6808 - val_loss: 0.8069 - val_mae: 1.2200\n",
            "Epoch 39/50\n",
            "212/212 [==============================] - 6s 30ms/step - loss: 1.2404 - mae: 1.6756 - val_loss: 0.8257 - val_mae: 1.2389\n",
            "Epoch 40/50\n",
            "212/212 [==============================] - 6s 29ms/step - loss: 1.2307 - mae: 1.6654 - val_loss: 0.9296 - val_mae: 1.3508\n",
            "Epoch 41/50\n",
            "212/212 [==============================] - 6s 29ms/step - loss: 1.2176 - mae: 1.6539 - val_loss: 0.8121 - val_mae: 1.2250\n",
            "Epoch 42/50\n",
            "212/212 [==============================] - 6s 29ms/step - loss: 1.2071 - mae: 1.6413 - val_loss: 0.7970 - val_mae: 1.2092\n",
            "Epoch 43/50\n",
            "212/212 [==============================] - 6s 29ms/step - loss: 1.2088 - mae: 1.6426 - val_loss: 0.8200 - val_mae: 1.2348\n",
            "Epoch 44/50\n",
            "212/212 [==============================] - 7s 30ms/step - loss: 1.1962 - mae: 1.6312 - val_loss: 0.7938 - val_mae: 1.2055\n",
            "Epoch 45/50\n",
            "212/212 [==============================] - 7s 30ms/step - loss: 1.1981 - mae: 1.6324 - val_loss: 0.7785 - val_mae: 1.1887\n",
            "Epoch 46/50\n",
            "212/212 [==============================] - 6s 29ms/step - loss: 1.2050 - mae: 1.6395 - val_loss: 0.7734 - val_mae: 1.1836\n",
            "Epoch 47/50\n",
            "212/212 [==============================] - 6s 29ms/step - loss: 1.1853 - mae: 1.6189 - val_loss: 0.7802 - val_mae: 1.1912\n",
            "Epoch 48/50\n",
            "212/212 [==============================] - 6s 29ms/step - loss: 1.1622 - mae: 1.5949 - val_loss: 0.7871 - val_mae: 1.1987\n",
            "Epoch 49/50\n",
            "212/212 [==============================] - 6s 29ms/step - loss: 1.1689 - mae: 1.6011 - val_loss: 0.8279 - val_mae: 1.2412\n",
            "Epoch 50/50\n",
            "212/212 [==============================] - 6s 29ms/step - loss: 1.1576 - mae: 1.5903 - val_loss: 0.8267 - val_mae: 1.2397\n",
            "\n",
            "\n",
            "MAE dibawah 10%\n"
          ]
        }
      ]
    },
    {
      "cell_type": "markdown",
      "source": [
        "## Plot MAE dan Loss"
      ],
      "metadata": {
        "id": "Plq2opMoTwXI"
      }
    },
    {
      "cell_type": "code",
      "source": [
        "figure = plt.figure(figsize = (15, 5))\n",
        "\n",
        "figure.add_subplot(1, 2, 1)\n",
        "plt.plot(history.history['mae'])\n",
        "plt.plot(history.history['val_mae'])\n",
        "plt.title('Mean Absolute Error Plot')\n",
        "plt.xlabel('Epoch')\n",
        "plt.ylabel('Value')\n",
        "plt.legend(['Train', 'Validation'], loc = 'upper right')\n",
        "\n",
        "figure.add_subplot(1, 2, 2)\n",
        "plt.plot(history.history['loss'])\n",
        "plt.plot(history.history['val_loss'])\n",
        "plt.title('Loss Plot')\n",
        "plt.xlabel('Epoch')\n",
        "plt.ylabel('Value')\n",
        "plt.legend(['Train', 'Validation'], loc = 'upper right')\n",
        "\n",
        "plt.show()"
      ],
      "metadata": {
        "colab": {
          "base_uri": "https://localhost:8080/",
          "height": 350
        },
        "id": "9kOBq-gPT5gW",
        "outputId": "4b05346b-5864-4c6c-83a4-99f543cece36"
      },
      "execution_count": 49,
      "outputs": [
        {
          "output_type": "display_data",
          "data": {
            "text/plain": [
              "<Figure size 1080x360 with 2 Axes>"
            ],
            "image/png": "[encoded data removed]"
          },
          "metadata": {
            "needs_background": "light"
          }
        }
      ]
    },
    {
      "cell_type": "code",
      "source": [
        "## Plot Zoomed MAE and Loss\n",
        "epochs_zoom = range(len(history.history['loss']))[10:]\n",
        "\n",
        "mae_zoom = history.history['mae'][10:]\n",
        "val_mae_zoom = history.history['val_mae'][10:]\n",
        "\n",
        "loss_zoom = history.history['loss'][10:]\n",
        "val_loss_zoom = history.history['val_loss'][10:]\n",
        "\n",
        "\n",
        "\n",
        "figure = plt.figure(figsize = (15, 5))\n",
        "\n",
        "figure.add_subplot(1, 2, 1)\n",
        "plt.plot(epochs_zoom, mae_zoom, 'r')\n",
        "plt.plot(epochs_zoom, val_mae_zoom, 'b')\n",
        "plt.title('Mean Absolute Error Plot')\n",
        "plt.xlabel('Epoch')\n",
        "plt.ylabel('Value')\n",
        "plt.legend(['Train', 'Validation'], loc = 'upper right')\n",
        "\n",
        "figure.add_subplot(1, 2, 2)\n",
        "plt.plot(epochs_zoom, loss_zoom, 'r')\n",
        "plt.plot(epochs_zoom, val_loss_zoom, 'b')\n",
        "plt.title('Loss Plot')\n",
        "plt.xlabel('Epoch')\n",
        "plt.ylabel('Value')\n",
        "plt.legend(['Train', 'Validation'], loc = 'upper right')\n",
        "\n",
        "plt.show()"
      ],
      "metadata": {
        "id": "4U-euCrhI6wB",
        "colab": {
          "base_uri": "https://localhost:8080/",
          "height": 350
        },
        "outputId": "55f2961e-03c5-4a1d-e139-b1bdd933dec6"
      },
      "execution_count": 50,
      "outputs": [
        {
          "output_type": "display_data",
          "data": {
            "text/plain": [
              "<Figure size 1080x360 with 2 Axes>"
            ],
            "image/png": "[encoded data removed]"
          },
          "metadata": {
            "needs_background": "light"
          }
        }
      ]
    },
    {
      "cell_type": "code",
      "source": [],
      "metadata": {
        "id": "UgoXK3vTJR3f"
      },
      "execution_count": null,
      "outputs": []
    }
  ]
}