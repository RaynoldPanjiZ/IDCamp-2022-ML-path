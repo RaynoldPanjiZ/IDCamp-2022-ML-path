{
  "nbformat": 4,
  "nbformat_minor": 0,
  "metadata": {
    "colab": {
      "provenance": [],
      "collapsed_sections": []
    },
    "kernelspec": {
      "name": "python3",
      "display_name": "Python 3"
    },
    "language_info": {
      "name": "python"
    },
    "accelerator": "TPU"
  },
  "cells": [
    {
      "cell_type": "markdown",
      "source": [
        "# Image Classification Model Deployment - CNN"
      ],
      "metadata": {
        "id": "E2cNATxzpGFl"
      }
    },
    {
      "cell_type": "markdown",
      "source": [
        "**Raynold Panji Zulfiandi**\n",
        "\n",
        "> Emotion Detection\n",
        "\n",
        "> Dataset: https://www.kaggle.com/datasets/ananthu017/emotion-detection-fer"
      ],
      "metadata": {
        "id": "g1orXuL3nqz_"
      }
    },
    {
      "cell_type": "code",
      "execution_count": 1,
      "metadata": {
        "colab": {
          "base_uri": "https://localhost:8080/"
        },
        "id": "InLsHeKbnfDc",
        "outputId": "bd8ad8b8-0a21-4406-a8b9-f67db39df206"
      },
      "outputs": [
        {
          "output_type": "stream",
          "name": "stdout",
          "text": [
            "2.8.2\n"
          ]
        }
      ],
      "source": [
        "# %tensorflow_version 2.x\n",
        "import tensorflow as tf\n",
        "print(tf.__version__)"
      ]
    },
    {
      "cell_type": "code",
      "source": [
        "# cek penggunaan GPU\n",
        "device_name = tf.test.gpu_device_name()\n",
        "if device_name != '/device:GPU:0':\n",
        "  print('GPU device not found')\n",
        "else:\n",
        "  print('Found GPU at: {}'.format(device_name))"
      ],
      "metadata": {
        "colab": {
          "base_uri": "https://localhost:8080/"
        },
        "id": "Y6uy_YoZnp6u",
        "outputId": "4274d5cb-a659-492b-d68b-b25c2d82e456"
      },
      "execution_count": 2,
      "outputs": [
        {
          "output_type": "stream",
          "name": "stdout",
          "text": [
            "GPU device not found\n"
          ]
        }
      ]
    },
    {
      "cell_type": "markdown",
      "source": [
        "# Data Preparation"
      ],
      "metadata": {
        "id": "iwMS-Ql2oe3N"
      }
    },
    {
      "cell_type": "code",
      "source": [
        "!pip install -q kaggle\n",
        "from google.colab import files "
      ],
      "metadata": {
        "id": "NjuTXytWn3SW"
      },
      "execution_count": 3,
      "outputs": []
    },
    {
      "cell_type": "code",
      "source": [
        "# upload kaggle.json\n",
        "from google.colab import files\n",
        "files.upload()"
      ],
      "metadata": {
        "colab": {
          "base_uri": "https://localhost:8080/",
          "height": 92
        },
        "id": "GAuZmQY0pN-d",
        "outputId": "1357df40-7ecc-4261-e1b6-20f6225cd097"
      },
      "execution_count": 4,
      "outputs": [
        {
          "output_type": "display_data",
          "data": {
            "text/plain": [
              "<IPython.core.display.HTML object>"
            ],
            "text/html": [
              "\n",
              "     <input type=\"file\" id=\"files-a9c1d60b-143a-4cee-9d1f-bad90ca469db\" name=\"files[]\" multiple disabled\n",
              "        style=\"border:none\" />\n",
              "     <output id=\"result-a9c1d60b-143a-4cee-9d1f-bad90ca469db\">\n",
              "      Upload widget is only available when the cell has been executed in the\n",
              "      current browser session. Please rerun this cell to enable.\n",
              "      </output>\n",
              "      <script>// Copyright 2017 Google LLC\n",
              "//\n",
              "// Licensed under the Apache License, Version 2.0 (the \"License\");\n",
              "// you may not use this file except in compliance with the License.\n",
              "// You may obtain a copy of the License at\n",
              "//\n",
              "//      http://www.apache.org/licenses/LICENSE-2.0\n",
              "//\n",
              "// Unless required by applicable law or agreed to in writing, software\n",
              "// distributed under the License is distributed on an \"AS IS\" BASIS,\n",
              "// WITHOUT WARRANTIES OR CONDITIONS OF ANY KIND, either express or implied.\n",
              "// See the License for the specific language governing permissions and\n",
              "// limitations under the License.\n",
              "\n",
              "/**\n",
              " * @fileoverview Helpers for google.colab Python module.\n",
              " */\n",
              "(function(scope) {\n",
              "function span(text, styleAttributes = {}) {\n",
              "  const element = document.createElement('span');\n",
              "  element.textContent = text;\n",
              "  for (const key of Object.keys(styleAttributes)) {\n",
              "    element.style[key] = styleAttributes[key];\n",
              "  }\n",
              "  return element;\n",
              "}\n",
              "\n",
              "// Max number of bytes which will be uploaded at a time.\n",
              "const MAX_PAYLOAD_SIZE = 100 * 1024;\n",
              "\n",
              "function _uploadFiles(inputId, outputId) {\n",
              "  const steps = uploadFilesStep(inputId, outputId);\n",
              "  const outputElement = document.getElementById(outputId);\n",
              "  // Cache steps on the outputElement to make it available for the next call\n",
              "  // to uploadFilesContinue from Python.\n",
              "  outputElement.steps = steps;\n",
              "\n",
              "  return _uploadFilesContinue(outputId);\n",
              "}\n",
              "\n",
              "// This is roughly an async generator (not supported in the browser yet),\n",
              "// where there are multiple asynchronous steps and the Python side is going\n",
              "// to poll for completion of each step.\n",
              "// This uses a Promise to block the python side on completion of each step,\n",
              "// then passes the result of the previous step as the input to the next step.\n",
              "function _uploadFilesContinue(outputId) {\n",
              "  const outputElement = document.getElementById(outputId);\n",
              "  const steps = outputElement.steps;\n",
              "\n",
              "  const next = steps.next(outputElement.lastPromiseValue);\n",
              "  return Promise.resolve(next.value.promise).then((value) => {\n",
              "    // Cache the last promise value to make it available to the next\n",
              "    // step of the generator.\n",
              "    outputElement.lastPromiseValue = value;\n",
              "    return next.value.response;\n",
              "  });\n",
              "}\n",
              "\n",
              "/**\n",
              " * Generator function which is called between each async step of the upload\n",
              " * process.\n",
              " * @param {string} inputId Element ID of the input file picker element.\n",
              " * @param {string} outputId Element ID of the output display.\n",
              " * @return {!Iterable<!Object>} Iterable of next steps.\n",
              " */\n",
              "function* uploadFilesStep(inputId, outputId) {\n",
              "  const inputElement = document.getElementById(inputId);\n",
              "  inputElement.disabled = false;\n",
              "\n",
              "  const outputElement = document.getElementById(outputId);\n",
              "  outputElement.innerHTML = '';\n",
              "\n",
              "  const pickedPromise = new Promise((resolve) => {\n",
              "    inputElement.addEventListener('change', (e) => {\n",
              "      resolve(e.target.files);\n",
              "    });\n",
              "  });\n",
              "\n",
              "  const cancel = document.createElement('button');\n",
              "  inputElement.parentElement.appendChild(cancel);\n",
              "  cancel.textContent = 'Cancel upload';\n",
              "  const cancelPromise = new Promise((resolve) => {\n",
              "    cancel.onclick = () => {\n",
              "      resolve(null);\n",
              "    };\n",
              "  });\n",
              "\n",
              "  // Wait for the user to pick the files.\n",
              "  const files = yield {\n",
              "    promise: Promise.race([pickedPromise, cancelPromise]),\n",
              "    response: {\n",
              "      action: 'starting',\n",
              "    }\n",
              "  };\n",
              "\n",
              "  cancel.remove();\n",
              "\n",
              "  // Disable the input element since further picks are not allowed.\n",
              "  inputElement.disabled = true;\n",
              "\n",
              "  if (!files) {\n",
              "    return {\n",
              "      response: {\n",
              "        action: 'complete',\n",
              "      }\n",
              "    };\n",
              "  }\n",
              "\n",
              "  for (const file of files) {\n",
              "    const li = document.createElement('li');\n",
              "    li.append(span(file.name, {fontWeight: 'bold'}));\n",
              "    li.append(span(\n",
              "        `(${file.type || 'n/a'}) - ${file.size} bytes, ` +\n",
              "        `last modified: ${\n",
              "            file.lastModifiedDate ? file.lastModifiedDate.toLocaleDateString() :\n",
              "                                    'n/a'} - `));\n",
              "    const percent = span('0% done');\n",
              "    li.appendChild(percent);\n",
              "\n",
              "    outputElement.appendChild(li);\n",
              "\n",
              "    const fileDataPromise = new Promise((resolve) => {\n",
              "      const reader = new FileReader();\n",
              "      reader.onload = (e) => {\n",
              "        resolve(e.target.result);\n",
              "      };\n",
              "      reader.readAsArrayBuffer(file);\n",
              "    });\n",
              "    // Wait for the data to be ready.\n",
              "    let fileData = yield {\n",
              "      promise: fileDataPromise,\n",
              "      response: {\n",
              "        action: 'continue',\n",
              "      }\n",
              "    };\n",
              "\n",
              "    // Use a chunked sending to avoid message size limits. See b/62115660.\n",
              "    let position = 0;\n",
              "    do {\n",
              "      const length = Math.min(fileData.byteLength - position, MAX_PAYLOAD_SIZE);\n",
              "      const chunk = new Uint8Array(fileData, position, length);\n",
              "      position += length;\n",
              "\n",
              "      const base64 = btoa(String.fromCharCode.apply(null, chunk));\n",
              "      yield {\n",
              "        response: {\n",
              "          action: 'append',\n",
              "          file: file.name,\n",
              "          data: base64,\n",
              "        },\n",
              "      };\n",
              "\n",
              "      let percentDone = fileData.byteLength === 0 ?\n",
              "          100 :\n",
              "          Math.round((position / fileData.byteLength) * 100);\n",
              "      percent.textContent = `${percentDone}% done`;\n",
              "\n",
              "    } while (position < fileData.byteLength);\n",
              "  }\n",
              "\n",
              "  // All done.\n",
              "  yield {\n",
              "    response: {\n",
              "      action: 'complete',\n",
              "    }\n",
              "  };\n",
              "}\n",
              "\n",
              "scope.google = scope.google || {};\n",
              "scope.google.colab = scope.google.colab || {};\n",
              "scope.google.colab._files = {\n",
              "  _uploadFiles,\n",
              "  _uploadFilesContinue,\n",
              "};\n",
              "})(self);\n",
              "</script> "
            ]
          },
          "metadata": {}
        },
        {
          "output_type": "stream",
          "name": "stdout",
          "text": [
            "Saving kaggle.json to kaggle.json\n"
          ]
        },
        {
          "output_type": "execute_result",
          "data": {
            "text/plain": [
              "{'kaggle.json': b'{\"username\":\"raynoldpanji\",\"key\":\"a8ffbcc0e57e57752a578052cf0c986b\"}'}"
            ]
          },
          "metadata": {},
          "execution_count": 4
        }
      ]
    },
    {
      "cell_type": "code",
      "source": [
        "!mkdir ~/.kaggle\n",
        "!cp kaggle.json ~/.kaggle/\n",
        "!chmod 600 ~/.kaggle/kaggle.json"
      ],
      "metadata": {
        "id": "S5pR-kIon6EC"
      },
      "execution_count": 5,
      "outputs": []
    },
    {
      "cell_type": "code",
      "source": [
        "!kaggle datasets download -d ananthu017/emotion-detection-fer"
      ],
      "metadata": {
        "colab": {
          "base_uri": "https://localhost:8080/"
        },
        "id": "oJrQYf3Gn76t",
        "outputId": "8e516d14-78e7-4ff6-f255-0cd0ca8b05a0"
      },
      "execution_count": 6,
      "outputs": [
        {
          "output_type": "stream",
          "name": "stdout",
          "text": [
            "Downloading emotion-detection-fer.zip to /content\n",
            " 63% 41.0M/65.2M [00:00<00:00, 105MB/s] \n",
            "100% 65.2M/65.2M [00:00<00:00, 135MB/s]\n"
          ]
        }
      ]
    },
    {
      "cell_type": "code",
      "source": [
        "!mkdir datasets\n",
        "!unzip -q emotion-detection-fer.zip -d datasets\n",
        "!ls datasets"
      ],
      "metadata": {
        "colab": {
          "base_uri": "https://localhost:8080/"
        },
        "id": "YXMEoxqhn9lL",
        "outputId": "e0c6a7b6-0049-4301-9701-15fb8134c758"
      },
      "execution_count": 7,
      "outputs": [
        {
          "output_type": "stream",
          "name": "stdout",
          "text": [
            "test  train\n"
          ]
        }
      ]
    },
    {
      "cell_type": "code",
      "source": [
        "!ls datasets/test"
      ],
      "metadata": {
        "colab": {
          "base_uri": "https://localhost:8080/"
        },
        "id": "zh-MJ47bn_e7",
        "outputId": "142f4681-3d93-45fe-dab2-ca283e86bf59"
      },
      "execution_count": 8,
      "outputs": [
        {
          "output_type": "stream",
          "name": "stdout",
          "text": [
            "angry  disgusted  fearful  happy  neutral  sad\tsurprised\n"
          ]
        }
      ]
    },
    {
      "cell_type": "code",
      "source": [
        "TRAINING_DIR = '/content/datasets/train/'\n",
        "VALIDATION_DIR = '/content/datasets/test/'"
      ],
      "metadata": {
        "id": "OlOfIIOjrGuL"
      },
      "execution_count": 9,
      "outputs": []
    },
    {
      "cell_type": "code",
      "source": [
        "import os\n",
        "os.listdir(TRAINING_DIR), os.listdir(VALIDATION_DIR)"
      ],
      "metadata": {
        "colab": {
          "base_uri": "https://localhost:8080/"
        },
        "id": "12fnmXojqv6m",
        "outputId": "d5aa1ada-9918-42cb-e4fd-0d830832c4e3"
      },
      "execution_count": 10,
      "outputs": [
        {
          "output_type": "execute_result",
          "data": {
            "text/plain": [
              "(['surprised', 'angry', 'neutral', 'sad', 'fearful', 'disgusted', 'happy'],\n",
              " ['surprised', 'angry', 'neutral', 'sad', 'fearful', 'disgusted', 'happy'])"
            ]
          },
          "metadata": {},
          "execution_count": 10
        }
      ]
    },
    {
      "cell_type": "code",
      "source": [
        "## cek jumlah dataset\n",
        "def jum_data():\n",
        "  train = []\n",
        "  val = []\n",
        "  lists = os.listdir(TRAINING_DIR)\n",
        "  for cls in lists:\n",
        "    train.append(len(os.listdir(os.path.join(TRAINING_DIR, cls))))\n",
        "  for cls in lists:\n",
        "    val.append(len(os.listdir(os.path.join(VALIDATION_DIR, cls))))\n",
        "  return train, val, lists\n",
        "\n",
        "def cek_data():\n",
        "  chs = []\n",
        "  train, val, lists = jum_data()\n",
        "  \n",
        "  msg=\"\\n======================================\"\n",
        "  for i, cls in enumerate(lists):\n",
        "    tot = train[i]+val[i]\n",
        "    ch = round(tot*0.8)\n",
        "    chs.append(ch-train[i])\n",
        "    percen = \": \"+str(80)+\"% dari total ✓✓\" if (ch==train[i]) else \"-\"\n",
        "    msg=msg+f\"\\ntotal {cls}\\t: {train[i]} ===> {ch} {percen}\"\n",
        "  msg=msg+\"\\ntotal : \"+str(sum(train))\n",
        "  \n",
        "  msg=msg+\"\\n======================================\"\n",
        "  for i, cls in enumerate(lists):\n",
        "    tot = train[i]+val[i]\n",
        "    percen = \": \"+str(20)+\"% dari total ✓✓\" if (round(tot*0.2)==val[i]) else \"-\"\n",
        "    msg=msg+f\"\\ntotal {cls}\\t: {val[i]} ===> {round(tot*0.2)} {percen}\"\n",
        "  msg=msg+\"\\ntotal : \"+str(sum(val))\n",
        "\n",
        "  msg=msg+\"\\n======================================\"\n",
        "  return msg, chs\n",
        "\n",
        "print(cek_data()[0])\n",
        "print(cek_data()[1])"
      ],
      "metadata": {
        "colab": {
          "base_uri": "https://localhost:8080/"
        },
        "id": "g2R6Ujhzrumf",
        "outputId": "b3dd7eb2-5e10-498d-d554-0ba08cdf50ab"
      },
      "execution_count": 11,
      "outputs": [
        {
          "output_type": "stream",
          "name": "stdout",
          "text": [
            "\n",
            "======================================\n",
            "total surprised\t: 3171 ===> 3202 -\n",
            "total angry\t: 3995 ===> 3962 -\n",
            "total neutral\t: 4965 ===> 4958 -\n",
            "total sad\t: 4830 ===> 4862 -\n",
            "total fearful\t: 4097 ===> 4097 : 80% dari total ✓✓\n",
            "total disgusted\t: 436 ===> 438 -\n",
            "total happy\t: 7215 ===> 7191 -\n",
            "total : 28709\n",
            "======================================\n",
            "total surprised\t: 831 ===> 800 -\n",
            "total angry\t: 958 ===> 991 -\n",
            "total neutral\t: 1233 ===> 1240 -\n",
            "total sad\t: 1247 ===> 1215 -\n",
            "total fearful\t: 1024 ===> 1024 : 20% dari total ✓✓\n",
            "total disgusted\t: 111 ===> 109 -\n",
            "total happy\t: 1774 ===> 1798 -\n",
            "total : 7178\n",
            "======================================\n",
            "[31, -33, -7, 32, 0, 2, -24]\n"
          ]
        }
      ]
    },
    {
      "cell_type": "code",
      "source": [
        "## hapus folder disgusted\n",
        "import shutil\n",
        "shutil.rmtree(os.path.join(TRAINING_DIR, 'disgusted') )\n",
        "shutil.rmtree(os.path.join(VALIDATION_DIR, 'disgusted'))\n",
        "\n",
        "os.listdir(TRAINING_DIR), os.listdir(VALIDATION_DIR)\n",
        "print(cek_data()[0])\n",
        "print(cek_data()[1])"
      ],
      "metadata": {
        "colab": {
          "base_uri": "https://localhost:8080/"
        },
        "id": "GwlSsqOXZoj6",
        "outputId": "1cc2a84c-2260-413d-9e56-fd7a65cb43c9"
      },
      "execution_count": 12,
      "outputs": [
        {
          "output_type": "stream",
          "name": "stdout",
          "text": [
            "\n",
            "======================================\n",
            "total surprised\t: 3171 ===> 3202 -\n",
            "total angry\t: 3995 ===> 3962 -\n",
            "total neutral\t: 4965 ===> 4958 -\n",
            "total sad\t: 4830 ===> 4862 -\n",
            "total fearful\t: 4097 ===> 4097 : 80% dari total ✓✓\n",
            "total happy\t: 7215 ===> 7191 -\n",
            "total : 28273\n",
            "======================================\n",
            "total surprised\t: 831 ===> 800 -\n",
            "total angry\t: 958 ===> 991 -\n",
            "total neutral\t: 1233 ===> 1240 -\n",
            "total sad\t: 1247 ===> 1215 -\n",
            "total fearful\t: 1024 ===> 1024 : 20% dari total ✓✓\n",
            "total happy\t: 1774 ===> 1798 -\n",
            "total : 7067\n",
            "======================================\n",
            "[31, -33, -7, 32, 0, -24]\n"
          ]
        }
      ]
    },
    {
      "cell_type": "code",
      "source": [
        "## pindahkan gambar agar sesuai kriteria 80/20\n",
        "\n",
        "import random \n",
        "\n",
        "for i, dir_cat in enumerate(jum_data()[2]):\n",
        "  source = None\n",
        "  dest = None\n",
        "\n",
        "  if (cek_data()[1][i])<0:\n",
        "    source = os.path.join(TRAINING_DIR, dir_cat)\n",
        "    dest = os.path.join(VALIDATION_DIR, dir_cat)\n",
        "  elif cek_data()[1][i]>0:\n",
        "    source = os.path.join(VALIDATION_DIR, dir_cat)\n",
        "    dest = os.path.join(TRAINING_DIR, dir_cat)\n",
        "  \n",
        "  if source==None:\n",
        "    continue\n",
        "  print(\"\\n\"+source+\" ====> \"+dest)\n",
        "  files = os.listdir(source)\n",
        "\n",
        "  for file_name in random.sample(files, abs(cek_data()[1][i])):\n",
        "    shutil.move(os.path.join(source, file_name), os.path.join(dest, \"mov_\"+file_name))\n",
        "    print(file_name+\" moved\")\n"
      ],
      "metadata": {
        "colab": {
          "base_uri": "https://localhost:8080/"
        },
        "id": "M_WBWefIitFM",
        "outputId": "f5dbba4e-439a-408a-924b-f0e7e18a3f16"
      },
      "execution_count": 13,
      "outputs": [
        {
          "output_type": "stream",
          "name": "stdout",
          "text": [
            "\n",
            "/content/datasets/test/surprised ====> /content/datasets/train/surprised\n",
            "im549.png moved\n",
            "im618.png moved\n",
            "im760.png moved\n",
            "im380.png moved\n",
            "im459.png moved\n",
            "im765.png moved\n",
            "im227.png moved\n",
            "im20.png moved\n",
            "im201.png moved\n",
            "im81.png moved\n",
            "im467.png moved\n",
            "im379.png moved\n",
            "im676.png moved\n",
            "im770.png moved\n",
            "im649.png moved\n",
            "im783.png moved\n",
            "im79.png moved\n",
            "im125.png moved\n",
            "im510.png moved\n",
            "im701.png moved\n",
            "im453.png moved\n",
            "im413.png moved\n",
            "im648.png moved\n",
            "im713.png moved\n",
            "im325.png moved\n",
            "im247.png moved\n",
            "im576.png moved\n",
            "im405.png moved\n",
            "im803.png moved\n",
            "im226.png moved\n",
            "im473.png moved\n",
            "\n",
            "/content/datasets/train/angry ====> /content/datasets/test/angry\n",
            "im451.png moved\n",
            "im2790.png moved\n",
            "im1637.png moved\n",
            "im1190.png moved\n",
            "im794.png moved\n",
            "im7.png moved\n",
            "im3874.png moved\n",
            "im410.png moved\n",
            "im673.png moved\n",
            "im2350.png moved\n",
            "im1988.png moved\n",
            "im1920.png moved\n",
            "im3335.png moved\n",
            "im1943.png moved\n",
            "im2379.png moved\n",
            "im2057.png moved\n",
            "im2969.png moved\n",
            "im2991.png moved\n",
            "im1260.png moved\n",
            "im2140.png moved\n",
            "im2470.png moved\n",
            "im1787.png moved\n",
            "im3796.png moved\n",
            "im2164.png moved\n",
            "im3740.png moved\n",
            "im2044.png moved\n",
            "im1417.png moved\n",
            "im2961.png moved\n",
            "im1481.png moved\n",
            "im2347.png moved\n",
            "im1066.png moved\n",
            "im1346.png moved\n",
            "im1869.png moved\n",
            "\n",
            "/content/datasets/train/neutral ====> /content/datasets/test/neutral\n",
            "im474.png moved\n",
            "im3956.png moved\n",
            "im3806.png moved\n",
            "im189.png moved\n",
            "im4146.png moved\n",
            "im2274.png moved\n",
            "im3170.png moved\n",
            "\n",
            "/content/datasets/test/sad ====> /content/datasets/train/sad\n",
            "im1039.png moved\n",
            "im322.png moved\n",
            "im242.png moved\n",
            "im906.png moved\n",
            "im72.png moved\n",
            "im267.png moved\n",
            "im624.png moved\n",
            "im1225.png moved\n",
            "im544.png moved\n",
            "im625.png moved\n",
            "im1197.png moved\n",
            "im720.png moved\n",
            "im188.png moved\n",
            "im776.png moved\n",
            "im1140.png moved\n",
            "im1038.png moved\n",
            "im768.png moved\n",
            "im418.png moved\n",
            "im315.png moved\n",
            "im95.png moved\n",
            "im74.png moved\n",
            "im845.png moved\n",
            "im839.png moved\n",
            "im716.png moved\n",
            "im585.png moved\n",
            "im45.png moved\n",
            "im801.png moved\n",
            "im244.png moved\n",
            "im147.png moved\n",
            "im1005.png moved\n",
            "im461.png moved\n",
            "im53.png moved\n",
            "\n",
            "/content/datasets/train/happy ====> /content/datasets/test/happy\n",
            "im1256.png moved\n",
            "im5339.png moved\n",
            "im1682.png moved\n",
            "im6458.png moved\n",
            "im3993.png moved\n",
            "im2752.png moved\n",
            "im6943.png moved\n",
            "im6372.png moved\n",
            "im6729.png moved\n",
            "im4744.png moved\n",
            "im3182.png moved\n",
            "im1493.png moved\n",
            "im4465.png moved\n",
            "im3776.png moved\n",
            "im5822.png moved\n",
            "im21.png moved\n",
            "im6085.png moved\n",
            "im990.png moved\n",
            "im4980.png moved\n",
            "im4808.png moved\n",
            "im106.png moved\n",
            "im4444.png moved\n",
            "im5961.png moved\n",
            "im7080.png moved\n"
          ]
        }
      ]
    },
    {
      "cell_type": "code",
      "source": [
        "print(cek_data()[0])\n",
        "print(cek_data()[1])"
      ],
      "metadata": {
        "colab": {
          "base_uri": "https://localhost:8080/"
        },
        "id": "bbq2JL8NqPx7",
        "outputId": "07bb7587-4b40-496c-8cd3-6852d109deea"
      },
      "execution_count": 14,
      "outputs": [
        {
          "output_type": "stream",
          "name": "stdout",
          "text": [
            "\n",
            "======================================\n",
            "total surprised\t: 3202 ===> 3202 : 80% dari total ✓✓\n",
            "total angry\t: 3962 ===> 3962 : 80% dari total ✓✓\n",
            "total neutral\t: 4958 ===> 4958 : 80% dari total ✓✓\n",
            "total sad\t: 4862 ===> 4862 : 80% dari total ✓✓\n",
            "total fearful\t: 4097 ===> 4097 : 80% dari total ✓✓\n",
            "total happy\t: 7191 ===> 7191 : 80% dari total ✓✓\n",
            "total : 28272\n",
            "======================================\n",
            "total surprised\t: 800 ===> 800 : 20% dari total ✓✓\n",
            "total angry\t: 991 ===> 991 : 20% dari total ✓✓\n",
            "total neutral\t: 1240 ===> 1240 : 20% dari total ✓✓\n",
            "total sad\t: 1215 ===> 1215 : 20% dari total ✓✓\n",
            "total fearful\t: 1024 ===> 1024 : 20% dari total ✓✓\n",
            "total happy\t: 1798 ===> 1798 : 20% dari total ✓✓\n",
            "total : 7068\n",
            "======================================\n",
            "[0, 0, 0, 0, 0, 0]\n"
          ]
        }
      ]
    },
    {
      "cell_type": "markdown",
      "source": [
        "# Data Preprocessing"
      ],
      "metadata": {
        "id": "-xhxgsHroizr"
      }
    },
    {
      "cell_type": "code",
      "source": [
        "## Augmentasi data\n",
        "\n",
        "img_height = 150\n",
        "img_width = 150\n",
        "batch_size = 35\n",
        "\n",
        "from keras.preprocessing.image import ImageDataGenerator\n",
        "training_datagen = ImageDataGenerator(\n",
        "    rescale = 1.0/255.0,\n",
        "    shear_range=0.2,\n",
        "    horizontal_flip=True,\n",
        "    fill_mode='nearest',\n",
        ")\n",
        "\n",
        "train_generator = training_datagen.flow_from_directory(\n",
        "    TRAINING_DIR, \n",
        "    class_mode='categorical', \n",
        "    target_size=(img_height, img_width), \n",
        "    batch_size=batch_size\n",
        ")\n",
        "\n",
        "\n",
        "\n",
        "validation_datagen = ImageDataGenerator(\n",
        "    rescale=1./255,        \n",
        ")\n",
        "\n",
        "validation_generator = validation_datagen.flow_from_directory(      \n",
        "    VALIDATION_DIR,    \n",
        "    class_mode='categorical',\n",
        "    target_size=(img_height, img_width),\n",
        "    batch_size=batch_size\n",
        ")"
      ],
      "metadata": {
        "colab": {
          "base_uri": "https://localhost:8080/"
        },
        "id": "BHfKTaFwoOk4",
        "outputId": "731b619a-2498-4d04-c08b-715ccee96ae5"
      },
      "execution_count": 15,
      "outputs": [
        {
          "output_type": "stream",
          "name": "stdout",
          "text": [
            "Found 28272 images belonging to 6 classes.\n",
            "Found 7068 images belonging to 6 classes.\n"
          ]
        }
      ]
    },
    {
      "cell_type": "markdown",
      "source": [
        "# Training"
      ],
      "metadata": {
        "id": "F-_2rd91wsCc"
      }
    },
    {
      "cell_type": "code",
      "source": [
        "## build architecture\n",
        "num_cls = len(train_generator.class_indices)\n",
        "\n",
        "model = tf.keras.models.Sequential([\n",
        "  tf.keras.layers.Conv2D(64, (3,3), padding=\"same\", activation=\"relu\", input_shape=(150, 150, 3), use_bias=True),\n",
        "  tf.keras.layers.MaxPooling2D(2,2),\n",
        "\n",
        "  tf.keras.layers.Conv2D(128,(3,3), padding=\"same\", activation=\"relu\", use_bias=True, kernel_regularizer=tf.keras.regularizers.l2(l=0.01)),\n",
        "  # tf.keras.layers.Dropout(0.2),\n",
        "  tf.keras.layers.MaxPooling2D(2,2),\n",
        "  \n",
        "  tf.keras.layers.Conv2D(256,(3,3), padding=\"same\", activation=\"relu\", use_bias=True, kernel_regularizer=tf.keras.regularizers.l2(l=0.01)),\n",
        "  # tf.keras.layers.Dropout(0.2),\n",
        "  tf.keras.layers.MaxPooling2D(2,2),\n",
        "\n",
        "  tf.keras.layers.Flatten(),\n",
        "  \n",
        "  tf.keras.layers.Dense(512, activation=\"relu\", use_bias=True, kernel_regularizer=tf.keras.regularizers.l2(l=0.01)),\n",
        "  tf.keras.layers.Dropout(0.2),\n",
        "  \n",
        "  tf.keras.layers.Dense(num_cls, activation=\"softmax\")\n",
        "])\n",
        "\n",
        "model.summary()"
      ],
      "metadata": {
        "colab": {
          "base_uri": "https://localhost:8080/"
        },
        "id": "liJy0PSUtb29",
        "outputId": "dc3ba8ba-c920-4af8-8aca-6981cec0d4b9"
      },
      "execution_count": 16,
      "outputs": [
        {
          "output_type": "stream",
          "name": "stdout",
          "text": [
            "Model: \"sequential\"\n",
            "_________________________________________________________________\n",
            " Layer (type)                Output Shape              Param #   \n",
            "=================================================================\n",
            " conv2d (Conv2D)             (None, 150, 150, 64)      1792      \n",
            "                                                                 \n",
            " max_pooling2d (MaxPooling2D  (None, 75, 75, 64)       0         \n",
            " )                                                               \n",
            "                                                                 \n",
            " conv2d_1 (Conv2D)           (None, 75, 75, 128)       73856     \n",
            "                                                                 \n",
            " max_pooling2d_1 (MaxPooling  (None, 37, 37, 128)      0         \n",
            " 2D)                                                             \n",
            "                                                                 \n",
            " conv2d_2 (Conv2D)           (None, 37, 37, 256)       295168    \n",
            "                                                                 \n",
            " max_pooling2d_2 (MaxPooling  (None, 18, 18, 256)      0         \n",
            " 2D)                                                             \n",
            "                                                                 \n",
            " flatten (Flatten)           (None, 82944)             0         \n",
            "                                                                 \n",
            " dense (Dense)               (None, 512)               42467840  \n",
            "                                                                 \n",
            " dropout (Dropout)           (None, 512)               0         \n",
            "                                                                 \n",
            " dense_1 (Dense)             (None, 6)                 3078      \n",
            "                                                                 \n",
            "=================================================================\n",
            "Total params: 42,841,734\n",
            "Trainable params: 42,841,734\n",
            "Non-trainable params: 0\n",
            "_________________________________________________________________\n"
          ]
        }
      ]
    },
    {
      "cell_type": "code",
      "source": [
        "## compile model\n",
        "\n",
        "opt_adam = tf.optimizers.Adam(learning_rate=1e-2)\n",
        "opt_rms = tf.optimizers.RMSprop(learning_rate=1e-4)\n",
        "\n",
        "model.compile(\n",
        "  loss = 'categorical_crossentropy',\n",
        "  optimizer = opt_rms,\n",
        "  metrics = ['accuracy']\n",
        ")"
      ],
      "metadata": {
        "id": "xk5MBgSGw2C0"
      },
      "execution_count": 17,
      "outputs": []
    },
    {
      "cell_type": "code",
      "source": [
        "## define callbacks\n",
        "\n",
        "early_stopping = tf.keras.callbacks.EarlyStopping(\n",
        "  monitor = \"val_accuracy\",\n",
        "  patience = 6,\n",
        "  verbose = 0,\n",
        "  mode = \"auto\",\n",
        "  restore_best_weights=True\n",
        ")\n",
        "\n",
        "callbacks = [early_stopping]"
      ],
      "metadata": {
        "id": "9dDjfIIdw9ge"
      },
      "execution_count": 18,
      "outputs": []
    },
    {
      "cell_type": "code",
      "source": [
        "## Train model\n",
        "\n",
        "STEP_PER_EPOCH = train_generator.n // train_generator.batch_size\n",
        "VALIDATION_STEPS = validation_generator.n // validation_generator.batch_size\n",
        "\n",
        "with tf.device(\"/device:GPU:0\"):\n",
        "  history = model.fit(\n",
        "      train_generator,\n",
        "      steps_per_epoch = STEP_PER_EPOCH,\n",
        "      epochs = 35,\n",
        "      validation_data = validation_generator,\n",
        "      validation_steps = VALIDATION_STEPS,\n",
        "      verbose = 1,\n",
        "      callbacks = callbacks\n",
        "  )"
      ],
      "metadata": {
        "colab": {
          "base_uri": "https://localhost:8080/",
          "height": 408
        },
        "id": "g20fgnMGxNL2",
        "outputId": "cffb3fb9-2783-478a-a862-68e382ce88c9"
      },
      "execution_count": 19,
      "outputs": [
        {
          "output_type": "stream",
          "name": "stdout",
          "text": [
            "Epoch 1/35\n",
            "222/807 [=======>......................] - ETA: 42:17 - loss: 4.2906 - accuracy: 0.2615"
          ]
        },
        {
          "output_type": "error",
          "ename": "KeyboardInterrupt",
          "evalue": "ignored",
          "traceback": [
            "\u001b[0;31m---------------------------------------------------------------------------\u001b[0m",
            "\u001b[0;31mKeyboardInterrupt\u001b[0m                         Traceback (most recent call last)",
            "\u001b[0;32m<ipython-input-19-f2e98599c2bc>\u001b[0m in \u001b[0;36m<module>\u001b[0;34m\u001b[0m\n\u001b[1;32m     12\u001b[0m       \u001b[0mvalidation_steps\u001b[0m \u001b[0;34m=\u001b[0m \u001b[0mVALIDATION_STEPS\u001b[0m\u001b[0;34m,\u001b[0m\u001b[0;34m\u001b[0m\u001b[0;34m\u001b[0m\u001b[0m\n\u001b[1;32m     13\u001b[0m       \u001b[0mverbose\u001b[0m \u001b[0;34m=\u001b[0m \u001b[0;36m1\u001b[0m\u001b[0;34m,\u001b[0m\u001b[0;34m\u001b[0m\u001b[0;34m\u001b[0m\u001b[0m\n\u001b[0;32m---> 14\u001b[0;31m       \u001b[0mcallbacks\u001b[0m \u001b[0;34m=\u001b[0m \u001b[0mcallbacks\u001b[0m\u001b[0;34m\u001b[0m\u001b[0;34m\u001b[0m\u001b[0m\n\u001b[0m\u001b[1;32m     15\u001b[0m   )\n",
            "\u001b[0;32m/usr/local/lib/python3.7/dist-packages/keras/utils/traceback_utils.py\u001b[0m in \u001b[0;36merror_handler\u001b[0;34m(*args, **kwargs)\u001b[0m\n\u001b[1;32m     62\u001b[0m     \u001b[0mfiltered_tb\u001b[0m \u001b[0;34m=\u001b[0m \u001b[0;32mNone\u001b[0m\u001b[0;34m\u001b[0m\u001b[0;34m\u001b[0m\u001b[0m\n\u001b[1;32m     63\u001b[0m     \u001b[0;32mtry\u001b[0m\u001b[0;34m:\u001b[0m\u001b[0;34m\u001b[0m\u001b[0;34m\u001b[0m\u001b[0m\n\u001b[0;32m---> 64\u001b[0;31m       \u001b[0;32mreturn\u001b[0m \u001b[0mfn\u001b[0m\u001b[0;34m(\u001b[0m\u001b[0;34m*\u001b[0m\u001b[0margs\u001b[0m\u001b[0;34m,\u001b[0m \u001b[0;34m**\u001b[0m\u001b[0mkwargs\u001b[0m\u001b[0;34m)\u001b[0m\u001b[0;34m\u001b[0m\u001b[0;34m\u001b[0m\u001b[0m\n\u001b[0m\u001b[1;32m     65\u001b[0m     \u001b[0;32mexcept\u001b[0m \u001b[0mException\u001b[0m \u001b[0;32mas\u001b[0m \u001b[0me\u001b[0m\u001b[0;34m:\u001b[0m  \u001b[0;31m# pylint: disable=broad-except\u001b[0m\u001b[0;34m\u001b[0m\u001b[0;34m\u001b[0m\u001b[0m\n\u001b[1;32m     66\u001b[0m       \u001b[0mfiltered_tb\u001b[0m \u001b[0;34m=\u001b[0m \u001b[0m_process_traceback_frames\u001b[0m\u001b[0;34m(\u001b[0m\u001b[0me\u001b[0m\u001b[0;34m.\u001b[0m\u001b[0m__traceback__\u001b[0m\u001b[0;34m)\u001b[0m\u001b[0;34m\u001b[0m\u001b[0;34m\u001b[0m\u001b[0m\n",
            "\u001b[0;32m/usr/local/lib/python3.7/dist-packages/keras/engine/training.py\u001b[0m in \u001b[0;36mfit\u001b[0;34m(self, x, y, batch_size, epochs, verbose, callbacks, validation_split, validation_data, shuffle, class_weight, sample_weight, initial_epoch, steps_per_epoch, validation_steps, validation_batch_size, validation_freq, max_queue_size, workers, use_multiprocessing)\u001b[0m\n\u001b[1;32m   1382\u001b[0m                 _r=1):\n\u001b[1;32m   1383\u001b[0m               \u001b[0mcallbacks\u001b[0m\u001b[0;34m.\u001b[0m\u001b[0mon_train_batch_begin\u001b[0m\u001b[0;34m(\u001b[0m\u001b[0mstep\u001b[0m\u001b[0;34m)\u001b[0m\u001b[0;34m\u001b[0m\u001b[0;34m\u001b[0m\u001b[0m\n\u001b[0;32m-> 1384\u001b[0;31m               \u001b[0mtmp_logs\u001b[0m \u001b[0;34m=\u001b[0m \u001b[0mself\u001b[0m\u001b[0;34m.\u001b[0m\u001b[0mtrain_function\u001b[0m\u001b[0;34m(\u001b[0m\u001b[0miterator\u001b[0m\u001b[0;34m)\u001b[0m\u001b[0;34m\u001b[0m\u001b[0;34m\u001b[0m\u001b[0m\n\u001b[0m\u001b[1;32m   1385\u001b[0m               \u001b[0;32mif\u001b[0m \u001b[0mdata_handler\u001b[0m\u001b[0;34m.\u001b[0m\u001b[0mshould_sync\u001b[0m\u001b[0;34m:\u001b[0m\u001b[0;34m\u001b[0m\u001b[0;34m\u001b[0m\u001b[0m\n\u001b[1;32m   1386\u001b[0m                 \u001b[0mcontext\u001b[0m\u001b[0;34m.\u001b[0m\u001b[0masync_wait\u001b[0m\u001b[0;34m(\u001b[0m\u001b[0;34m)\u001b[0m\u001b[0;34m\u001b[0m\u001b[0;34m\u001b[0m\u001b[0m\n",
            "\u001b[0;32m/usr/local/lib/python3.7/dist-packages/tensorflow/python/util/traceback_utils.py\u001b[0m in \u001b[0;36merror_handler\u001b[0;34m(*args, **kwargs)\u001b[0m\n\u001b[1;32m    148\u001b[0m     \u001b[0mfiltered_tb\u001b[0m \u001b[0;34m=\u001b[0m \u001b[0;32mNone\u001b[0m\u001b[0;34m\u001b[0m\u001b[0;34m\u001b[0m\u001b[0m\n\u001b[1;32m    149\u001b[0m     \u001b[0;32mtry\u001b[0m\u001b[0;34m:\u001b[0m\u001b[0;34m\u001b[0m\u001b[0;34m\u001b[0m\u001b[0m\n\u001b[0;32m--> 150\u001b[0;31m       \u001b[0;32mreturn\u001b[0m \u001b[0mfn\u001b[0m\u001b[0;34m(\u001b[0m\u001b[0;34m*\u001b[0m\u001b[0margs\u001b[0m\u001b[0;34m,\u001b[0m \u001b[0;34m**\u001b[0m\u001b[0mkwargs\u001b[0m\u001b[0;34m)\u001b[0m\u001b[0;34m\u001b[0m\u001b[0;34m\u001b[0m\u001b[0m\n\u001b[0m\u001b[1;32m    151\u001b[0m     \u001b[0;32mexcept\u001b[0m \u001b[0mException\u001b[0m \u001b[0;32mas\u001b[0m \u001b[0me\u001b[0m\u001b[0;34m:\u001b[0m\u001b[0;34m\u001b[0m\u001b[0;34m\u001b[0m\u001b[0m\n\u001b[1;32m    152\u001b[0m       \u001b[0mfiltered_tb\u001b[0m \u001b[0;34m=\u001b[0m \u001b[0m_process_traceback_frames\u001b[0m\u001b[0;34m(\u001b[0m\u001b[0me\u001b[0m\u001b[0;34m.\u001b[0m\u001b[0m__traceback__\u001b[0m\u001b[0;34m)\u001b[0m\u001b[0;34m\u001b[0m\u001b[0;34m\u001b[0m\u001b[0m\n",
            "\u001b[0;32m/usr/local/lib/python3.7/dist-packages/tensorflow/python/eager/def_function.py\u001b[0m in \u001b[0;36m__call__\u001b[0;34m(self, *args, **kwds)\u001b[0m\n\u001b[1;32m    913\u001b[0m \u001b[0;34m\u001b[0m\u001b[0m\n\u001b[1;32m    914\u001b[0m       \u001b[0;32mwith\u001b[0m \u001b[0mOptionalXlaContext\u001b[0m\u001b[0;34m(\u001b[0m\u001b[0mself\u001b[0m\u001b[0;34m.\u001b[0m\u001b[0m_jit_compile\u001b[0m\u001b[0;34m)\u001b[0m\u001b[0;34m:\u001b[0m\u001b[0;34m\u001b[0m\u001b[0;34m\u001b[0m\u001b[0m\n\u001b[0;32m--> 915\u001b[0;31m         \u001b[0mresult\u001b[0m \u001b[0;34m=\u001b[0m \u001b[0mself\u001b[0m\u001b[0;34m.\u001b[0m\u001b[0m_call\u001b[0m\u001b[0;34m(\u001b[0m\u001b[0;34m*\u001b[0m\u001b[0margs\u001b[0m\u001b[0;34m,\u001b[0m \u001b[0;34m**\u001b[0m\u001b[0mkwds\u001b[0m\u001b[0;34m)\u001b[0m\u001b[0;34m\u001b[0m\u001b[0;34m\u001b[0m\u001b[0m\n\u001b[0m\u001b[1;32m    916\u001b[0m \u001b[0;34m\u001b[0m\u001b[0m\n\u001b[1;32m    917\u001b[0m       \u001b[0mnew_tracing_count\u001b[0m \u001b[0;34m=\u001b[0m \u001b[0mself\u001b[0m\u001b[0;34m.\u001b[0m\u001b[0mexperimental_get_tracing_count\u001b[0m\u001b[0;34m(\u001b[0m\u001b[0;34m)\u001b[0m\u001b[0;34m\u001b[0m\u001b[0;34m\u001b[0m\u001b[0m\n",
            "\u001b[0;32m/usr/local/lib/python3.7/dist-packages/tensorflow/python/eager/def_function.py\u001b[0m in \u001b[0;36m_call\u001b[0;34m(self, *args, **kwds)\u001b[0m\n\u001b[1;32m    945\u001b[0m       \u001b[0;31m# In this case we have created variables on the first call, so we run the\u001b[0m\u001b[0;34m\u001b[0m\u001b[0;34m\u001b[0m\u001b[0;34m\u001b[0m\u001b[0m\n\u001b[1;32m    946\u001b[0m       \u001b[0;31m# defunned version which is guaranteed to never create variables.\u001b[0m\u001b[0;34m\u001b[0m\u001b[0;34m\u001b[0m\u001b[0;34m\u001b[0m\u001b[0m\n\u001b[0;32m--> 947\u001b[0;31m       \u001b[0;32mreturn\u001b[0m \u001b[0mself\u001b[0m\u001b[0;34m.\u001b[0m\u001b[0m_stateless_fn\u001b[0m\u001b[0;34m(\u001b[0m\u001b[0;34m*\u001b[0m\u001b[0margs\u001b[0m\u001b[0;34m,\u001b[0m \u001b[0;34m**\u001b[0m\u001b[0mkwds\u001b[0m\u001b[0;34m)\u001b[0m  \u001b[0;31m# pylint: disable=not-callable\u001b[0m\u001b[0;34m\u001b[0m\u001b[0;34m\u001b[0m\u001b[0m\n\u001b[0m\u001b[1;32m    948\u001b[0m     \u001b[0;32melif\u001b[0m \u001b[0mself\u001b[0m\u001b[0;34m.\u001b[0m\u001b[0m_stateful_fn\u001b[0m \u001b[0;32mis\u001b[0m \u001b[0;32mnot\u001b[0m \u001b[0;32mNone\u001b[0m\u001b[0;34m:\u001b[0m\u001b[0;34m\u001b[0m\u001b[0;34m\u001b[0m\u001b[0m\n\u001b[1;32m    949\u001b[0m       \u001b[0;31m# Release the lock early so that multiple threads can perform the call\u001b[0m\u001b[0;34m\u001b[0m\u001b[0;34m\u001b[0m\u001b[0;34m\u001b[0m\u001b[0m\n",
            "\u001b[0;32m/usr/local/lib/python3.7/dist-packages/tensorflow/python/eager/function.py\u001b[0m in \u001b[0;36m__call__\u001b[0;34m(self, *args, **kwargs)\u001b[0m\n\u001b[1;32m   2955\u001b[0m        filtered_flat_args) = self._maybe_define_function(args, kwargs)\n\u001b[1;32m   2956\u001b[0m     return graph_function._call_flat(\n\u001b[0;32m-> 2957\u001b[0;31m         filtered_flat_args, captured_inputs=graph_function.captured_inputs)  # pylint: disable=protected-access\n\u001b[0m\u001b[1;32m   2958\u001b[0m \u001b[0;34m\u001b[0m\u001b[0m\n\u001b[1;32m   2959\u001b[0m   \u001b[0;34m@\u001b[0m\u001b[0mproperty\u001b[0m\u001b[0;34m\u001b[0m\u001b[0;34m\u001b[0m\u001b[0m\n",
            "\u001b[0;32m/usr/local/lib/python3.7/dist-packages/tensorflow/python/eager/function.py\u001b[0m in \u001b[0;36m_call_flat\u001b[0;34m(self, args, captured_inputs, cancellation_manager)\u001b[0m\n\u001b[1;32m   1852\u001b[0m       \u001b[0;31m# No tape is watching; skip to running the function.\u001b[0m\u001b[0;34m\u001b[0m\u001b[0;34m\u001b[0m\u001b[0;34m\u001b[0m\u001b[0m\n\u001b[1;32m   1853\u001b[0m       return self._build_call_outputs(self._inference_function.call(\n\u001b[0;32m-> 1854\u001b[0;31m           ctx, args, cancellation_manager=cancellation_manager))\n\u001b[0m\u001b[1;32m   1855\u001b[0m     forward_backward = self._select_forward_and_backward_functions(\n\u001b[1;32m   1856\u001b[0m         \u001b[0margs\u001b[0m\u001b[0;34m,\u001b[0m\u001b[0;34m\u001b[0m\u001b[0;34m\u001b[0m\u001b[0m\n",
            "\u001b[0;32m/usr/local/lib/python3.7/dist-packages/tensorflow/python/eager/function.py\u001b[0m in \u001b[0;36mcall\u001b[0;34m(self, ctx, args, cancellation_manager)\u001b[0m\n\u001b[1;32m    502\u001b[0m               \u001b[0minputs\u001b[0m\u001b[0;34m=\u001b[0m\u001b[0margs\u001b[0m\u001b[0;34m,\u001b[0m\u001b[0;34m\u001b[0m\u001b[0;34m\u001b[0m\u001b[0m\n\u001b[1;32m    503\u001b[0m               \u001b[0mattrs\u001b[0m\u001b[0;34m=\u001b[0m\u001b[0mattrs\u001b[0m\u001b[0;34m,\u001b[0m\u001b[0;34m\u001b[0m\u001b[0;34m\u001b[0m\u001b[0m\n\u001b[0;32m--> 504\u001b[0;31m               ctx=ctx)\n\u001b[0m\u001b[1;32m    505\u001b[0m         \u001b[0;32melse\u001b[0m\u001b[0;34m:\u001b[0m\u001b[0;34m\u001b[0m\u001b[0;34m\u001b[0m\u001b[0m\n\u001b[1;32m    506\u001b[0m           outputs = execute.execute_with_cancellation(\n",
            "\u001b[0;32m/usr/local/lib/python3.7/dist-packages/tensorflow/python/eager/execute.py\u001b[0m in \u001b[0;36mquick_execute\u001b[0;34m(op_name, num_outputs, inputs, attrs, ctx, name)\u001b[0m\n\u001b[1;32m     53\u001b[0m     \u001b[0mctx\u001b[0m\u001b[0;34m.\u001b[0m\u001b[0mensure_initialized\u001b[0m\u001b[0;34m(\u001b[0m\u001b[0;34m)\u001b[0m\u001b[0;34m\u001b[0m\u001b[0;34m\u001b[0m\u001b[0m\n\u001b[1;32m     54\u001b[0m     tensors = pywrap_tfe.TFE_Py_Execute(ctx._handle, device_name, op_name,\n\u001b[0;32m---> 55\u001b[0;31m                                         inputs, attrs, num_outputs)\n\u001b[0m\u001b[1;32m     56\u001b[0m   \u001b[0;32mexcept\u001b[0m \u001b[0mcore\u001b[0m\u001b[0;34m.\u001b[0m\u001b[0m_NotOkStatusException\u001b[0m \u001b[0;32mas\u001b[0m \u001b[0me\u001b[0m\u001b[0;34m:\u001b[0m\u001b[0;34m\u001b[0m\u001b[0;34m\u001b[0m\u001b[0m\n\u001b[1;32m     57\u001b[0m     \u001b[0;32mif\u001b[0m \u001b[0mname\u001b[0m \u001b[0;32mis\u001b[0m \u001b[0;32mnot\u001b[0m \u001b[0;32mNone\u001b[0m\u001b[0;34m:\u001b[0m\u001b[0;34m\u001b[0m\u001b[0;34m\u001b[0m\u001b[0m\n",
            "\u001b[0;31mKeyboardInterrupt\u001b[0m: "
          ]
        }
      ]
    },
    {
      "cell_type": "code",
      "source": [
        "## model evaluate\n",
        "\n",
        "loss, acc = model.evaluate(validation_generator)\n",
        "print(f\"valid accuracy: {acc*100}% \\nvalid loss: {loss*100}%\")"
      ],
      "metadata": {
        "colab": {
          "base_uri": "https://localhost:8080/"
        },
        "id": "S7AvzYJwNq6L",
        "outputId": "5afaf2b3-5c67-4a33-f73b-b27a7b8eefa0"
      },
      "execution_count": 12,
      "outputs": [
        {
          "output_type": "stream",
          "name": "stdout",
          "text": [
            "202/202 [==============================] - 7s 36ms/step - loss: 1.7724 - accuracy: 0.2544\n",
            "valid accuracy: 25.438597798347473% \n",
            "valid loss: 177.2369623184204%\n"
          ]
        }
      ]
    },
    {
      "cell_type": "markdown",
      "source": [
        "# Plot Result"
      ],
      "metadata": {
        "id": "crZPxIKEL7ib"
      }
    },
    {
      "cell_type": "code",
      "source": [
        "## Plot accuracy dan Loss\n",
        "\n",
        "import matplotlib.pyplot as plt\n",
        "\n",
        "loss = history.history['loss']\n",
        "val_loss = history.history['val_loss']\n",
        "\n",
        "acc = history.history['accuracy']\n",
        "val_acc = history.history['val_accuracy']\n",
        "\n",
        "plt.figure(figsize=(15, 5))\n",
        "\n",
        "plt.subplot(1, 2, 1)\n",
        "plt.title('Loss')\n",
        "plt.xlabel('Epoch')\n",
        "plt.ylabel('Loss')\n",
        "plt.plot(loss, label='Training set')\n",
        "plt.plot(val_loss, label='Validation set', linestyle='--')\n",
        "plt.legend()\n",
        "plt.grid(linestyle='--', linewidth=1, alpha=0.5)\n",
        "\n",
        "plt.subplot(1, 2, 2)\n",
        "plt.title('Accuracy')\n",
        "plt.xlabel('Epoch')\n",
        "plt.ylabel('Accuracy')\n",
        "plt.plot(acc, label='Training set')\n",
        "plt.plot(val_acc, label='Validation set', linestyle='--')\n",
        "plt.legend()\n",
        "plt.grid(linestyle='--', linewidth=1, alpha=0.5)\n",
        "\n",
        "plt.show()"
      ],
      "metadata": {
        "colab": {
          "base_uri": "https://localhost:8080/",
          "height": 350
        },
        "id": "gH3n7WgIxvSn",
        "outputId": "9c473070-9468-418a-b97d-cb45cf32f9a7"
      },
      "execution_count": 197,
      "outputs": [
        {
          "output_type": "display_data",
          "data": {
            "text/plain": [
              "<Figure size 1080x360 with 2 Axes>"
            ],
            "image/png": "[encoded data removed]"
          },
          "metadata": {
            "needs_background": "light"
          }
        }
      ]
    },
    {
      "cell_type": "code",
      "source": [
        "np.argmax(model.predict(validation_generator), axis=1)"
      ],
      "metadata": {
        "colab": {
          "base_uri": "https://localhost:8080/",
          "height": 169
        },
        "id": "m-SScmk6C48N",
        "outputId": "645ae98b-7376-4c0c-89e2-aa2da546f85c"
      },
      "execution_count": 1,
      "outputs": [
        {
          "output_type": "error",
          "ename": "NameError",
          "evalue": "ignored",
          "traceback": [
            "\u001b[0;31m---------------------------------------------------------------------------\u001b[0m",
            "\u001b[0;31mNameError\u001b[0m                                 Traceback (most recent call last)",
            "\u001b[0;32m<ipython-input-1-da07b8a63e39>\u001b[0m in \u001b[0;36m<module>\u001b[0;34m\u001b[0m\n\u001b[0;32m----> 1\u001b[0;31m \u001b[0mvalidation_generator\u001b[0m\u001b[0;34m\u001b[0m\u001b[0;34m\u001b[0m\u001b[0m\n\u001b[0m",
            "\u001b[0;31mNameError\u001b[0m: name 'validation_generator' is not defined"
          ]
        }
      ]
    },
    {
      "cell_type": "code",
      "source": [
        "np.argmax(validation_generator.classes, axis=1)"
      ],
      "metadata": {
        "id": "wjOnnLWRFsO0"
      },
      "execution_count": null,
      "outputs": []
    },
    {
      "cell_type": "code",
      "source": [
        "from sklearn.metrics import ConfusionMatrixDisplay, confusion_matrix, classification_report\n",
        "import numpy as np\n",
        "\n",
        "Y_pred = model.predict(validation_generator)\n",
        "y_pred = np.argmax(Y_pred, axis=1)\n",
        "\n",
        "labels_list = list(train_generator.class_indices.keys())\n",
        "\n",
        "\n",
        "fig, ax = plt.subplots(figsize=(18, 6))\n",
        "cm = confusion_matrix(validation_generator.classes, y_pred)\n",
        "disp = ConfusionMatrixDisplay(confusion_matrix=cm, display_labels=labels_list)\n",
        "disp.plot(cmap=plt.cm.Greens, ax=ax)\n",
        "plt.title(\"==== Confusion Matrix ===== \\n\")\n",
        "plt.show()\n",
        "\n",
        "\n",
        "print(\"=============== Classification Report ================\")\n",
        "labels_test = np.argmax(validation_generator.classes, axis=1)\n",
        "print(classification_report(labels_test, y_pred, target_names=labels_list))"
      ],
      "metadata": {
        "colab": {
          "base_uri": "https://localhost:8080/",
          "height": 827
        },
        "id": "5BoI06VZPOv2",
        "outputId": "4f254da9-b669-4af7-f084-340a343a195a"
      },
      "execution_count": 198,
      "outputs": [
        {
          "output_type": "display_data",
          "data": {
            "text/plain": [
              "<Figure size 1296x432 with 2 Axes>"
            ],
            "image/png": "[encoded data removed]"
          },
          "metadata": {
            "needs_background": "light"
          }
        },
        {
          "output_type": "stream",
          "name": "stdout",
          "text": [
            "========= Classification Report ==========\n"
          ]
        },
        {
          "output_type": "error",
          "ename": "AxisError",
          "evalue": "ignored",
          "traceback": [
            "\u001b[0;31m---------------------------------------------------------------------------\u001b[0m",
            "\u001b[0;31mAxisError\u001b[0m                                 Traceback (most recent call last)",
            "\u001b[0;32m<ipython-input-198-02f1e49a9564>\u001b[0m in \u001b[0;36m<module>\u001b[0;34m\u001b[0m\n\u001b[1;32m     17\u001b[0m \u001b[0;34m\u001b[0m\u001b[0m\n\u001b[1;32m     18\u001b[0m \u001b[0mprint\u001b[0m\u001b[0;34m(\u001b[0m\u001b[0;34m\"========= Classification Report ==========\"\u001b[0m\u001b[0;34m)\u001b[0m\u001b[0;34m\u001b[0m\u001b[0;34m\u001b[0m\u001b[0m\n\u001b[0;32m---> 19\u001b[0;31m \u001b[0mlabels_test\u001b[0m \u001b[0;34m=\u001b[0m \u001b[0mnp\u001b[0m\u001b[0;34m.\u001b[0m\u001b[0margmax\u001b[0m\u001b[0;34m(\u001b[0m\u001b[0mvalidation_generator\u001b[0m\u001b[0;34m.\u001b[0m\u001b[0mclasses\u001b[0m\u001b[0;34m,\u001b[0m \u001b[0maxis\u001b[0m\u001b[0;34m=\u001b[0m\u001b[0;36m1\u001b[0m\u001b[0;34m)\u001b[0m\u001b[0;34m\u001b[0m\u001b[0;34m\u001b[0m\u001b[0m\n\u001b[0m\u001b[1;32m     20\u001b[0m \u001b[0mprint\u001b[0m\u001b[0;34m(\u001b[0m\u001b[0mclassification_report\u001b[0m\u001b[0;34m(\u001b[0m\u001b[0mlabels_test\u001b[0m\u001b[0;34m,\u001b[0m \u001b[0my_pred\u001b[0m\u001b[0;34m,\u001b[0m \u001b[0mtarget_names\u001b[0m\u001b[0;34m=\u001b[0m\u001b[0mlabels_list\u001b[0m\u001b[0;34m)\u001b[0m\u001b[0;34m)\u001b[0m\u001b[0;34m\u001b[0m\u001b[0;34m\u001b[0m\u001b[0m\n",
            "\u001b[0;32m<__array_function__ internals>\u001b[0m in \u001b[0;36margmax\u001b[0;34m(*args, **kwargs)\u001b[0m\n",
            "\u001b[0;32m/usr/local/lib/python3.7/dist-packages/numpy/core/fromnumeric.py\u001b[0m in \u001b[0;36margmax\u001b[0;34m(a, axis, out)\u001b[0m\n\u001b[1;32m   1193\u001b[0m \u001b[0;34m\u001b[0m\u001b[0m\n\u001b[1;32m   1194\u001b[0m     \"\"\"\n\u001b[0;32m-> 1195\u001b[0;31m     \u001b[0;32mreturn\u001b[0m \u001b[0m_wrapfunc\u001b[0m\u001b[0;34m(\u001b[0m\u001b[0ma\u001b[0m\u001b[0;34m,\u001b[0m \u001b[0;34m'argmax'\u001b[0m\u001b[0;34m,\u001b[0m \u001b[0maxis\u001b[0m\u001b[0;34m=\u001b[0m\u001b[0maxis\u001b[0m\u001b[0;34m,\u001b[0m \u001b[0mout\u001b[0m\u001b[0;34m=\u001b[0m\u001b[0mout\u001b[0m\u001b[0;34m)\u001b[0m\u001b[0;34m\u001b[0m\u001b[0;34m\u001b[0m\u001b[0m\n\u001b[0m\u001b[1;32m   1196\u001b[0m \u001b[0;34m\u001b[0m\u001b[0m\n\u001b[1;32m   1197\u001b[0m \u001b[0;34m\u001b[0m\u001b[0m\n",
            "\u001b[0;32m/usr/local/lib/python3.7/dist-packages/numpy/core/fromnumeric.py\u001b[0m in \u001b[0;36m_wrapfunc\u001b[0;34m(obj, method, *args, **kwds)\u001b[0m\n\u001b[1;32m     55\u001b[0m \u001b[0;34m\u001b[0m\u001b[0m\n\u001b[1;32m     56\u001b[0m     \u001b[0;32mtry\u001b[0m\u001b[0;34m:\u001b[0m\u001b[0;34m\u001b[0m\u001b[0;34m\u001b[0m\u001b[0m\n\u001b[0;32m---> 57\u001b[0;31m         \u001b[0;32mreturn\u001b[0m \u001b[0mbound\u001b[0m\u001b[0;34m(\u001b[0m\u001b[0;34m*\u001b[0m\u001b[0margs\u001b[0m\u001b[0;34m,\u001b[0m \u001b[0;34m**\u001b[0m\u001b[0mkwds\u001b[0m\u001b[0;34m)\u001b[0m\u001b[0;34m\u001b[0m\u001b[0;34m\u001b[0m\u001b[0m\n\u001b[0m\u001b[1;32m     58\u001b[0m     \u001b[0;32mexcept\u001b[0m \u001b[0mTypeError\u001b[0m\u001b[0;34m:\u001b[0m\u001b[0;34m\u001b[0m\u001b[0;34m\u001b[0m\u001b[0m\n\u001b[1;32m     59\u001b[0m         \u001b[0;31m# A TypeError occurs if the object does have such a method in its\u001b[0m\u001b[0;34m\u001b[0m\u001b[0;34m\u001b[0m\u001b[0;34m\u001b[0m\u001b[0m\n",
            "\u001b[0;31mAxisError\u001b[0m: axis 1 is out of bounds for array of dimension 1"
          ]
        }
      ]
    },
    {
      "cell_type": "code",
      "source": [
        "# import numpy as np\n",
        "# from sklearn.metrics import confusion_matrix, classification_report\n",
        "\n",
        "\n",
        "# predictions = model.predict(X_test)\n",
        "# prediction_labels = np.argmax(predictions, axis=1)\n",
        "# labels_test = np.argmax(y_test, axis=1)\n",
        "\n",
        "# labels_list = list(train_generator.class_indices.keys())\n",
        "\n",
        "\n",
        "# print(\"================== Classification Report =====================\")\n",
        "# print(classification_report(labels_test, prediction_labels, target_names=label_list))\n",
        "# print(\"===============================================================\")\n",
        "# print(\"==================== Confusing Matrix ========================\")\n",
        "# pd.DataFrame(confusion_matrix(labels_test, prediction_labels), index=label_list, columns=label_list)"
      ],
      "metadata": {
        "id": "7xF9L48KMQVa"
      },
      "execution_count": null,
      "outputs": []
    },
    {
      "cell_type": "markdown",
      "source": [
        "# Deployment"
      ],
      "metadata": {
        "id": "Pvnzk-jMMOeb"
      }
    },
    {
      "cell_type": "code",
      "source": [
        "## save model keras *.h5\n",
        "\n",
        "if os.path.exists('model')==False:\n",
        "  os.mkdir('model')\n",
        "\n",
        "model.save_weights(\"/content/model/model_weights.h5\")\n",
        "model.save(\"/content/model/model.h5\")"
      ],
      "metadata": {
        "id": "kckblqavxjm0"
      },
      "execution_count": null,
      "outputs": []
    },
    {
      "cell_type": "code",
      "source": [
        "import warnings\n",
        "warnings.filterwarnings('ignore')\n",
        "\n",
        "## Convert Model keras ke tflite\n",
        "converter = tf.lite.TFLiteConverter.from_keras_model(model)\n",
        "tflite_model = converter.convert()\n",
        "\n",
        "## save model *.tflite\n",
        "with open('/content/model/model.tflite', 'wb') as f:\n",
        "  f.write(tflite_model)"
      ],
      "metadata": {
        "id": "XwD0122JUcxD"
      },
      "execution_count": null,
      "outputs": []
    }
  ]
}